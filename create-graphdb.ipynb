{
 "cells": [
  {
   "cell_type": "code",
   "execution_count": 1,
   "metadata": {},
   "outputs": [],
   "source": [
    "from pathlib import Path\n",
    "from shutil import rmtree\n",
    "\n",
    "import altair as alt\n",
    "import kuzu\n",
    "import polars as pl\n",
    "\n",
    "from ddl import sct, icd\n",
    "\n",
    "\n",
    "snomed_data = Path(\"./data/external/snomed-ips/Snapshot/Terminology/\")\n",
    "kuzu_path = Path(\"./data/internal/kuzu-db/\")\n",
    "if kuzu_path.exists:\n",
    "    rmtree(kuzu_path)\n",
    "\n",
    "db = kuzu.Database(kuzu_path)\n",
    "conn = kuzu.Connection(db)\n",
    "\n",
    "\n",
    "def read_snomed(path: Path) -> pl.DataFrame:\n",
    "    return pl.read_csv(path, separator=\"\\t\").with_columns(\n",
    "        pl.col(\"effectiveTime\").cast(pl.String).str.to_date(\"%Y%m%d\"),\n",
    "        pl.col(\"active\").cast(pl.Boolean),\n",
    "    )\n"
   ]
  },
  {
   "cell_type": "code",
   "execution_count": 2,
   "metadata": {},
   "outputs": [
    {
     "data": {
      "text/html": [
       "<div><style>\n",
       ".dataframe > thead > tr,\n",
       ".dataframe > tbody > tr {\n",
       "  text-align: right;\n",
       "  white-space: pre-wrap;\n",
       "}\n",
       "</style>\n",
       "<small>shape: (2, 2)</small><table border=\"1\" class=\"dataframe\"><thead><tr><th>typeId</th><th>count</th></tr><tr><td>i64</td><td>u32</td></tr></thead><tbody><tr><td>900000000000003001</td><td>19697</td></tr><tr><td>900000000000013009</td><td>40417</td></tr></tbody></table></div>"
      ],
      "text/plain": [
       "shape: (2, 2)\n",
       "┌────────────────────┬───────┐\n",
       "│ typeId             ┆ count │\n",
       "│ ---                ┆ ---   │\n",
       "│ i64                ┆ u32   │\n",
       "╞════════════════════╪═══════╡\n",
       "│ 900000000000003001 ┆ 19697 │\n",
       "│ 900000000000013009 ┆ 40417 │\n",
       "└────────────────────┴───────┘"
      ]
     },
     "execution_count": 2,
     "metadata": {},
     "output_type": "execute_result"
    }
   ],
   "source": [
    "Description = read_snomed(\n",
    "    snomed_data / \"sct2_Description_IPSSnapshot-en_IPST_20240701.txt\"\n",
    ")\n",
    "\n",
    "# Two type of descriptions:\n",
    "# 900000000000003001 | Fully qualified name\n",
    "# 900000000000013009 | Synonyms\n",
    "Description.select(pl.col(\"typeId\").value_counts()).unnest(\"typeId\")"
   ]
  },
  {
   "cell_type": "code",
   "execution_count": 3,
   "metadata": {},
   "outputs": [
    {
     "data": {
      "text/plain": [
       "[<kuzu.query_result.QueryResult at 0x11bded250>,\n",
       " <kuzu.query_result.QueryResult at 0x11bded290>]"
      ]
     },
     "execution_count": 3,
     "metadata": {},
     "output_type": "execute_result"
    }
   ],
   "source": [
    "# load Concept\n",
    "fullname = Description.filter(pl.col(\"typeId\") == 900000000000003001).select(\n",
    "    pl.col(\"conceptId\"), pl.col(\"term\").alias(\"fullQualifiedName\")\n",
    ")\n",
    "synonyms = (\n",
    "    Description.filter(pl.col(\"typeId\") == 900000000000013009)\n",
    "    .select(pl.col(\"conceptId\"), pl.col(\"term\").alias(\"synonyms\"))\n",
    "    .group_by(pl.col(\"conceptId\"))\n",
    "    .agg(\"synonyms\")\n",
    ")\n",
    "\n",
    "join_concept = dict(how=\"left\", left_on=\"id\", right_on=\"conceptId\")\n",
    "Concept = (\n",
    "    read_snomed(snomed_data / \"sct2_Concept_IPSSnapshot_IPST_20240701.txt\")\n",
    "    .join(fullname, **join_concept)\n",
    "    .join(synonyms, **join_concept)\n",
    ")\n",
    "\n",
    "conn.execute(sct.concept + \"COPY SCT FROM Concept;\")"
   ]
  },
  {
   "cell_type": "code",
   "execution_count": 4,
   "metadata": {},
   "outputs": [],
   "source": [
    "# load Relationship, note we need to change ordering of columns for loading in Kuzu\n",
    "join_relationship = dict(how=\"left\", left_on=\"typeId\", right_on=\"conceptId\")\n",
    "Relationship = (\n",
    "    read_snomed(snomed_data / \"sct2_Relationship_IPSSnapshot_IPST_20240701.txt\")\n",
    "    .select(\n",
    "        pl.col(\n",
    "            [\n",
    "                \"sourceId\",\n",
    "                \"destinationId\",\n",
    "                \"id\",\n",
    "                \"effectiveTime\",\n",
    "                \"active\",\n",
    "                \"moduleId\",\n",
    "                \"relationshipGroup\",\n",
    "                \"typeId\",\n",
    "                \"characteristicTypeId\",\n",
    "                \"modifierId\",\n",
    "            ]\n",
    "        )\n",
    "    )\n",
    "    .join(fullname, **join_relationship)\n",
    "    .join(synonyms, **join_relationship)\n",
    ")"
   ]
  },
  {
   "cell_type": "code",
   "execution_count": 5,
   "metadata": {},
   "outputs": [
    {
     "name": "stdout",
     "output_type": "stream",
     "text": [
      "(66017, 12)\n"
     ]
    },
    {
     "data": {
      "text/html": [
       "\n",
       "<style>\n",
       "  #altair-viz-720ce300d8d948ea847cc2b017c4bdd7.vega-embed {\n",
       "    width: 100%;\n",
       "    display: flex;\n",
       "  }\n",
       "\n",
       "  #altair-viz-720ce300d8d948ea847cc2b017c4bdd7.vega-embed details,\n",
       "  #altair-viz-720ce300d8d948ea847cc2b017c4bdd7.vega-embed details summary {\n",
       "    position: relative;\n",
       "  }\n",
       "</style>\n",
       "<div id=\"altair-viz-720ce300d8d948ea847cc2b017c4bdd7\"></div>\n",
       "<script type=\"text/javascript\">\n",
       "  var VEGA_DEBUG = (typeof VEGA_DEBUG == \"undefined\") ? {} : VEGA_DEBUG;\n",
       "  (function(spec, embedOpt){\n",
       "    let outputDiv = document.currentScript.previousElementSibling;\n",
       "    if (outputDiv.id !== \"altair-viz-720ce300d8d948ea847cc2b017c4bdd7\") {\n",
       "      outputDiv = document.getElementById(\"altair-viz-720ce300d8d948ea847cc2b017c4bdd7\");\n",
       "    }\n",
       "\n",
       "    const paths = {\n",
       "      \"vega\": \"https://cdn.jsdelivr.net/npm/vega@5?noext\",\n",
       "      \"vega-lib\": \"https://cdn.jsdelivr.net/npm/vega-lib?noext\",\n",
       "      \"vega-lite\": \"https://cdn.jsdelivr.net/npm/vega-lite@5.20.1?noext\",\n",
       "      \"vega-embed\": \"https://cdn.jsdelivr.net/npm/vega-embed@6?noext\",\n",
       "    };\n",
       "\n",
       "    function maybeLoadScript(lib, version) {\n",
       "      var key = `${lib.replace(\"-\", \"\")}_version`;\n",
       "      return (VEGA_DEBUG[key] == version) ?\n",
       "        Promise.resolve(paths[lib]) :\n",
       "        new Promise(function(resolve, reject) {\n",
       "          var s = document.createElement('script');\n",
       "          document.getElementsByTagName(\"head\")[0].appendChild(s);\n",
       "          s.async = true;\n",
       "          s.onload = () => {\n",
       "            VEGA_DEBUG[key] = version;\n",
       "            return resolve(paths[lib]);\n",
       "          };\n",
       "          s.onerror = () => reject(`Error loading script: ${paths[lib]}`);\n",
       "          s.src = paths[lib];\n",
       "        });\n",
       "    }\n",
       "\n",
       "    function showError(err) {\n",
       "      outputDiv.innerHTML = `<div class=\"error\" style=\"color:red;\">${err}</div>`;\n",
       "      throw err;\n",
       "    }\n",
       "\n",
       "    function displayChart(vegaEmbed) {\n",
       "      vegaEmbed(outputDiv, spec, embedOpt)\n",
       "        .catch(err => showError(`Javascript Error: ${err.message}<br>This usually means there's a typo in your chart specification. See the javascript console for the full traceback.`));\n",
       "    }\n",
       "\n",
       "    if(typeof define === \"function\" && define.amd) {\n",
       "      requirejs.config({paths});\n",
       "      let deps = [\"vega-embed\"];\n",
       "      require(deps, displayChart, err => showError(`Error loading script: ${err.message}`));\n",
       "    } else {\n",
       "      maybeLoadScript(\"vega\", \"5\")\n",
       "        .then(() => maybeLoadScript(\"vega-lite\", \"5.20.1\"))\n",
       "        .then(() => maybeLoadScript(\"vega-embed\", \"6\"))\n",
       "        .catch(showError)\n",
       "        .then(() => displayChart(vegaEmbed));\n",
       "    }\n",
       "  })({\"config\": {\"view\": {\"continuousWidth\": 300, \"continuousHeight\": 300}}, \"data\": {\"name\": \"data-dae6d0ed14d6475777c1517f49fe5d2c\"}, \"mark\": {\"type\": \"bar\", \"tooltip\": true}, \"encoding\": {\"x\": {\"field\": \"count\", \"scale\": {\"type\": \"symlog\"}, \"type\": \"quantitative\"}, \"y\": {\"field\": \"typeId\", \"sort\": \"-x\", \"type\": \"ordinal\"}}, \"params\": [{\"name\": \"param_1\", \"select\": {\"type\": \"interval\", \"encodings\": [\"x\", \"y\"]}, \"bind\": \"scales\"}], \"$schema\": \"https://vega.github.io/schema/vega-lite/v5.20.1.json\", \"datasets\": {\"data-dae6d0ed14d6475777c1517f49fe5d2c\": [{\"typeId\": 116680003, \"count\": 32111}, {\"typeId\": 363698007, \"count\": 5497}, {\"typeId\": 116676008, \"count\": 3818}, {\"typeId\": 260686004, \"count\": 2407}, {\"typeId\": 363714003, \"count\": 1988}, {\"typeId\": 118169006, \"count\": 1423}, {\"typeId\": 405813007, \"count\": 1190}, {\"typeId\": 762949000, \"count\": 1181}, {\"typeId\": 732943007, \"count\": 1181}, {\"typeId\": 411116001, \"count\": 1090}, {\"typeId\": 370133003, \"count\": 1039}, {\"typeId\": 118171006, \"count\": 994}, {\"typeId\": 127489000, \"count\": 976}, {\"typeId\": 363713009, \"count\": 870}, {\"typeId\": 370135005, \"count\": 807}, {\"typeId\": 732947008, \"count\": 750}, {\"typeId\": 732945000, \"count\": 750}, {\"typeId\": 363704007, \"count\": 739}, {\"typeId\": 246454002, \"count\": 679}, {\"typeId\": 763032000, \"count\": 666}, {\"typeId\": 726542003, \"count\": 552}, {\"typeId\": 42752001, \"count\": 530}, {\"typeId\": 246075003, \"count\": 504}, {\"typeId\": 263502005, \"count\": 431}, {\"typeId\": 733722007, \"count\": 431}, {\"typeId\": 733725009, \"count\": 431}, {\"typeId\": 424226004, \"count\": 250}, {\"typeId\": 766939001, \"count\": 233}, {\"typeId\": 408731000, \"count\": 217}, {\"typeId\": 408732007, \"count\": 216}, {\"typeId\": 363700003, \"count\": 184}, {\"typeId\": 118168003, \"count\": 167}, {\"typeId\": 405814001, \"count\": 162}, {\"typeId\": 408729009, \"count\": 146}, {\"typeId\": 246090004, \"count\": 146}, {\"typeId\": 363699004, \"count\": 135}, {\"typeId\": 255234002, \"count\": 122}, {\"typeId\": 363702006, \"count\": 103}, {\"typeId\": 246093002, \"count\": 90}, {\"typeId\": 363701004, \"count\": 82}, {\"typeId\": 363589002, \"count\": 71}, {\"typeId\": 408730004, \"count\": 71}, {\"typeId\": 424876005, \"count\": 66}, {\"typeId\": 836358009, \"count\": 62}, {\"typeId\": 47429007, \"count\": 57}, {\"typeId\": 363703001, \"count\": 54}, {\"typeId\": 118170007, \"count\": 49}, {\"typeId\": 418775008, \"count\": 40}, {\"typeId\": 260507000, \"count\": 37}, {\"typeId\": 116686009, \"count\": 34}, {\"typeId\": 424361007, \"count\": 21}, {\"typeId\": 1149367008, \"count\": 19}, {\"typeId\": 719722006, \"count\": 19}, {\"typeId\": 424244007, \"count\": 17}, {\"typeId\": 260870009, \"count\": 16}, {\"typeId\": 419066007, \"count\": 13}, {\"typeId\": 371881003, \"count\": 12}, {\"typeId\": 405815000, \"count\": 11}, {\"typeId\": 425391005, \"count\": 10}, {\"typeId\": 246513007, \"count\": 9}, {\"typeId\": 738774007, \"count\": 9}, {\"typeId\": 840560000, \"count\": 7}, {\"typeId\": 1149366004, \"count\": 7}, {\"typeId\": 405816004, \"count\": 5}, {\"typeId\": 363709002, \"count\": 5}, {\"typeId\": 370131001, \"count\": 4}, {\"typeId\": 704321009, \"count\": 1}, {\"typeId\": 1003735000, \"count\": 1}, {\"typeId\": 827081001, \"count\": 1}, {\"typeId\": 370130000, \"count\": 1}]}}, {\"mode\": \"vega-lite\"});\n",
       "</script>"
      ],
      "text/plain": [
       "alt.Chart(...)"
      ]
     },
     "execution_count": 5,
     "metadata": {},
     "output_type": "execute_result"
    }
   ],
   "source": [
    "# inspect frequency of each type of relationship out of 66,017 relationships\n",
    "print(Relationship.shape)\n",
    "\n",
    "# 116680003 | Is A occurs 32,111 times i.e accounts for half\n",
    "# 363698007 | Finding site 5,497\n",
    "# 116676008 | Associated morphology 3,818\n",
    "type_count = (\n",
    "    Relationship.select(pl.col(\"typeId\").value_counts())\n",
    "    .unnest(\"typeId\")\n",
    "    .sort(\"count\", descending=True)\n",
    ")\n",
    "type_count.plot.bar(\n",
    "    alt.X(\"count:Q\").scale(type=\"symlog\"), y=alt.Y(\"typeId:O\").sort(\"-x\")\n",
    ")"
   ]
  },
  {
   "cell_type": "code",
   "execution_count": 6,
   "metadata": {},
   "outputs": [],
   "source": [
    "for name, id in sct.top10_relationships:\n",
    "    Relationship_ = Relationship.filter(pl.col(\"typeId\") == id)\n",
    "    conn.execute(\n",
    "        f\"DROP TABLE IF EXISTS {name};\"\n",
    "        + sct.relationship(name)\n",
    "        + f\"COPY {name} FROM Relationship_;\"\n",
    "    )\n"
   ]
  },
  {
   "cell_type": "markdown",
   "metadata": {},
   "source": [
    "## ICD-10 2019\n",
    "\n",
    "ICD-10 structure, from top to bottom:\n",
    "\n",
    "- Chapter\n",
    "- Group\n",
    "- Category\n",
    "  - three-position, e.g. C88\n",
    "  - four-position, e.g. C88.9\n"
   ]
  },
  {
   "cell_type": "code",
   "execution_count": 7,
   "metadata": {},
   "outputs": [],
   "source": [
    "icd_data = Path(\"./data/external/icd10-2019/\")\n",
    "\n",
    "ICD10Chapter = pl.read_csv(\n",
    "    icd_data / \"icd102019syst_chapters.txt\",\n",
    "    has_header=False,\n",
    "    separator=\";\",\n",
    ").rename({\"column_1\": \"number\", \"column_2\": \"rubric\"})\n",
    "\n",
    "ICD10Group = pl.read_csv(\n",
    "    icd_data / \"icd102019syst_groups.txt\", has_header=False, separator=\";\"\n",
    ").with_columns(\n",
    "    pl.concat_str([pl.col(\"column_1\"), pl.col(\"column_2\")], separator=\"-\").alias(\n",
    "        \"code\"\n",
    "    ),\n",
    "    pl.col(\"column_3\").alias(\"chapter\"),\n",
    "    pl.col(\"column_4\").alias(\"rubric\"),\n",
    ")\n",
    "\n",
    "ICD10Code = pl.read_csv(\n",
    "    icd_data / \"icd102019syst_codes.txt\",\n",
    "    has_header=False,\n",
    "    separator=\";\",\n",
    "    infer_schema_length=10000,\n",
    ")\n",
    "\n",
    "Group_to_Chapter = ICD10Group.select(\"code\", \"chapter\")\n",
    "\n",
    "Category3_to_group = ICD10Group.join(\n",
    "    ICD10Code.filter(pl.col(\"column_1\") == 3), left_on=\"column_1\", right_on=\"column_5\"\n",
    ").select(pl.col(\"column_7\").alias(\"category3\"), pl.col(\"code\").alias(\"group\"))\n",
    "\n",
    "ICD10Group = ICD10Group.select(\"code\", \"rubric\")\n",
    "\n",
    "expr_category = (\n",
    "    pl.col(\"column_7\").alias(\"code\"),\n",
    "    pl.col(\"column_9\").alias(\"rubric\"),\n",
    ")\n",
    "\n",
    "ICD10Category3 = ICD10Code.filter(pl.col(\"column_1\") == 3).select(expr_category)\n",
    "ICD10Category4 = ICD10Code.filter(pl.col(\"column_1\") == 4).select(expr_category)\n",
    "\n",
    "Category4_to_3 = ICD10Category4.select(\n",
    "    pl.col(\"code\"), pl.col(\"code\").str.head(3).alias(\"superclass\")\n",
    ")\n"
   ]
  },
  {
   "cell_type": "code",
   "execution_count": 8,
   "metadata": {},
   "outputs": [
    {
     "data": {
      "text/html": [
       "<div><style>\n",
       ".dataframe > thead > tr,\n",
       ".dataframe > tbody > tr {\n",
       "  text-align: right;\n",
       "  white-space: pre-wrap;\n",
       "}\n",
       "</style>\n",
       "<small>shape: (263, 2)</small><table border=\"1\" class=\"dataframe\"><thead><tr><th>code</th><th>chapter</th></tr><tr><td>str</td><td>i64</td></tr></thead><tbody><tr><td>&quot;A00-A09&quot;</td><td>1</td></tr><tr><td>&quot;A15-A19&quot;</td><td>1</td></tr><tr><td>&quot;A20-A28&quot;</td><td>1</td></tr><tr><td>&quot;A30-A49&quot;</td><td>1</td></tr><tr><td>&quot;A50-A64&quot;</td><td>1</td></tr><tr><td>&hellip;</td><td>&hellip;</td></tr><tr><td>&quot;Z55-Z65&quot;</td><td>21</td></tr><tr><td>&quot;Z70-Z76&quot;</td><td>21</td></tr><tr><td>&quot;Z80-Z99&quot;</td><td>21</td></tr><tr><td>&quot;U00-U49&quot;</td><td>22</td></tr><tr><td>&quot;U82-U85&quot;</td><td>22</td></tr></tbody></table></div>"
      ],
      "text/plain": [
       "shape: (263, 2)\n",
       "┌─────────┬─────────┐\n",
       "│ code    ┆ chapter │\n",
       "│ ---     ┆ ---     │\n",
       "│ str     ┆ i64     │\n",
       "╞═════════╪═════════╡\n",
       "│ A00-A09 ┆ 1       │\n",
       "│ A15-A19 ┆ 1       │\n",
       "│ A20-A28 ┆ 1       │\n",
       "│ A30-A49 ┆ 1       │\n",
       "│ A50-A64 ┆ 1       │\n",
       "│ …       ┆ …       │\n",
       "│ Z55-Z65 ┆ 21      │\n",
       "│ Z70-Z76 ┆ 21      │\n",
       "│ Z80-Z99 ┆ 21      │\n",
       "│ U00-U49 ┆ 22      │\n",
       "│ U82-U85 ┆ 22      │\n",
       "└─────────┴─────────┘"
      ]
     },
     "execution_count": 8,
     "metadata": {},
     "output_type": "execute_result"
    }
   ],
   "source": [
    "Group_to_Chapter"
   ]
  },
  {
   "cell_type": "code",
   "execution_count": 9,
   "metadata": {},
   "outputs": [
    {
     "data": {
      "text/plain": [
       "[<kuzu.query_result.QueryResult at 0x14f4238d0>,\n",
       " <kuzu.query_result.QueryResult at 0x14f421990>,\n",
       " <kuzu.query_result.QueryResult at 0x14f423190>,\n",
       " <kuzu.query_result.QueryResult at 0x14f422e50>,\n",
       " <kuzu.query_result.QueryResult at 0x14f422690>]"
      ]
     },
     "execution_count": 9,
     "metadata": {},
     "output_type": "execute_result"
    }
   ],
   "source": [
    "for name in [\"Chapter\", \"Group\", \"Category3\", \"Category4\"]:\n",
    "    conn.execute(\n",
    "        f\"DROP TABLE IF EXISTS ICD10{name};\"\n",
    "        + icd.__dict__[name]\n",
    "        + f\"COPY ICD10{name} FROM ICD10{name};\"\n",
    "    )\n",
    "\n",
    "conn.execute(\n",
    "    \"DROP TABLE IF EXISTS IsSubClassOf;\"\n",
    "    + icd.IsSubClassOf\n",
    "    + \"COPY IsSubClassOf_ICD10Category4_ICD10Category3 FROM Category4_to_3;\"\n",
    "    + \"COPY IsSubClassOf_ICD10Category3_ICD10Group FROM Category3_to_group;\"\n",
    "    + \"COPY IsSubClassOf_ICD10Group_ICD10Chapter FROM Group_to_Chapter;\"\n",
    ")\n"
   ]
  },
  {
   "cell_type": "code",
   "execution_count": null,
   "metadata": {},
   "outputs": [],
   "source": []
  }
 ],
 "metadata": {
  "kernelspec": {
   "display_name": ".venv",
   "language": "python",
   "name": "python3"
  },
  "language_info": {
   "codemirror_mode": {
    "name": "ipython",
    "version": 3
   },
   "file_extension": ".py",
   "mimetype": "text/x-python",
   "name": "python",
   "nbconvert_exporter": "python",
   "pygments_lexer": "ipython3",
   "version": "3.11.11"
  }
 },
 "nbformat": 4,
 "nbformat_minor": 2
}
