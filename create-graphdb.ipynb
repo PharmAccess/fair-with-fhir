{
 "cells": [
  {
   "cell_type": "code",
   "execution_count": 1,
   "metadata": {},
   "outputs": [],
   "source": [
    "from pathlib import Path\n",
    "from shutil import rmtree\n",
    "\n",
    "import altair as alt\n",
    "import fsspec\n",
    "import kuzu\n",
    "import polars as pl\n",
    "\n",
    "import ddl\n",
    "\n",
    "\n",
    "snomed_data = Path(\"./data/external/snomed-ips/Snapshot/Terminology/\")\n",
    "kuzu_path = Path(\"./data/internal/kuzu-db/\")\n",
    "if kuzu_path.exists:\n",
    "    rmtree(kuzu_path)\n",
    "\n",
    "db = kuzu.Database(kuzu_path)\n",
    "conn = kuzu.Connection(db)\n",
    "\n",
    "\n",
    "def read_snomed(path: Path) -> pl.DataFrame:\n",
    "    return pl.read_csv(path, separator=\"\\t\").with_columns(\n",
    "        pl.col(\"effectiveTime\").cast(pl.String).str.to_date(\"%Y%m%d\"),\n",
    "        pl.col(\"active\").cast(pl.Boolean),\n",
    "    )\n"
   ]
  },
  {
   "cell_type": "code",
   "execution_count": 2,
   "metadata": {},
   "outputs": [
    {
     "data": {
      "text/html": [
       "<div><style>\n",
       ".dataframe > thead > tr,\n",
       ".dataframe > tbody > tr {\n",
       "  text-align: right;\n",
       "  white-space: pre-wrap;\n",
       "}\n",
       "</style>\n",
       "<small>shape: (2, 2)</small><table border=\"1\" class=\"dataframe\"><thead><tr><th>typeId</th><th>count</th></tr><tr><td>i64</td><td>u32</td></tr></thead><tbody><tr><td>900000000000003001</td><td>19697</td></tr><tr><td>900000000000013009</td><td>40417</td></tr></tbody></table></div>"
      ],
      "text/plain": [
       "shape: (2, 2)\n",
       "┌────────────────────┬───────┐\n",
       "│ typeId             ┆ count │\n",
       "│ ---                ┆ ---   │\n",
       "│ i64                ┆ u32   │\n",
       "╞════════════════════╪═══════╡\n",
       "│ 900000000000003001 ┆ 19697 │\n",
       "│ 900000000000013009 ┆ 40417 │\n",
       "└────────────────────┴───────┘"
      ]
     },
     "execution_count": 2,
     "metadata": {},
     "output_type": "execute_result"
    }
   ],
   "source": [
    "Description = read_snomed(\n",
    "    snomed_data / \"sct2_Description_IPSSnapshot-en_IPST_20240701.txt\"\n",
    ")\n",
    "\n",
    "# Two type of descriptions:\n",
    "# 900000000000003001 | Fully qualified name\n",
    "# 900000000000013009 | Synonyms\n",
    "Description.select(pl.col(\"typeId\").value_counts()).unnest(\"typeId\")"
   ]
  },
  {
   "cell_type": "code",
   "execution_count": 3,
   "metadata": {},
   "outputs": [
    {
     "data": {
      "text/plain": [
       "[<kuzu.query_result.QueryResult at 0x135dc48d0>,\n",
       " <kuzu.query_result.QueryResult at 0x135dc4e90>]"
      ]
     },
     "execution_count": 3,
     "metadata": {},
     "output_type": "execute_result"
    }
   ],
   "source": [
    "# load Concept\n",
    "fullname = Description.filter(pl.col(\"typeId\") == 900000000000003001).select(\n",
    "    pl.col(\"conceptId\"), pl.col(\"term\").alias(\"fullQualifiedName\")\n",
    ")\n",
    "synonyms = (\n",
    "    Description.filter(pl.col(\"typeId\") == 900000000000013009)\n",
    "    .select(pl.col(\"conceptId\"), pl.col(\"term\").alias(\"synonyms\"))\n",
    "    .group_by(pl.col(\"conceptId\"))\n",
    "    .agg(\"synonyms\")\n",
    ")\n",
    "\n",
    "join_concept = dict(how=\"left\", left_on=\"id\", right_on=\"conceptId\")\n",
    "Concept = (\n",
    "    read_snomed(snomed_data / \"sct2_Concept_IPSSnapshot_IPST_20240701.txt\")\n",
    "    .join(fullname, **join_concept)\n",
    "    .join(synonyms, **join_concept)\n",
    ")\n",
    "\n",
    "conn.execute(ddl.sct.concept + \"COPY SCT FROM Concept;\")"
   ]
  },
  {
   "cell_type": "code",
   "execution_count": 4,
   "metadata": {},
   "outputs": [],
   "source": [
    "# load Relationship, note we need to change ordering of columns for loading in Kuzu\n",
    "join_relationship = dict(how=\"left\", left_on=\"typeId\", right_on=\"conceptId\")\n",
    "Relationship = (\n",
    "    read_snomed(snomed_data / \"sct2_Relationship_IPSSnapshot_IPST_20240701.txt\")\n",
    "    .select(\n",
    "        pl.col(\n",
    "            [\n",
    "                \"sourceId\",\n",
    "                \"destinationId\",\n",
    "                \"id\",\n",
    "                \"effectiveTime\",\n",
    "                \"active\",\n",
    "                \"moduleId\",\n",
    "                \"relationshipGroup\",\n",
    "                \"typeId\",\n",
    "                \"characteristicTypeId\",\n",
    "                \"modifierId\",\n",
    "            ]\n",
    "        )\n",
    "    )\n",
    "    .join(fullname, **join_relationship)\n",
    "    .join(synonyms, **join_relationship)\n",
    ")"
   ]
  },
  {
   "cell_type": "code",
   "execution_count": 5,
   "metadata": {},
   "outputs": [
    {
     "name": "stdout",
     "output_type": "stream",
     "text": [
      "(66017, 12)\n"
     ]
    },
    {
     "data": {
      "text/html": [
       "\n",
       "<style>\n",
       "  #altair-viz-8805c363354640fe87b992dd76a40aef.vega-embed {\n",
       "    width: 100%;\n",
       "    display: flex;\n",
       "  }\n",
       "\n",
       "  #altair-viz-8805c363354640fe87b992dd76a40aef.vega-embed details,\n",
       "  #altair-viz-8805c363354640fe87b992dd76a40aef.vega-embed details summary {\n",
       "    position: relative;\n",
       "  }\n",
       "</style>\n",
       "<div id=\"altair-viz-8805c363354640fe87b992dd76a40aef\"></div>\n",
       "<script type=\"text/javascript\">\n",
       "  var VEGA_DEBUG = (typeof VEGA_DEBUG == \"undefined\") ? {} : VEGA_DEBUG;\n",
       "  (function(spec, embedOpt){\n",
       "    let outputDiv = document.currentScript.previousElementSibling;\n",
       "    if (outputDiv.id !== \"altair-viz-8805c363354640fe87b992dd76a40aef\") {\n",
       "      outputDiv = document.getElementById(\"altair-viz-8805c363354640fe87b992dd76a40aef\");\n",
       "    }\n",
       "\n",
       "    const paths = {\n",
       "      \"vega\": \"https://cdn.jsdelivr.net/npm/vega@5?noext\",\n",
       "      \"vega-lib\": \"https://cdn.jsdelivr.net/npm/vega-lib?noext\",\n",
       "      \"vega-lite\": \"https://cdn.jsdelivr.net/npm/vega-lite@5.20.1?noext\",\n",
       "      \"vega-embed\": \"https://cdn.jsdelivr.net/npm/vega-embed@6?noext\",\n",
       "    };\n",
       "\n",
       "    function maybeLoadScript(lib, version) {\n",
       "      var key = `${lib.replace(\"-\", \"\")}_version`;\n",
       "      return (VEGA_DEBUG[key] == version) ?\n",
       "        Promise.resolve(paths[lib]) :\n",
       "        new Promise(function(resolve, reject) {\n",
       "          var s = document.createElement('script');\n",
       "          document.getElementsByTagName(\"head\")[0].appendChild(s);\n",
       "          s.async = true;\n",
       "          s.onload = () => {\n",
       "            VEGA_DEBUG[key] = version;\n",
       "            return resolve(paths[lib]);\n",
       "          };\n",
       "          s.onerror = () => reject(`Error loading script: ${paths[lib]}`);\n",
       "          s.src = paths[lib];\n",
       "        });\n",
       "    }\n",
       "\n",
       "    function showError(err) {\n",
       "      outputDiv.innerHTML = `<div class=\"error\" style=\"color:red;\">${err}</div>`;\n",
       "      throw err;\n",
       "    }\n",
       "\n",
       "    function displayChart(vegaEmbed) {\n",
       "      vegaEmbed(outputDiv, spec, embedOpt)\n",
       "        .catch(err => showError(`Javascript Error: ${err.message}<br>This usually means there's a typo in your chart specification. See the javascript console for the full traceback.`));\n",
       "    }\n",
       "\n",
       "    if(typeof define === \"function\" && define.amd) {\n",
       "      requirejs.config({paths});\n",
       "      let deps = [\"vega-embed\"];\n",
       "      require(deps, displayChart, err => showError(`Error loading script: ${err.message}`));\n",
       "    } else {\n",
       "      maybeLoadScript(\"vega\", \"5\")\n",
       "        .then(() => maybeLoadScript(\"vega-lite\", \"5.20.1\"))\n",
       "        .then(() => maybeLoadScript(\"vega-embed\", \"6\"))\n",
       "        .catch(showError)\n",
       "        .then(() => displayChart(vegaEmbed));\n",
       "    }\n",
       "  })({\"config\": {\"view\": {\"continuousWidth\": 300, \"continuousHeight\": 300}}, \"data\": {\"name\": \"data-0b20984cd614586a3c8b3efe7bbbd95e\"}, \"mark\": {\"type\": \"bar\", \"tooltip\": true}, \"encoding\": {\"x\": {\"field\": \"count\", \"scale\": {\"type\": \"symlog\"}, \"type\": \"quantitative\"}, \"y\": {\"field\": \"typeId\", \"sort\": \"-x\", \"type\": \"ordinal\"}}, \"params\": [{\"name\": \"param_1\", \"select\": {\"type\": \"interval\", \"encodings\": [\"x\", \"y\"]}, \"bind\": \"scales\"}], \"$schema\": \"https://vega.github.io/schema/vega-lite/v5.20.1.json\", \"datasets\": {\"data-0b20984cd614586a3c8b3efe7bbbd95e\": [{\"typeId\": 116680003, \"count\": 32111}, {\"typeId\": 363698007, \"count\": 5497}, {\"typeId\": 116676008, \"count\": 3818}, {\"typeId\": 260686004, \"count\": 2407}, {\"typeId\": 363714003, \"count\": 1988}, {\"typeId\": 118169006, \"count\": 1423}, {\"typeId\": 405813007, \"count\": 1190}, {\"typeId\": 732943007, \"count\": 1181}, {\"typeId\": 762949000, \"count\": 1181}, {\"typeId\": 411116001, \"count\": 1090}, {\"typeId\": 370133003, \"count\": 1039}, {\"typeId\": 118171006, \"count\": 994}, {\"typeId\": 127489000, \"count\": 976}, {\"typeId\": 363713009, \"count\": 870}, {\"typeId\": 370135005, \"count\": 807}, {\"typeId\": 732945000, \"count\": 750}, {\"typeId\": 732947008, \"count\": 750}, {\"typeId\": 363704007, \"count\": 739}, {\"typeId\": 246454002, \"count\": 679}, {\"typeId\": 763032000, \"count\": 666}, {\"typeId\": 726542003, \"count\": 552}, {\"typeId\": 42752001, \"count\": 530}, {\"typeId\": 246075003, \"count\": 504}, {\"typeId\": 263502005, \"count\": 431}, {\"typeId\": 733725009, \"count\": 431}, {\"typeId\": 733722007, \"count\": 431}, {\"typeId\": 424226004, \"count\": 250}, {\"typeId\": 766939001, \"count\": 233}, {\"typeId\": 408731000, \"count\": 217}, {\"typeId\": 408732007, \"count\": 216}, {\"typeId\": 363700003, \"count\": 184}, {\"typeId\": 118168003, \"count\": 167}, {\"typeId\": 405814001, \"count\": 162}, {\"typeId\": 408729009, \"count\": 146}, {\"typeId\": 246090004, \"count\": 146}, {\"typeId\": 363699004, \"count\": 135}, {\"typeId\": 255234002, \"count\": 122}, {\"typeId\": 363702006, \"count\": 103}, {\"typeId\": 246093002, \"count\": 90}, {\"typeId\": 363701004, \"count\": 82}, {\"typeId\": 363589002, \"count\": 71}, {\"typeId\": 408730004, \"count\": 71}, {\"typeId\": 424876005, \"count\": 66}, {\"typeId\": 836358009, \"count\": 62}, {\"typeId\": 47429007, \"count\": 57}, {\"typeId\": 363703001, \"count\": 54}, {\"typeId\": 118170007, \"count\": 49}, {\"typeId\": 418775008, \"count\": 40}, {\"typeId\": 260507000, \"count\": 37}, {\"typeId\": 116686009, \"count\": 34}, {\"typeId\": 424361007, \"count\": 21}, {\"typeId\": 1149367008, \"count\": 19}, {\"typeId\": 719722006, \"count\": 19}, {\"typeId\": 424244007, \"count\": 17}, {\"typeId\": 260870009, \"count\": 16}, {\"typeId\": 419066007, \"count\": 13}, {\"typeId\": 371881003, \"count\": 12}, {\"typeId\": 405815000, \"count\": 11}, {\"typeId\": 425391005, \"count\": 10}, {\"typeId\": 246513007, \"count\": 9}, {\"typeId\": 738774007, \"count\": 9}, {\"typeId\": 1149366004, \"count\": 7}, {\"typeId\": 840560000, \"count\": 7}, {\"typeId\": 363709002, \"count\": 5}, {\"typeId\": 405816004, \"count\": 5}, {\"typeId\": 370131001, \"count\": 4}, {\"typeId\": 370130000, \"count\": 1}, {\"typeId\": 1003735000, \"count\": 1}, {\"typeId\": 704321009, \"count\": 1}, {\"typeId\": 827081001, \"count\": 1}]}}, {\"mode\": \"vega-lite\"});\n",
       "</script>"
      ],
      "text/plain": [
       "alt.Chart(...)"
      ]
     },
     "execution_count": 5,
     "metadata": {},
     "output_type": "execute_result"
    }
   ],
   "source": [
    "# inspect frequency of each type of relationship out of 66,017 relationships\n",
    "print(Relationship.shape)\n",
    "\n",
    "# 116680003 | Is A occurs 32,111 times i.e accounts for half\n",
    "# 363698007 | Finding site 5,497\n",
    "# 116676008 | Associated morphology 3,818\n",
    "type_count = (\n",
    "    Relationship.select(pl.col(\"typeId\").value_counts())\n",
    "    .unnest(\"typeId\")\n",
    "    .sort(\"count\", descending=True)\n",
    ")\n",
    "type_count.plot.bar(\n",
    "    alt.X(\"count:Q\").scale(type=\"symlog\"), y=alt.Y(\"typeId:O\").sort(\"-x\")\n",
    ")"
   ]
  },
  {
   "cell_type": "code",
   "execution_count": 6,
   "metadata": {},
   "outputs": [],
   "source": [
    "for name, id in ddl.sct.top10_relationships:\n",
    "    Relationship_ = Relationship.filter(pl.col(\"typeId\") == id)\n",
    "    conn.execute(\n",
    "        f\"DROP TABLE IF EXISTS {name};\"\n",
    "        + ddl.sct.relationship(name)\n",
    "        + f\"COPY {name} FROM Relationship_;\"\n",
    "    )\n"
   ]
  },
  {
   "cell_type": "markdown",
   "metadata": {},
   "source": [
    "## ICD-10 2019\n",
    "\n",
    "ICD-10 structure, from top to bottom:\n",
    "\n",
    "- Chapter\n",
    "- Group\n",
    "- Category\n",
    "  - three-position, e.g. C88\n",
    "  - four-position, e.g. C88.9\n"
   ]
  },
  {
   "cell_type": "code",
   "execution_count": 7,
   "metadata": {},
   "outputs": [],
   "source": [
    "icd_data = Path(\"./data/external/icd10-2019/\")\n",
    "\n",
    "ICD10Chapter = pl.read_csv(\n",
    "    icd_data / \"icd102019syst_chapters.txt\",\n",
    "    has_header=False,\n",
    "    separator=\";\",\n",
    ").rename({\"column_1\": \"number\", \"column_2\": \"rubric\"})\n",
    "\n",
    "ICD10Group = pl.read_csv(\n",
    "    icd_data / \"icd102019syst_groups.txt\", has_header=False, separator=\";\"\n",
    ").with_columns(\n",
    "    pl.concat_str([pl.col(\"column_1\"), pl.col(\"column_2\")], separator=\"-\").alias(\n",
    "        \"code\"\n",
    "    ),\n",
    "    pl.col(\"column_3\").alias(\"chapter\"),\n",
    "    pl.col(\"column_4\").alias(\"rubric\"),\n",
    ")\n",
    "\n",
    "ICD10Code = pl.read_csv(\n",
    "    icd_data / \"icd102019syst_codes.txt\",\n",
    "    has_header=False,\n",
    "    separator=\";\",\n",
    "    infer_schema_length=10000,\n",
    ")\n",
    "\n",
    "Group_to_Chapter = ICD10Group.select(\"code\", \"chapter\")\n",
    "\n",
    "Category3_to_group = ICD10Group.join(\n",
    "    ICD10Code.filter(pl.col(\"column_1\") == 3), left_on=\"column_1\", right_on=\"column_5\"\n",
    ").select(pl.col(\"column_7\").alias(\"category3\"), pl.col(\"code\").alias(\"group\"))\n",
    "\n",
    "ICD10Group = ICD10Group.select(\"code\", \"rubric\")\n",
    "\n",
    "expr_category = (\n",
    "    pl.col(\"column_7\").alias(\"code\"),\n",
    "    pl.col(\"column_9\").alias(\"rubric\"),\n",
    ")\n",
    "\n",
    "ICD10Category3 = ICD10Code.filter(pl.col(\"column_1\") == 3).select(expr_category)\n",
    "ICD10Category4 = ICD10Code.filter(pl.col(\"column_1\") == 4).select(expr_category)\n",
    "\n",
    "Category4_to_3 = ICD10Category4.select(\n",
    "    pl.col(\"code\"), pl.col(\"code\").str.head(3).alias(\"superclass\")\n",
    ")\n"
   ]
  },
  {
   "cell_type": "code",
   "execution_count": 8,
   "metadata": {},
   "outputs": [
    {
     "data": {
      "text/plain": [
       "[<kuzu.query_result.QueryResult at 0x135e20e50>,\n",
       " <kuzu.query_result.QueryResult at 0x13b28c610>,\n",
       " <kuzu.query_result.QueryResult at 0x13b28c6d0>,\n",
       " <kuzu.query_result.QueryResult at 0x13b28c750>,\n",
       " <kuzu.query_result.QueryResult at 0x13b28c7d0>]"
      ]
     },
     "execution_count": 8,
     "metadata": {},
     "output_type": "execute_result"
    }
   ],
   "source": [
    "for name in [\"Chapter\", \"Group\", \"Category3\", \"Category4\"]:\n",
    "    conn.execute(\n",
    "        f\"DROP TABLE IF EXISTS ICD10{name};\"\n",
    "        + ddl.icd.__dict__[name]\n",
    "        + f\"COPY ICD10{name} FROM ICD10{name};\"\n",
    "    )\n",
    "\n",
    "conn.execute(\n",
    "    \"DROP TABLE IF EXISTS IsSubClassOf;\"\n",
    "    + ddl.icd.IsSubClassOf\n",
    "    + \"COPY IsSubClassOf_ICD10Category4_ICD10Category3 FROM Category4_to_3;\"\n",
    "    + \"COPY IsSubClassOf_ICD10Category3_ICD10Group FROM Category3_to_group;\"\n",
    "    + \"COPY IsSubClassOf_ICD10Group_ICD10Chapter FROM Group_to_Chapter;\"\n",
    ")\n"
   ]
  },
  {
   "cell_type": "markdown",
   "metadata": {},
   "source": [
    "## WHO ANC Profile\n",
    "\n",
    "- Note we are using value sets with mapping to SNOMED IPS\n",
    "- Also constraints are not relevant (too detailed for Momcare)\n",
    "- We do use Measures (downstream)\n"
   ]
  },
  {
   "cell_type": "code",
   "execution_count": 9,
   "metadata": {},
   "outputs": [],
   "source": [
    "systems = [\"ICD-10\", \"ICD-11\", \"ICF\", \"ICHI\", \"LOINC\", \"SNOMED-CT\"]\n",
    "\n",
    "\n",
    "def parse_conceptmap(system: str) -> pl.DataFrame:\n",
    "    \"Generate flattened mapping tables from WHO ANC conceptmap.\"\n",
    "\n",
    "    if system not in systems:\n",
    "        return None\n",
    "\n",
    "    with fsspec.open(\n",
    "        f\"https://build.fhir.org/ig/dhes/smart-anc/ConceptMap-{system}.json\"\n",
    "    ) as f:\n",
    "        df = pl.read_json(f)\n",
    "\n",
    "    unnest_group = pl.col(\"group\").list.explode().struct.unnest()\n",
    "    unnest_element = pl.col(\"element\").list.explode().struct.unnest().list.explode()\n",
    "\n",
    "    return (\n",
    "        df.select(unnest_group)\n",
    "        .select(unnest_element)\n",
    "        .select(\n",
    "            pl.col(pl.String).name.prefix(\"who_anc_\"),\n",
    "            pl.lit(system.replace(\"-\", \"\")).alias(\"target\"),\n",
    "            pl.col(\"target\").struct.unnest(),\n",
    "        )\n",
    "    )\n",
    "\n",
    "\n",
    "# there are errors in WHO ANC codes for SNOMED-CT mapping. These need fixing\n",
    "# see list below\n",
    "errors = {\n",
    "    \"1.56399E+16\": 15639921000119107,\n",
    "    \"1.22475E+16\": 12247531000119106,\n",
    "    \"1.07437E+16\": 10743651000119105,\n",
    "    \"1.07612E+16\": 10761341000119105,\n",
    "    \"4.41041E+14\": 441041000124100,\n",
    "}\n",
    "\n",
    "who = pl.concat(\n",
    "    [parse_conceptmap(system) for system in systems], how=\"diagonal\"\n",
    ").with_columns(pl.col(\"code\").replace(errors))"
   ]
  },
  {
   "cell_type": "code",
   "execution_count": 10,
   "metadata": {},
   "outputs": [
    {
     "data": {
      "text/html": [
       "<div><style>\n",
       ".dataframe > thead > tr,\n",
       ".dataframe > tbody > tr {\n",
       "  text-align: right;\n",
       "  white-space: pre-wrap;\n",
       "}\n",
       "</style>\n",
       "<small>shape: (1, 1)</small><table border=\"1\" class=\"dataframe\"><thead><tr><th>who_anc_code</th></tr><tr><td>u32</td></tr></thead><tbody><tr><td>735</td></tr></tbody></table></div>"
      ],
      "text/plain": [
       "shape: (1, 1)\n",
       "┌──────────────┐\n",
       "│ who_anc_code │\n",
       "│ ---          │\n",
       "│ u32          │\n",
       "╞══════════════╡\n",
       "│ 735          │\n",
       "└──────────────┘"
      ]
     },
     "execution_count": 10,
     "metadata": {},
     "output_type": "execute_result"
    }
   ],
   "source": [
    "# 735 unique WHO ANC codes\n",
    "who.select(pl.col(\"who_anc_code\").n_unique())"
   ]
  },
  {
   "cell_type": "code",
   "execution_count": 11,
   "metadata": {},
   "outputs": [
    {
     "data": {
      "text/html": [
       "<div><style>\n",
       ".dataframe > thead > tr,\n",
       ".dataframe > tbody > tr {\n",
       "  text-align: right;\n",
       "  white-space: pre-wrap;\n",
       "}\n",
       "</style>\n",
       "<small>shape: (6, 3)</small><table border=\"1\" class=\"dataframe\"><thead><tr><th>target</th><th>who_anc_code</th><th>code</th></tr><tr><td>str</td><td>u32</td><td>u32</td></tr></thead><tbody><tr><td>&quot;SNOMEDCT&quot;</td><td>725</td><td>429</td></tr><tr><td>&quot;ICD11&quot;</td><td>550</td><td>225</td></tr><tr><td>&quot;ICD10&quot;</td><td>532</td><td>188</td></tr><tr><td>&quot;LOINC&quot;</td><td>385</td><td>145</td></tr><tr><td>&quot;ICHI&quot;</td><td>163</td><td>42</td></tr><tr><td>&quot;ICF&quot;</td><td>100</td><td>32</td></tr></tbody></table></div>"
      ],
      "text/plain": [
       "shape: (6, 3)\n",
       "┌──────────┬──────────────┬──────┐\n",
       "│ target   ┆ who_anc_code ┆ code │\n",
       "│ ---      ┆ ---          ┆ ---  │\n",
       "│ str      ┆ u32          ┆ u32  │\n",
       "╞══════════╪══════════════╪══════╡\n",
       "│ SNOMEDCT ┆ 725          ┆ 429  │\n",
       "│ ICD11    ┆ 550          ┆ 225  │\n",
       "│ ICD10    ┆ 532          ┆ 188  │\n",
       "│ LOINC    ┆ 385          ┆ 145  │\n",
       "│ ICHI     ┆ 163          ┆ 42   │\n",
       "│ ICF      ┆ 100          ┆ 32   │\n",
       "└──────────┴──────────────┴──────┘"
      ]
     },
     "execution_count": 11,
     "metadata": {},
     "output_type": "execute_result"
    }
   ],
   "source": [
    "# Coverage varies widely, SNOMED most complete\n",
    "# Multiple WHO ANC code can map to the same target code\n",
    "who.group_by(\"target\").agg(pl.n_unique(\"who_anc_code\", \"code\")).sort(\n",
    "    \"who_anc_code\", descending=True\n",
    ")"
   ]
  },
  {
   "cell_type": "code",
   "execution_count": 12,
   "metadata": {},
   "outputs": [
    {
     "data": {
      "text/html": [
       "<div><style>\n",
       ".dataframe > thead > tr,\n",
       ".dataframe > tbody > tr {\n",
       "  text-align: right;\n",
       "  white-space: pre-wrap;\n",
       "}\n",
       "</style>\n",
       "<small>shape: (1_831, 7)</small><table border=\"1\" class=\"dataframe\"><thead><tr><th>target</th><th>code</th><th>count_</th><th>who_anc_code</th><th>who_anc_display</th><th>equivalence</th><th>display</th></tr><tr><td>str</td><td>str</td><td>u32</td><td>str</td><td>str</td><td>str</td><td>str</td></tr></thead><tbody><tr><td>&quot;ICD10&quot;</td><td>&quot;A53.9&quot;</td><td>2</td><td>&quot;ANC.B9.DE111&quot;</td><td>&quot;Syphilis positive&quot;</td><td>&quot;equivalent&quot;</td><td>&quot;Syphilis, unspecified&quot;</td></tr><tr><td>&quot;ICD10&quot;</td><td>&quot;A53.9&quot;</td><td>2</td><td>&quot;ANC.B9.DE108&quot;</td><td>&quot;Syphilis positive&quot;</td><td>&quot;equivalent&quot;</td><td>&quot;Syphilis, unspecified&quot;</td></tr><tr><td>&quot;ICD10&quot;</td><td>&quot;B18.1&quot;</td><td>2</td><td>&quot;ANC.B9.DE72&quot;</td><td>&quot;Hepatitis B positive&quot;</td><td>&quot;equivalent&quot;</td><td>&quot;Chronic viral hepatitis B with…</td></tr><tr><td>&quot;ICD10&quot;</td><td>&quot;B18.1&quot;</td><td>2</td><td>&quot;ANC.B9.DE75&quot;</td><td>&quot;Hepatitis B positive&quot;</td><td>&quot;equivalent&quot;</td><td>&quot;Chronic viral hepatitis B with…</td></tr><tr><td>&quot;ICD10&quot;</td><td>&quot;B18.2&quot;</td><td>2</td><td>&quot;ANC.B9.DE93&quot;</td><td>&quot;Hepatitis C positive&quot;</td><td>&quot;equivalent&quot;</td><td>&quot;Chronic viral hepatitis C&quot;</td></tr><tr><td>&hellip;</td><td>&hellip;</td><td>&hellip;</td><td>&hellip;</td><td>&hellip;</td><td>&hellip;</td><td>&hellip;</td></tr><tr><td>&quot;SNOMEDCT&quot;</td><td>&quot;84229001&quot;</td><td>3</td><td>&quot;ANC.B7.DE53&quot;</td><td>&quot;Gets tired easily&quot;</td><td>&quot;equivalent&quot;</td><td>&quot;Fatigue (finding)&quot;</td></tr><tr><td>&quot;SNOMEDCT&quot;</td><td>&quot;8517006&quot;</td><td>2</td><td>&quot;ANC.B6.DE154&quot;</td><td>&quot;Recently quit tobacco products&quot;</td><td>&quot;equivalent&quot;</td><td>&quot;Ex-smoker (finding)&quot;</td></tr><tr><td>&quot;SNOMEDCT&quot;</td><td>&quot;8517006&quot;</td><td>2</td><td>&quot;ANC.B7.DE12&quot;</td><td>&quot;Recently quit tobacco products&quot;</td><td>&quot;equivalent&quot;</td><td>&quot;Ex-smoker (finding)&quot;</td></tr><tr><td>&quot;SNOMEDCT&quot;</td><td>&quot;91175000&quot;</td><td>2</td><td>&quot;ANC.B6.DE41&quot;</td><td>&quot;Convulsions&quot;</td><td>&quot;equivalent&quot;</td><td>&quot;Seizure (finding)&quot;</td></tr><tr><td>&quot;SNOMEDCT&quot;</td><td>&quot;91175000&quot;</td><td>2</td><td>&quot;ANC.B5.DE52&quot;</td><td>&quot;Convulsing&quot;</td><td>&quot;equivalent&quot;</td><td>&quot;Seizure (finding)&quot;</td></tr></tbody></table></div>"
      ],
      "text/plain": [
       "shape: (1_831, 7)\n",
       "┌──────────┬──────────┬────────┬──────────────┬──────────────────────┬─────────────┬───────────────┐\n",
       "│ target   ┆ code     ┆ count_ ┆ who_anc_code ┆ who_anc_display      ┆ equivalence ┆ display       │\n",
       "│ ---      ┆ ---      ┆ ---    ┆ ---          ┆ ---                  ┆ ---         ┆ ---           │\n",
       "│ str      ┆ str      ┆ u32    ┆ str          ┆ str                  ┆ str         ┆ str           │\n",
       "╞══════════╪══════════╪════════╪══════════════╪══════════════════════╪═════════════╪═══════════════╡\n",
       "│ ICD10    ┆ A53.9    ┆ 2      ┆ ANC.B9.DE111 ┆ Syphilis positive    ┆ equivalent  ┆ Syphilis,     │\n",
       "│          ┆          ┆        ┆              ┆                      ┆             ┆ unspecified   │\n",
       "│ ICD10    ┆ A53.9    ┆ 2      ┆ ANC.B9.DE108 ┆ Syphilis positive    ┆ equivalent  ┆ Syphilis,     │\n",
       "│          ┆          ┆        ┆              ┆                      ┆             ┆ unspecified   │\n",
       "│ ICD10    ┆ B18.1    ┆ 2      ┆ ANC.B9.DE72  ┆ Hepatitis B positive ┆ equivalent  ┆ Chronic viral │\n",
       "│          ┆          ┆        ┆              ┆                      ┆             ┆ hepatitis B   │\n",
       "│          ┆          ┆        ┆              ┆                      ┆             ┆ with…         │\n",
       "│ ICD10    ┆ B18.1    ┆ 2      ┆ ANC.B9.DE75  ┆ Hepatitis B positive ┆ equivalent  ┆ Chronic viral │\n",
       "│          ┆          ┆        ┆              ┆                      ┆             ┆ hepatitis B   │\n",
       "│          ┆          ┆        ┆              ┆                      ┆             ┆ with…         │\n",
       "│ ICD10    ┆ B18.2    ┆ 2      ┆ ANC.B9.DE93  ┆ Hepatitis C positive ┆ equivalent  ┆ Chronic viral │\n",
       "│          ┆          ┆        ┆              ┆                      ┆             ┆ hepatitis C   │\n",
       "│ …        ┆ …        ┆ …      ┆ …            ┆ …                    ┆ …           ┆ …             │\n",
       "│ SNOMEDCT ┆ 84229001 ┆ 3      ┆ ANC.B7.DE53  ┆ Gets tired easily    ┆ equivalent  ┆ Fatigue       │\n",
       "│          ┆          ┆        ┆              ┆                      ┆             ┆ (finding)     │\n",
       "│ SNOMEDCT ┆ 8517006  ┆ 2      ┆ ANC.B6.DE154 ┆ Recently quit        ┆ equivalent  ┆ Ex-smoker     │\n",
       "│          ┆          ┆        ┆              ┆ tobacco products     ┆             ┆ (finding)     │\n",
       "│ SNOMEDCT ┆ 8517006  ┆ 2      ┆ ANC.B7.DE12  ┆ Recently quit        ┆ equivalent  ┆ Ex-smoker     │\n",
       "│          ┆          ┆        ┆              ┆ tobacco products     ┆             ┆ (finding)     │\n",
       "│ SNOMEDCT ┆ 91175000 ┆ 2      ┆ ANC.B6.DE41  ┆ Convulsions          ┆ equivalent  ┆ Seizure       │\n",
       "│          ┆          ┆        ┆              ┆                      ┆             ┆ (finding)     │\n",
       "│ SNOMEDCT ┆ 91175000 ┆ 2      ┆ ANC.B5.DE52  ┆ Convulsing           ┆ equivalent  ┆ Seizure       │\n",
       "│          ┆          ┆        ┆              ┆                      ┆             ┆ (finding)     │\n",
       "└──────────┴──────────┴────────┴──────────────┴──────────────────────┴─────────────┴───────────────┘"
      ]
     },
     "execution_count": 12,
     "metadata": {},
     "output_type": "execute_result"
    }
   ],
   "source": [
    "# Same SNOMED or ICD10 concept maps to multiple WNO ANC codes!\n",
    "many_to_one = (\n",
    "    (\n",
    "        who.group_by(\"target\", \"code\")\n",
    "        .agg(pl.count(\"who_anc_code\").alias(\"count_\"))\n",
    "        .filter(pl.col(\"count_\") > 1)\n",
    "    )\n",
    "    .join(who, on=[\"target\", \"code\"])\n",
    "    .sort([\"target\", \"code\"])\n",
    ")\n",
    "many_to_one"
   ]
  },
  {
   "cell_type": "code",
   "execution_count": 13,
   "metadata": {},
   "outputs": [
    {
     "data": {
      "text/html": [
       "<div><style>\n",
       ".dataframe > thead > tr,\n",
       ".dataframe > tbody > tr {\n",
       "  text-align: right;\n",
       "  white-space: pre-wrap;\n",
       "}\n",
       "</style>\n",
       "<small>shape: (6, 2)</small><table border=\"1\" class=\"dataframe\"><thead><tr><th>target</th><th>equivalence</th></tr><tr><td>str</td><td>list[struct[2]]</td></tr></thead><tbody><tr><td>&quot;SNOMEDCT&quot;</td><td>[{&quot;equivalent&quot;,390}, {&quot;relatedto&quot;,28}]</td></tr><tr><td>&quot;ICHI&quot;</td><td>[{&quot;equivalent&quot;,141}]</td></tr><tr><td>&quot;ICF&quot;</td><td>[{&quot;equivalent&quot;,78}, {&quot;relatedto&quot;,13}]</td></tr><tr><td>&quot;LOINC&quot;</td><td>[{&quot;relatedto&quot;,95}, {&quot;equivalent&quot;,220}]</td></tr><tr><td>&quot;ICD10&quot;</td><td>[{&quot;equivalent&quot;,438}]</td></tr><tr><td>&quot;ICD11&quot;</td><td>[{&quot;equivalent&quot;,428}]</td></tr></tbody></table></div>"
      ],
      "text/plain": [
       "shape: (6, 2)\n",
       "┌──────────┬─────────────────────────────────┐\n",
       "│ target   ┆ equivalence                     │\n",
       "│ ---      ┆ ---                             │\n",
       "│ str      ┆ list[struct[2]]                 │\n",
       "╞══════════╪═════════════════════════════════╡\n",
       "│ SNOMEDCT ┆ [{\"equivalent\",390}, {\"related… │\n",
       "│ ICHI     ┆ [{\"equivalent\",141}]            │\n",
       "│ ICF      ┆ [{\"equivalent\",78}, {\"relatedt… │\n",
       "│ LOINC    ┆ [{\"relatedto\",95}, {\"equivalen… │\n",
       "│ ICD10    ┆ [{\"equivalent\",438}]            │\n",
       "│ ICD11    ┆ [{\"equivalent\",428}]            │\n",
       "└──────────┴─────────────────────────────────┘"
      ]
     },
     "execution_count": 13,
     "metadata": {},
     "output_type": "execute_result"
    }
   ],
   "source": [
    "# SCT mapping has two types of equivalence relationships\n",
    "many_to_one.group_by(\"target\").agg(pl.col(\"equivalence\").value_counts())"
   ]
  },
  {
   "cell_type": "code",
   "execution_count": 14,
   "metadata": {},
   "outputs": [],
   "source": [
    "# Unique WHO ANC Code\n",
    "who_unique = who.select(\n",
    "    pl.col(\"who_anc_code\").alias(\"code\"),\n",
    "    pl.col(\"who_anc_display\").alias(\"rubric\"),\n",
    ").unique()\n",
    "\n",
    "# exclude 70 mappings not in snomed\n",
    "who_sct = many_to_one.filter((pl.col(\"target\") == \"SNOMEDCT\")).with_columns(\n",
    "    pl.col(\"code\").cast(pl.Int64)\n",
    ")\n"
   ]
  },
  {
   "cell_type": "code",
   "execution_count": 15,
   "metadata": {},
   "outputs": [
    {
     "data": {
      "text/html": [
       "<div><style>\n",
       ".dataframe > thead > tr,\n",
       ".dataframe > tbody > tr {\n",
       "  text-align: right;\n",
       "  white-space: pre-wrap;\n",
       "}\n",
       "</style>\n",
       "<small>shape: (70, 1)</small><table border=\"1\" class=\"dataframe\"><thead><tr><th>code</th></tr><tr><td>i64</td></tr></thead><tbody><tr><td>416237000</td></tr><tr><td>442084003</td></tr><tr><td>55052008</td></tr><tr><td>736693005</td></tr><tr><td>118246004</td></tr><tr><td>&hellip;</td></tr><tr><td>413672003</td></tr><tr><td>271650006</td></tr><tr><td>733461000</td></tr><tr><td>31868001</td></tr><tr><td>12803000</td></tr></tbody></table></div>"
      ],
      "text/plain": [
       "shape: (70, 1)\n",
       "┌───────────┐\n",
       "│ code      │\n",
       "│ ---       │\n",
       "│ i64       │\n",
       "╞═══════════╡\n",
       "│ 416237000 │\n",
       "│ 442084003 │\n",
       "│ 55052008  │\n",
       "│ 736693005 │\n",
       "│ 118246004 │\n",
       "│ …         │\n",
       "│ 413672003 │\n",
       "│ 271650006 │\n",
       "│ 733461000 │\n",
       "│ 31868001  │\n",
       "│ 12803000  │\n",
       "└───────────┘"
      ]
     },
     "execution_count": 15,
     "metadata": {},
     "output_type": "execute_result"
    }
   ],
   "source": [
    "# SCT codes in WHO ANC that are not in SNOMED IPS\n",
    "# For example 720407008|Mother victim of domestic violence\n",
    "sct_not_in_ips = (\n",
    "    who_sct.join(Concept, left_on=\"code\", right_on=\"id\", how=\"left\")\n",
    "    .filter(pl.col(\"active\").is_null())\n",
    "    .select(\"code\")\n",
    "    .unique()\n",
    ")\n",
    "\n",
    "sct_not_in_ips"
   ]
  },
  {
   "cell_type": "code",
   "execution_count": 16,
   "metadata": {},
   "outputs": [],
   "source": [
    "who_icd10 = many_to_one.filter(pl.col(\"target\") == \"ICD10\").select(\n",
    "    \"who_anc_code\", \"code\"\n",
    ")\n",
    "\n",
    "# mappings to 3- and 4-position ICD10 codes\n",
    "who_icd10_3 = who_icd10.filter(pl.col(\"code\").str.len_chars() < 4)\n",
    "who_icd10_4 = who_icd10.filter(pl.col(\"code\").str.len_chars() == 4)"
   ]
  },
  {
   "cell_type": "code",
   "execution_count": 17,
   "metadata": {},
   "outputs": [],
   "source": [
    "who_sct_equivalent = who_sct.filter(\n",
    "    (pl.col(\"equivalence\") == \"equivalent\") & (~pl.col(\"code\").is_in(sct_not_in_ips))\n",
    ").select(\"who_anc_code\", \"code\")\n",
    "\n",
    "who_sct_related = who_sct.filter(\n",
    "    (pl.col(\"equivalence\") == \"relatedto\") & (~pl.col(\"code\").is_in(sct_not_in_ips))\n",
    ").select(\"who_anc_code\", \"code\")"
   ]
  },
  {
   "cell_type": "code",
   "execution_count": 18,
   "metadata": {},
   "outputs": [
    {
     "data": {
      "text/plain": [
       "[<kuzu.query_result.QueryResult at 0x13b9148d0>,\n",
       " <kuzu.query_result.QueryResult at 0x13b916190>,\n",
       " <kuzu.query_result.QueryResult at 0x13b914810>]"
      ]
     },
     "execution_count": 18,
     "metadata": {},
     "output_type": "execute_result"
    }
   ],
   "source": [
    "# load WhoAncCode\n",
    "conn.execute(\n",
    "    \"DROP TABLE IF EXISTS WhoAncCode;\"\n",
    "    + ddl.who_anc.WhoAncCode\n",
    "    + \"COPY WhoAncCode FROM who_unique;\"\n",
    ")"
   ]
  },
  {
   "cell_type": "code",
   "execution_count": 19,
   "metadata": {},
   "outputs": [
    {
     "data": {
      "text/plain": [
       "[<kuzu.query_result.QueryResult at 0x13b916e10>,\n",
       " <kuzu.query_result.QueryResult at 0x13b916b90>,\n",
       " <kuzu.query_result.QueryResult at 0x13b916f50>,\n",
       " <kuzu.query_result.QueryResult at 0x13b916fd0>,\n",
       " <kuzu.query_result.QueryResult at 0x13b917050>]"
      ]
     },
     "execution_count": 19,
     "metadata": {},
     "output_type": "execute_result"
    }
   ],
   "source": [
    "conn.execute(\n",
    "    \"DROP TABLE IF EXISTS EquivalentTo;\"\n",
    "    + ddl.who_anc.EquivalentTo\n",
    "    + \"COPY EquivalentTo_WhoAncCode_SCT FROM who_sct_equivalent;\"\n",
    "    + \"COPY EquivalentTo_WhoAncCode_ICD10Category3 FROM who_icd10_3;\"\n",
    "    + \"COPY EquivalentTo_WhoAncCode_ICD10Category4 FROM who_icd10_4;\"\n",
    ")\n"
   ]
  },
  {
   "cell_type": "code",
   "execution_count": 21,
   "metadata": {},
   "outputs": [
    {
     "data": {
      "text/plain": [
       "[<kuzu.query_result.QueryResult at 0x13b537790>,\n",
       " <kuzu.query_result.QueryResult at 0x115e55c10>,\n",
       " <kuzu.query_result.QueryResult at 0x11555b450>]"
      ]
     },
     "execution_count": 21,
     "metadata": {},
     "output_type": "execute_result"
    }
   ],
   "source": [
    "conn.execute(\n",
    "    \"DROP TABLE IF EXISTS RelatedTo;\"\n",
    "    + ddl.who_anc.RelatedTo\n",
    "    + \"COPY RelatedTo FROM who_sct_related;\"\n",
    ")\n"
   ]
  },
  {
   "cell_type": "code",
   "execution_count": null,
   "metadata": {},
   "outputs": [],
   "source": [
    "# SNOMED-CT codes with exponent notation\n",
    "sct_errors = [\n",
    "    {\n",
    "        \"code\": \"ANC.B5.DE24\",\n",
    "        \"display\": \"Leg cramps\",\n",
    "        \"target\": [\n",
    "            {\n",
    "                \"code\": \"1.56399E+16\",\n",
    "                \"display\": \"Cramp of muscle of bilateral lower limbs (finding)\",\n",
    "                \"equivalence\": \"relatedto\",\n",
    "            }\n",
    "        ],\n",
    "    },\n",
    "    {\n",
    "        \"code\": \"ANC.B5.DE33\",\n",
    "        \"display\": \"Pain - Leg\",\n",
    "        \"target\": [\n",
    "            {\n",
    "                \"code\": \"1.22475E+16\",\n",
    "                \"display\": \"Pain in bilateral lower legs (finding)\",\n",
    "                \"equivalence\": \"relatedto\",\n",
    "            }\n",
    "        ],\n",
    "    },\n",
    "    {\n",
    "        \"code\": \"ANC.B7.DE30\",\n",
    "        \"display\": \"Leg cramps\",\n",
    "        \"target\": [\n",
    "            {\n",
    "                \"code\": \"1.56399E+16\",\n",
    "                \"display\": \"Cramp of muscle of bilateral lower limbs (finding)\",\n",
    "                \"equivalence\": \"relatedto\",\n",
    "            }\n",
    "        ],\n",
    "    },\n",
    "    {\n",
    "        \"code\": \"ANC.B7.DE35\",\n",
    "        \"display\": \"Pain - Leg\",\n",
    "        \"target\": [\n",
    "            {\n",
    "                \"code\": \"1.22475E+16\",\n",
    "                \"display\": \"Pain in bilateral lower legs (finding)\",\n",
    "                \"equivalence\": \"relatedto\",\n",
    "            }\n",
    "        ],\n",
    "    },\n",
    "    {\n",
    "        \"code\": \"ANC.B7.DE56\",\n",
    "        \"display\": \"Leg cramps\",\n",
    "        \"target\": [\n",
    "            {\n",
    "                \"code\": \"1.56399E+16\",\n",
    "                \"display\": \"Cramp of muscle of bilateral lower limbs (finding)\",\n",
    "                \"equivalence\": \"relatedto\",\n",
    "            }\n",
    "        ],\n",
    "    },\n",
    "    {\n",
    "        \"code\": \"ANC.B7.DE61\",\n",
    "        \"display\": \"Pain - Leg\",\n",
    "        \"target\": [\n",
    "            {\n",
    "                \"code\": \"1.22475E+16\",\n",
    "                \"display\": \"Pain in bilateral lower legs (finding)\",\n",
    "                \"equivalence\": \"relatedto\",\n",
    "            }\n",
    "        ],\n",
    "    },\n",
    "    {\n",
    "        \"code\": \"ANC.B8.DE90\",\n",
    "        \"display\": \"Mucopurulent cervicitis\",\n",
    "        \"target\": [\n",
    "            {\n",
    "                \"code\": \"1.07437E+16\",\n",
    "                \"display\": \"Inflammation of cervix in pregnancy (disorder)\",\n",
    "                \"equivalence\": \"relatedto\",\n",
    "            }\n",
    "        ],\n",
    "    },\n",
    "    {\n",
    "        \"code\": \"ANC.End.17\",\n",
    "        \"display\": \"Preterm Birth\",\n",
    "        \"target\": [\n",
    "            {\n",
    "                \"code\": \"1.07612E+16\",\n",
    "                \"display\": \"Preterm labour with preterm delivery (finding)\",\n",
    "                \"equivalence\": \"equivalent\",\n",
    "            }\n",
    "        ],\n",
    "    },\n",
    "    {\n",
    "        \"code\": \"ANC.B10.DE61\",\n",
    "        \"display\": \"Counselling conducted on healthy eating and keeping physically active\",\n",
    "        \"target\": [\n",
    "            {\n",
    "                \"code\": \"4.41041E+14\",\n",
    "                \"display\": \"Counseling about nutrition (procedure)\",\n",
    "                \"equivalence\": \"equivalent\",\n",
    "            }\n",
    "        ],\n",
    "    },\n",
    "    {\n",
    "        \"code\": \"ANC.B10.DE61\",\n",
    "        \"display\": \"Counselling conducted on healthy eating and keeping physically active\",\n",
    "        \"target\": [\n",
    "            {\n",
    "                \"code\": \"4.41041E+14\",\n",
    "                \"display\": \"Counseling about nutrition (procedure)\",\n",
    "                \"equivalence\": \"equivalent\",\n",
    "            }\n",
    "        ],\n",
    "    },\n",
    "    {\n",
    "        \"code\": \"ANC.B10.DE69\",\n",
    "        \"display\": \"Counselling conducted on balanced energy and protein dietary supplementation\",\n",
    "        \"target\": [\n",
    "            {\n",
    "                \"code\": \"4.41041E+14\",\n",
    "                \"display\": \"Counseling about nutrition (procedure)\",\n",
    "                \"equivalence\": \"equivalent\",\n",
    "            }\n",
    "        ],\n",
    "    },\n",
    "]\n"
   ]
  }
 ],
 "metadata": {
  "kernelspec": {
   "display_name": ".venv",
   "language": "python",
   "name": "python3"
  },
  "language_info": {
   "codemirror_mode": {
    "name": "ipython",
    "version": 3
   },
   "file_extension": ".py",
   "mimetype": "text/x-python",
   "name": "python",
   "nbconvert_exporter": "python",
   "pygments_lexer": "ipython3",
   "version": "3.11.11"
  }
 },
 "nbformat": 4,
 "nbformat_minor": 2
}
