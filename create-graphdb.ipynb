{
 "cells": [
  {
   "cell_type": "code",
   "execution_count": null,
   "metadata": {},
   "outputs": [
    {
     "data": {
      "text/plain": [
       "[<kuzu.query_result.QueryResult at 0x11c2d1110>,\n",
       " <kuzu.query_result.QueryResult at 0x11c2d3e50>,\n",
       " <kuzu.query_result.QueryResult at 0x10e139850>]"
      ]
     },
     "execution_count": 8,
     "metadata": {},
     "output_type": "execute_result"
    }
   ],
   "source": [
    "from pathlib import Path\n",
    "\n",
    "import kuzu\n",
    "import polars as pl\n",
    "\n",
    "from ddl import snomed\n",
    "\n",
    "\n",
    "snomed_data = Path(\"./data/external/snomed-ips/Snapshot/Terminology/\")\n",
    "kuzu_path = Path(\"./data/internal/kuzu-db/\")\n",
    "if kuzu_path.exists:\n",
    "    for file in kuzu_path.glob(\"*\"):\n",
    "        file.unlink(file)\n",
    "    kuzu_path.rmdir()\n",
    "    kuzu_path.mkdir()\n",
    "\n",
    "db = kuzu.Database(kuzu_path)\n",
    "conn = kuzu.Connection(db)\n",
    "\n",
    "# for file in snomed_data.glob(\"*.txt\"):\n",
    "#     if file.stem.split(\"_\")[1].lower() in [\"concept\", \"relationship\"]:\n",
    "#         print(file.stem)\n",
    "\n",
    "\n",
    "# load Concepts\n",
    "df = pl.read_csv(\n",
    "    snomed_data / \"sct2_Concept_IPSSnapshot_IPST_20240701.txt\", separator=\"\\t\"\n",
    ").with_columns(\n",
    "    pl.col(\"effectiveTime\").cast(pl.String).str.to_date(\"%Y%m%d\"),\n",
    "    pl.col(\"active\").cast(pl.Boolean),\n",
    ")\n",
    "conn.execute(snomed[\"concept\"] + \"COPY concept FROM df;\")\n",
    "\n",
    "\n",
    "# load Relationship, note we need to change ordering of columns for loading in Kuzu\n",
    "df = (\n",
    "    pl.read_csv(\n",
    "        snomed_data / \"sct2_Relationship_IPSSnapshot_IPST_20240701.txt\", separator=\"\\t\"\n",
    "    )\n",
    "    .with_columns(\n",
    "        pl.col(\"effectiveTime\").cast(pl.String).str.to_date(\"%Y%m%d\"),\n",
    "        pl.col(\"active\").cast(pl.Boolean),\n",
    "    )\n",
    "    .select(\n",
    "        pl.col(\n",
    "            [\n",
    "                \"sourceId\",\n",
    "                \"destinationId\",\n",
    "                \"id\",\n",
    "                \"effectiveTime\",\n",
    "                \"active\",\n",
    "                \"moduleId\",\n",
    "                \"relationshipGroup\",\n",
    "                \"typeId\",\n",
    "                \"characteristicTypeId\",\n",
    "                \"modifierId\",\n",
    "            ]\n",
    "        )\n",
    "    )\n",
    ")\n",
    "conn.execute(\n",
    "    \"DROP TABLE IF EXISTS relationship;\"\n",
    "    + snomed[\"relationship\"]\n",
    "    + \"COPY relationship FROM df;\"\n",
    ")"
   ]
  },
  {
   "cell_type": "code",
   "execution_count": 23,
   "metadata": {},
   "outputs": [
    {
     "data": {
      "text/plain": [
       "[<kuzu.query_result.QueryResult at 0x110759f10>,\n",
       " <kuzu.query_result.QueryResult at 0x10ee63290>,\n",
       " <kuzu.query_result.QueryResult at 0x10ee60b10>]"
      ]
     },
     "execution_count": 23,
     "metadata": {},
     "output_type": "execute_result"
    }
   ],
   "source": [
    "ddl_concept = \"\"\"\n",
    "DROP TABLE IF EXISTS concept;\n",
    "CREATE NODE TABLE concept(\n",
    "    id INT64,\n",
    "    effectiveTime DATE,\n",
    "    active BOOLEAN,\n",
    "    moduleId INT64,\n",
    "    definitionStatusId INT64,\n",
    "    PRIMARY KEY (id)\n",
    ");\n",
    "COPY concept FROM df;\n",
    "\"\"\"\n",
    "\n",
    "conn.execute(ddl_concept)"
   ]
  },
  {
   "cell_type": "code",
   "execution_count": null,
   "metadata": {},
   "outputs": [],
   "source": [
    "ddl_relationship = \"\"\"\n",
    "DROP TABLE IF EXISTS relationship;\n",
    "CREATE NODE TABLE relationship(\n",
    "id INT64,\n",
    "effectiveTime DATE,\n",
    "active BOOLEAN,\n",
    "moduleId INT64,\n",
    "sourceId INT64,\n",
    "destinationId INT64,\n",
    "relationshipGroup INT64,\n",
    "typeId INT64,\n",
    "characteristicTypeId INT64,\n",
    "modifierId INT64,\n",
    "\"\"\""
   ]
  }
 ],
 "metadata": {
  "kernelspec": {
   "display_name": ".venv",
   "language": "python",
   "name": "python3"
  },
  "language_info": {
   "codemirror_mode": {
    "name": "ipython",
    "version": 3
   },
   "file_extension": ".py",
   "mimetype": "text/x-python",
   "name": "python",
   "nbconvert_exporter": "python",
   "pygments_lexer": "ipython3",
   "version": "3.11.11"
  }
 },
 "nbformat": 4,
 "nbformat_minor": 2
}
