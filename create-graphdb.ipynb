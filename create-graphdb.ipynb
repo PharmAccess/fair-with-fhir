{
 "cells": [
  {
   "cell_type": "code",
   "execution_count": 4,
   "metadata": {},
   "outputs": [
    {
     "data": {
      "text/plain": [
       "[<kuzu.query_result.QueryResult at 0x11cebb210>,\n",
       " <kuzu.query_result.QueryResult at 0x11d29ec90>,\n",
       " <kuzu.query_result.QueryResult at 0x11d2b8b10>]"
      ]
     },
     "execution_count": 4,
     "metadata": {},
     "output_type": "execute_result"
    }
   ],
   "source": [
    "from pathlib import Path\n",
    "\n",
    "import altair as alt\n",
    "import kuzu\n",
    "import polars as pl\n",
    "\n",
    "from ddl import snomed\n",
    "\n",
    "\n",
    "snomed_data = Path(\"./data/external/snomed-ips/Snapshot/Terminology/\")\n",
    "kuzu_path = Path(\"./data/internal/kuzu-db/\")\n",
    "if kuzu_path.exists:\n",
    "    for file in kuzu_path.glob(\"*\"):\n",
    "        file.unlink(file)\n",
    "    kuzu_path.rmdir()\n",
    "    kuzu_path.mkdir()\n",
    "\n",
    "db = kuzu.Database(kuzu_path)\n",
    "conn = kuzu.Connection(db)\n",
    "\n",
    "# for file in snomed_data.glob(\"*.txt\"):\n",
    "#     if file.stem.split(\"_\")[1].lower() in [\"concept\", \"relationship\"]:\n",
    "#         print(file.stem)\n",
    "\n",
    "\n",
    "def read_snomed(path: Path) -> pl.DataFrame:\n",
    "    return pl.read_csv(path, separator=\"\\t\").with_columns(\n",
    "        pl.col(\"effectiveTime\").cast(pl.String).str.to_date(\"%Y%m%d\"),\n",
    "        pl.col(\"active\").cast(pl.Boolean),\n",
    "    )\n",
    "\n",
    "\n",
    "# load Concepts\n",
    "Concept = read_snomed(snomed_data / \"sct2_Concept_IPSSnapshot_IPST_20240701.txt\")\n",
    "conn.execute(snomed[\"Concept\"] + \"COPY concept FROM Concept;\")\n",
    "\n",
    "\n",
    "# load Relationship, note we need to change ordering of columns for loading in Kuzu\n",
    "Relationship = read_snomed(\n",
    "    snomed_data / \"sct2_Relationship_IPSSnapshot_IPST_20240701.txt\"\n",
    ").select(\n",
    "    pl.col(\n",
    "        [\n",
    "            \"sourceId\",\n",
    "            \"destinationId\",\n",
    "            \"id\",\n",
    "            \"effectiveTime\",\n",
    "            \"active\",\n",
    "            \"moduleId\",\n",
    "            \"relationshipGroup\",\n",
    "            \"typeId\",\n",
    "            \"characteristicTypeId\",\n",
    "            \"modifierId\",\n",
    "        ]\n",
    "    )\n",
    ")\n",
    "\n",
    "conn.execute(\n",
    "    \"DROP TABLE IF EXISTS relationship;\"\n",
    "    + snomed[\"Relationship\"]\n",
    "    + \"COPY Relationship FROM Relationship;\"\n",
    ")"
   ]
  },
  {
   "cell_type": "code",
   "execution_count": 8,
   "metadata": {},
   "outputs": [
    {
     "data": {
      "text/html": [
       "<div><style>\n",
       ".dataframe > thead > tr,\n",
       ".dataframe > tbody > tr {\n",
       "  text-align: right;\n",
       "  white-space: pre-wrap;\n",
       "}\n",
       "</style>\n",
       "<small>shape: (19_697, 5)</small><table border=\"1\" class=\"dataframe\"><thead><tr><th>id</th><th>effectiveTime</th><th>active</th><th>moduleId</th><th>definitionStatusId</th></tr><tr><td>i64</td><td>date</td><td>bool</td><td>i64</td><td>i64</td></tr></thead><tbody><tr><td>109006</td><td>2024-07-01</td><td>true</td><td>999991001000101</td><td>900000000000074008</td></tr><tr><td>111002</td><td>2024-07-01</td><td>true</td><td>999991001000101</td><td>900000000000074008</td></tr><tr><td>140004</td><td>2024-07-01</td><td>true</td><td>999991001000101</td><td>900000000000073002</td></tr><tr><td>219006</td><td>2024-07-01</td><td>true</td><td>999991001000101</td><td>900000000000074008</td></tr><tr><td>252000</td><td>2024-07-01</td><td>true</td><td>999991001000101</td><td>900000000000074008</td></tr><tr><td>&hellip;</td><td>&hellip;</td><td>&hellip;</td><td>&hellip;</td><td>&hellip;</td></tr><tr><td>900000000000536009</td><td>2024-07-01</td><td>true</td><td>999991001000101</td><td>900000000000074008</td></tr><tr><td>900000000000537000</td><td>2024-07-01</td><td>true</td><td>999991001000101</td><td>900000000000074008</td></tr><tr><td>900000000000548007</td><td>2024-07-01</td><td>true</td><td>999991001000101</td><td>900000000000074008</td></tr><tr><td>900000000000549004</td><td>2024-07-01</td><td>true</td><td>999991001000101</td><td>900000000000074008</td></tr><tr><td>900000000000550004</td><td>2024-07-01</td><td>true</td><td>999991001000101</td><td>900000000000074008</td></tr></tbody></table></div>"
      ],
      "text/plain": [
       "shape: (19_697, 5)\n",
       "┌────────────────────┬───────────────┬────────┬─────────────────┬────────────────────┐\n",
       "│ id                 ┆ effectiveTime ┆ active ┆ moduleId        ┆ definitionStatusId │\n",
       "│ ---                ┆ ---           ┆ ---    ┆ ---             ┆ ---                │\n",
       "│ i64                ┆ date          ┆ bool   ┆ i64             ┆ i64                │\n",
       "╞════════════════════╪═══════════════╪════════╪═════════════════╪════════════════════╡\n",
       "│ 109006             ┆ 2024-07-01    ┆ true   ┆ 999991001000101 ┆ 900000000000074008 │\n",
       "│ 111002             ┆ 2024-07-01    ┆ true   ┆ 999991001000101 ┆ 900000000000074008 │\n",
       "│ 140004             ┆ 2024-07-01    ┆ true   ┆ 999991001000101 ┆ 900000000000073002 │\n",
       "│ 219006             ┆ 2024-07-01    ┆ true   ┆ 999991001000101 ┆ 900000000000074008 │\n",
       "│ 252000             ┆ 2024-07-01    ┆ true   ┆ 999991001000101 ┆ 900000000000074008 │\n",
       "│ …                  ┆ …             ┆ …      ┆ …               ┆ …                  │\n",
       "│ 900000000000536009 ┆ 2024-07-01    ┆ true   ┆ 999991001000101 ┆ 900000000000074008 │\n",
       "│ 900000000000537000 ┆ 2024-07-01    ┆ true   ┆ 999991001000101 ┆ 900000000000074008 │\n",
       "│ 900000000000548007 ┆ 2024-07-01    ┆ true   ┆ 999991001000101 ┆ 900000000000074008 │\n",
       "│ 900000000000549004 ┆ 2024-07-01    ┆ true   ┆ 999991001000101 ┆ 900000000000074008 │\n",
       "│ 900000000000550004 ┆ 2024-07-01    ┆ true   ┆ 999991001000101 ┆ 900000000000074008 │\n",
       "└────────────────────┴───────────────┴────────┴─────────────────┴────────────────────┘"
      ]
     },
     "execution_count": 8,
     "metadata": {},
     "output_type": "execute_result"
    }
   ],
   "source": [
    "Concept"
   ]
  },
  {
   "cell_type": "code",
   "execution_count": 15,
   "metadata": {},
   "outputs": [
    {
     "data": {
      "text/html": [
       "<div><style>\n",
       ".dataframe > thead > tr,\n",
       ".dataframe > tbody > tr {\n",
       "  text-align: right;\n",
       "  white-space: pre-wrap;\n",
       "}\n",
       "</style>\n",
       "<small>shape: (2, 2)</small><table border=\"1\" class=\"dataframe\"><thead><tr><th>typeId</th><th>count</th></tr><tr><td>i64</td><td>u32</td></tr></thead><tbody><tr><td>900000000000003001</td><td>19697</td></tr><tr><td>900000000000013009</td><td>40417</td></tr></tbody></table></div>"
      ],
      "text/plain": [
       "shape: (2, 2)\n",
       "┌────────────────────┬───────┐\n",
       "│ typeId             ┆ count │\n",
       "│ ---                ┆ ---   │\n",
       "│ i64                ┆ u32   │\n",
       "╞════════════════════╪═══════╡\n",
       "│ 900000000000003001 ┆ 19697 │\n",
       "│ 900000000000013009 ┆ 40417 │\n",
       "└────────────────────┴───────┘"
      ]
     },
     "execution_count": 15,
     "metadata": {},
     "output_type": "execute_result"
    }
   ],
   "source": [
    "Description = read_snomed(\n",
    "    snomed_data / \"sct2_Description_IPSSnapshot-en_IPST_20240701.txt\"\n",
    ")\n",
    "\n",
    "# Two type of descriptions:\n",
    "# 900000000000003001 | Fully qualified name\n",
    "# 900000000000013009 | Synonyms\n",
    "Description.select(pl.col(\"typeId\").value_counts()).unnest(\"typeId\")"
   ]
  },
  {
   "cell_type": "code",
   "execution_count": null,
   "metadata": {},
   "outputs": [],
   "source": [
    "full_name_id = 900000000000003001\n",
    "\n",
    "Description_fullname = Description.filter(pl.col(\"typeId\") == full_name_id)\n",
    "Description_fullname"
   ]
  },
  {
   "cell_type": "code",
   "execution_count": null,
   "metadata": {},
   "outputs": [
    {
     "data": {
      "text/html": [
       "<div><style>\n",
       ".dataframe > thead > tr,\n",
       ".dataframe > tbody > tr {\n",
       "  text-align: right;\n",
       "  white-space: pre-wrap;\n",
       "}\n",
       "</style>\n",
       "<small>shape: (2, 2)</small><table border=\"1\" class=\"dataframe\"><thead><tr><th>typeId</th><th>count</th></tr><tr><td>i64</td><td>u32</td></tr></thead><tbody><tr><td>900000000000003001</td><td>19697</td></tr><tr><td>900000000000013009</td><td>40417</td></tr></tbody></table></div>"
      ],
      "text/plain": [
       "shape: (2, 2)\n",
       "┌────────────────────┬───────┐\n",
       "│ typeId             ┆ count │\n",
       "│ ---                ┆ ---   │\n",
       "│ i64                ┆ u32   │\n",
       "╞════════════════════╪═══════╡\n",
       "│ 900000000000003001 ┆ 19697 │\n",
       "│ 900000000000013009 ┆ 40417 │\n",
       "└────────────────────┴───────┘"
      ]
     },
     "execution_count": 14,
     "metadata": {},
     "output_type": "execute_result"
    }
   ],
   "source": []
  },
  {
   "cell_type": "code",
   "execution_count": null,
   "metadata": {},
   "outputs": [
    {
     "name": "stdout",
     "output_type": "stream",
     "text": [
      "(66017, 10)\n"
     ]
    },
    {
     "data": {
      "text/html": [
       "\n",
       "<style>\n",
       "  #altair-viz-51306b8a798f4d8f90fdf46f27dd42d8.vega-embed {\n",
       "    width: 100%;\n",
       "    display: flex;\n",
       "  }\n",
       "\n",
       "  #altair-viz-51306b8a798f4d8f90fdf46f27dd42d8.vega-embed details,\n",
       "  #altair-viz-51306b8a798f4d8f90fdf46f27dd42d8.vega-embed details summary {\n",
       "    position: relative;\n",
       "  }\n",
       "</style>\n",
       "<div id=\"altair-viz-51306b8a798f4d8f90fdf46f27dd42d8\"></div>\n",
       "<script type=\"text/javascript\">\n",
       "  var VEGA_DEBUG = (typeof VEGA_DEBUG == \"undefined\") ? {} : VEGA_DEBUG;\n",
       "  (function(spec, embedOpt){\n",
       "    let outputDiv = document.currentScript.previousElementSibling;\n",
       "    if (outputDiv.id !== \"altair-viz-51306b8a798f4d8f90fdf46f27dd42d8\") {\n",
       "      outputDiv = document.getElementById(\"altair-viz-51306b8a798f4d8f90fdf46f27dd42d8\");\n",
       "    }\n",
       "\n",
       "    const paths = {\n",
       "      \"vega\": \"https://cdn.jsdelivr.net/npm/vega@5?noext\",\n",
       "      \"vega-lib\": \"https://cdn.jsdelivr.net/npm/vega-lib?noext\",\n",
       "      \"vega-lite\": \"https://cdn.jsdelivr.net/npm/vega-lite@5.20.1?noext\",\n",
       "      \"vega-embed\": \"https://cdn.jsdelivr.net/npm/vega-embed@6?noext\",\n",
       "    };\n",
       "\n",
       "    function maybeLoadScript(lib, version) {\n",
       "      var key = `${lib.replace(\"-\", \"\")}_version`;\n",
       "      return (VEGA_DEBUG[key] == version) ?\n",
       "        Promise.resolve(paths[lib]) :\n",
       "        new Promise(function(resolve, reject) {\n",
       "          var s = document.createElement('script');\n",
       "          document.getElementsByTagName(\"head\")[0].appendChild(s);\n",
       "          s.async = true;\n",
       "          s.onload = () => {\n",
       "            VEGA_DEBUG[key] = version;\n",
       "            return resolve(paths[lib]);\n",
       "          };\n",
       "          s.onerror = () => reject(`Error loading script: ${paths[lib]}`);\n",
       "          s.src = paths[lib];\n",
       "        });\n",
       "    }\n",
       "\n",
       "    function showError(err) {\n",
       "      outputDiv.innerHTML = `<div class=\"error\" style=\"color:red;\">${err}</div>`;\n",
       "      throw err;\n",
       "    }\n",
       "\n",
       "    function displayChart(vegaEmbed) {\n",
       "      vegaEmbed(outputDiv, spec, embedOpt)\n",
       "        .catch(err => showError(`Javascript Error: ${err.message}<br>This usually means there's a typo in your chart specification. See the javascript console for the full traceback.`));\n",
       "    }\n",
       "\n",
       "    if(typeof define === \"function\" && define.amd) {\n",
       "      requirejs.config({paths});\n",
       "      let deps = [\"vega-embed\"];\n",
       "      require(deps, displayChart, err => showError(`Error loading script: ${err.message}`));\n",
       "    } else {\n",
       "      maybeLoadScript(\"vega\", \"5\")\n",
       "        .then(() => maybeLoadScript(\"vega-lite\", \"5.20.1\"))\n",
       "        .then(() => maybeLoadScript(\"vega-embed\", \"6\"))\n",
       "        .catch(showError)\n",
       "        .then(() => displayChart(vegaEmbed));\n",
       "    }\n",
       "  })({\"config\": {\"view\": {\"continuousWidth\": 300, \"continuousHeight\": 300}}, \"data\": {\"name\": \"data-e45b8b1e4fb804a527cbd869d59fdb9b\"}, \"mark\": {\"type\": \"bar\", \"tooltip\": true}, \"encoding\": {\"x\": {\"field\": \"count\", \"scale\": {\"type\": \"symlog\"}, \"type\": \"quantitative\"}, \"y\": {\"field\": \"typeId\", \"sort\": \"-x\", \"type\": \"ordinal\"}}, \"params\": [{\"name\": \"param_7\", \"select\": {\"type\": \"interval\", \"encodings\": [\"x\", \"y\"]}, \"bind\": \"scales\"}], \"$schema\": \"https://vega.github.io/schema/vega-lite/v5.20.1.json\", \"datasets\": {\"data-e45b8b1e4fb804a527cbd869d59fdb9b\": [{\"typeId\": 766939001, \"count\": 233}, {\"typeId\": 363700003, \"count\": 184}, {\"typeId\": 1149367008, \"count\": 19}, {\"typeId\": 719722006, \"count\": 19}, {\"typeId\": 1149366004, \"count\": 7}, {\"typeId\": 704321009, \"count\": 1}, {\"typeId\": 836358009, \"count\": 62}, {\"typeId\": 424226004, \"count\": 250}, {\"typeId\": 127489000, \"count\": 976}, {\"typeId\": 118168003, \"count\": 167}, {\"typeId\": 246090004, \"count\": 146}, {\"typeId\": 246513007, \"count\": 9}, {\"typeId\": 260870009, \"count\": 16}, {\"typeId\": 732945000, \"count\": 750}, {\"typeId\": 827081001, \"count\": 1}, {\"typeId\": 260507000, \"count\": 37}, {\"typeId\": 246454002, \"count\": 679}, {\"typeId\": 363709002, \"count\": 5}, {\"typeId\": 255234002, \"count\": 122}, {\"typeId\": 424876005, \"count\": 66}, {\"typeId\": 408730004, \"count\": 71}, {\"typeId\": 363714003, \"count\": 1988}, {\"typeId\": 363713009, \"count\": 870}, {\"typeId\": 363699004, \"count\": 135}, {\"typeId\": 424361007, \"count\": 21}, {\"typeId\": 425391005, \"count\": 10}, {\"typeId\": 246093002, \"count\": 90}, {\"typeId\": 408732007, \"count\": 216}, {\"typeId\": 762949000, \"count\": 1181}, {\"typeId\": 371881003, \"count\": 12}, {\"typeId\": 763032000, \"count\": 666}, {\"typeId\": 405815000, \"count\": 11}, {\"typeId\": 424244007, \"count\": 17}, {\"typeId\": 408731000, \"count\": 217}, {\"typeId\": 118169006, \"count\": 1423}, {\"typeId\": 733725009, \"count\": 431}, {\"typeId\": 733722007, \"count\": 431}, {\"typeId\": 419066007, \"count\": 13}, {\"typeId\": 418775008, \"count\": 40}, {\"typeId\": 118171006, \"count\": 994}, {\"typeId\": 732943007, \"count\": 1181}, {\"typeId\": 370131001, \"count\": 4}, {\"typeId\": 363701004, \"count\": 82}, {\"typeId\": 363704007, \"count\": 739}, {\"typeId\": 260686004, \"count\": 2407}, {\"typeId\": 726542003, \"count\": 552}, {\"typeId\": 405813007, \"count\": 1190}, {\"typeId\": 405816004, \"count\": 5}, {\"typeId\": 1003735000, \"count\": 1}, {\"typeId\": 370130000, \"count\": 1}, {\"typeId\": 405814001, \"count\": 162}, {\"typeId\": 363589002, \"count\": 71}, {\"typeId\": 363698007, \"count\": 5497}, {\"typeId\": 363703001, \"count\": 54}, {\"typeId\": 732947008, \"count\": 750}, {\"typeId\": 411116001, \"count\": 1090}, {\"typeId\": 116676008, \"count\": 3818}, {\"typeId\": 118170007, \"count\": 49}, {\"typeId\": 42752001, \"count\": 530}, {\"typeId\": 116680003, \"count\": 32111}, {\"typeId\": 370135005, \"count\": 807}, {\"typeId\": 263502005, \"count\": 431}, {\"typeId\": 47429007, \"count\": 57}, {\"typeId\": 408729009, \"count\": 146}, {\"typeId\": 738774007, \"count\": 9}, {\"typeId\": 246075003, \"count\": 504}, {\"typeId\": 840560000, \"count\": 7}, {\"typeId\": 370133003, \"count\": 1039}, {\"typeId\": 116686009, \"count\": 34}, {\"typeId\": 363702006, \"count\": 103}]}}, {\"mode\": \"vega-lite\"});\n",
       "</script>"
      ],
      "text/plain": [
       "alt.Chart(...)"
      ]
     },
     "execution_count": 13,
     "metadata": {},
     "output_type": "execute_result"
    }
   ],
   "source": [
    "# inspect frequency of each type of relationship out of 66,017 relationships\n",
    "print(df.shape)\n",
    "\n",
    "# 116680003 | Is A occurs 32,111 times i.e accounts for half\n",
    "# 363698007 | Finding site 5,497\n",
    "# 116676008 | Associated morphology 3,818\n",
    "type_count = df.select(pl.col(\"typeId\").value_counts()).unnest(\"typeId\")\n",
    "type_count.plot.bar(\n",
    "    alt.X(\"count:Q\").scale(type=\"symlog\"), y=alt.Y(\"typeId:O\").sort(\"-x\")\n",
    ")"
   ]
  },
  {
   "cell_type": "code",
   "execution_count": 11,
   "metadata": {},
   "outputs": [
    {
     "data": {
      "text/html": [
       "<div><style>\n",
       ".dataframe > thead > tr,\n",
       ".dataframe > tbody > tr {\n",
       "  text-align: right;\n",
       "  white-space: pre-wrap;\n",
       "}\n",
       "</style>\n",
       "<small>shape: (1, 1)</small><table border=\"1\" class=\"dataframe\"><thead><tr><th>count</th></tr><tr><td>u32</td></tr></thead><tbody><tr><td>66017</td></tr></tbody></table></div>"
      ],
      "text/plain": [
       "shape: (1, 1)\n",
       "┌───────┐\n",
       "│ count │\n",
       "│ ---   │\n",
       "│ u32   │\n",
       "╞═══════╡\n",
       "│ 66017 │\n",
       "└───────┘"
      ]
     },
     "execution_count": 11,
     "metadata": {},
     "output_type": "execute_result"
    }
   ],
   "source": [
    "type_count.select(pl.col(\"count\")).sum()"
   ]
  },
  {
   "cell_type": "code",
   "execution_count": 12,
   "metadata": {},
   "outputs": [
    {
     "data": {
      "text/plain": [
       "(66017, 10)"
      ]
     },
     "execution_count": 12,
     "metadata": {},
     "output_type": "execute_result"
    }
   ],
   "source": [
    "df.shape"
   ]
  },
  {
   "cell_type": "code",
   "execution_count": null,
   "metadata": {},
   "outputs": [
    {
     "data": {
      "text/plain": [
       "[<kuzu.query_result.QueryResult at 0x110759f10>,\n",
       " <kuzu.query_result.QueryResult at 0x10ee63290>,\n",
       " <kuzu.query_result.QueryResult at 0x10ee60b10>]"
      ]
     },
     "execution_count": 23,
     "metadata": {},
     "output_type": "execute_result"
    }
   ],
   "source": [
    "ddl_concept = \"\"\"\n",
    "DROP TABLE IF EXISTS concept;\n",
    "CREATE NODE TABLE concept(\n",
    "    id INT64,\n",
    "    effectiveTime DATE,\n",
    "    active BOOLEAN,\n",
    "    moduleId INT64,\n",
    "    definitionStatusId INT64,\n",
    "    PRIMARY KEY (id)\n",
    ");\n",
    "COPY concept FROM df;\n",
    "\"\"\"\n",
    "\n",
    "conn.execute(ddl_concept)"
   ]
  },
  {
   "cell_type": "code",
   "execution_count": null,
   "metadata": {},
   "outputs": [],
   "source": [
    "ddl_relationship = \"\"\"\n",
    "DROP TABLE IF EXISTS relationship;\n",
    "CREATE NODE TABLE relationship(\n",
    "id INT64,\n",
    "effectiveTime DATE,\n",
    "active BOOLEAN,\n",
    "moduleId INT64,\n",
    "sourceId INT64,\n",
    "destinationId INT64,\n",
    "relationshipGroup INT64,\n",
    "typeId INT64,\n",
    "characteristicTypeId INT64,\n",
    "modifierId INT64,\n",
    "\"\"\""
   ]
  }
 ],
 "metadata": {
  "kernelspec": {
   "display_name": ".venv",
   "language": "python",
   "name": "python3"
  },
  "language_info": {
   "codemirror_mode": {
    "name": "ipython",
    "version": 3
   },
   "file_extension": ".py",
   "mimetype": "text/x-python",
   "name": "python",
   "nbconvert_exporter": "python",
   "pygments_lexer": "ipython3",
   "version": "3.11.11"
  }
 },
 "nbformat": 4,
 "nbformat_minor": 2
}
