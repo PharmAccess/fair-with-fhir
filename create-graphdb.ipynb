{
 "cells": [
  {
   "cell_type": "code",
   "execution_count": 3,
   "metadata": {},
   "outputs": [],
   "source": [
    "from pathlib import Path\n",
    "\n",
    "import altair as alt\n",
    "import kuzu\n",
    "import polars as pl\n",
    "\n",
    "from ddl import snomed\n",
    "\n",
    "\n",
    "snomed_data = Path(\"./data/external/snomed-ips/Snapshot/Terminology/\")\n",
    "kuzu_path = Path(\"./data/internal/kuzu-db/\")\n",
    "if kuzu_path.exists:\n",
    "    for file in kuzu_path.glob(\"*\"):\n",
    "        file.unlink(file)\n",
    "    kuzu_path.rmdir()\n",
    "    kuzu_path.mkdir()\n",
    "\n",
    "db = kuzu.Database(kuzu_path)\n",
    "conn = kuzu.Connection(db)\n",
    "\n",
    "\n",
    "def read_snomed(path: Path) -> pl.DataFrame:\n",
    "    return pl.read_csv(path, separator=\"\\t\").with_columns(\n",
    "        pl.col(\"effectiveTime\").cast(pl.String).str.to_date(\"%Y%m%d\"),\n",
    "        pl.col(\"active\").cast(pl.Boolean),\n",
    "    )\n"
   ]
  },
  {
   "cell_type": "code",
   "execution_count": 4,
   "metadata": {},
   "outputs": [
    {
     "data": {
      "text/html": [
       "<div><style>\n",
       ".dataframe > thead > tr,\n",
       ".dataframe > tbody > tr {\n",
       "  text-align: right;\n",
       "  white-space: pre-wrap;\n",
       "}\n",
       "</style>\n",
       "<small>shape: (2, 2)</small><table border=\"1\" class=\"dataframe\"><thead><tr><th>typeId</th><th>count</th></tr><tr><td>i64</td><td>u32</td></tr></thead><tbody><tr><td>900000000000013009</td><td>40417</td></tr><tr><td>900000000000003001</td><td>19697</td></tr></tbody></table></div>"
      ],
      "text/plain": [
       "shape: (2, 2)\n",
       "┌────────────────────┬───────┐\n",
       "│ typeId             ┆ count │\n",
       "│ ---                ┆ ---   │\n",
       "│ i64                ┆ u32   │\n",
       "╞════════════════════╪═══════╡\n",
       "│ 900000000000013009 ┆ 40417 │\n",
       "│ 900000000000003001 ┆ 19697 │\n",
       "└────────────────────┴───────┘"
      ]
     },
     "execution_count": 4,
     "metadata": {},
     "output_type": "execute_result"
    }
   ],
   "source": [
    "Description = read_snomed(\n",
    "    snomed_data / \"sct2_Description_IPSSnapshot-en_IPST_20240701.txt\"\n",
    ")\n",
    "\n",
    "# Two type of descriptions:\n",
    "# 900000000000003001 | Fully qualified name\n",
    "# 900000000000013009 | Synonyms\n",
    "Description.select(pl.col(\"typeId\").value_counts()).unnest(\"typeId\")"
   ]
  },
  {
   "cell_type": "code",
   "execution_count": 20,
   "metadata": {},
   "outputs": [
    {
     "data": {
      "text/html": [
       "<div><style>\n",
       ".dataframe > thead > tr,\n",
       ".dataframe > tbody > tr {\n",
       "  text-align: right;\n",
       "  white-space: pre-wrap;\n",
       "}\n",
       "</style>\n",
       "<small>shape: (19_697, 7)</small><table border=\"1\" class=\"dataframe\"><thead><tr><th>id</th><th>effectiveTime</th><th>active</th><th>moduleId</th><th>definitionStatusId</th><th>fullQualifiedName</th><th>synonyms</th></tr><tr><td>i64</td><td>date</td><td>bool</td><td>i64</td><td>i64</td><td>str</td><td>list[str]</td></tr></thead><tbody><tr><td>38464002</td><td>2024-07-01</td><td>true</td><td>999991001000101</td><td>900000000000074008</td><td>&quot;Structure of median nerve (bod…</td><td>[&quot;Median nerve&quot;, &quot;Structure of median nerve&quot;]</td></tr><tr><td>256317002</td><td>2024-07-01</td><td>true</td><td>999991001000101</td><td>900000000000074008</td><td>&quot;Grapes (substance)&quot;</td><td>[&quot;Grapes&quot;, &quot;Grape&quot;]</td></tr><tr><td>12461007</td><td>2024-07-01</td><td>true</td><td>999991001000101</td><td>900000000000074008</td><td>&quot;Structure of pelvic diaphragm …</td><td>[&quot;Pelvic diaphragm&quot;, &quot;Structure of pelvic diaphragm&quot;]</td></tr><tr><td>71049009</td><td>2024-07-01</td><td>true</td><td>999991001000101</td><td>900000000000074008</td><td>&quot;Structure of deep venous syste…</td><td>[&quot;Deep venous system of upper extremity&quot;, &quot;Deep veins of upper extremity&quot;, … &quot;Structure of deep venous system of upper limb&quot;]</td></tr><tr><td>48409008</td><td>2024-07-01</td><td>true</td><td>999991001000101</td><td>900000000000074008</td><td>&quot;Respiratory crackles (finding)&quot;</td><td>[&quot;Respiratory crackles&quot;, &quot;Rales&quot;, &quot;Respiratory crepitations&quot;]</td></tr><tr><td>&hellip;</td><td>&hellip;</td><td>&hellip;</td><td>&hellip;</td><td>&hellip;</td><td>&hellip;</td><td>&hellip;</td></tr><tr><td>127021009</td><td>2024-07-01</td><td>true</td><td>999991001000101</td><td>900000000000073002</td><td>&quot;Neoplasm of adrenal gland (dis…</td><td>[&quot;Neoplasm of adrenal gland&quot;, &quot;Adrenal tumour&quot;, … &quot;Tumor of adrenal gland&quot;]</td></tr><tr><td>235810006</td><td>2024-07-01</td><td>true</td><td>999991001000101</td><td>900000000000074008</td><td>&quot;Bolus obstruction of intestine…</td><td>[&quot;Bolus obstruction of intestine&quot;]</td></tr><tr><td>297220005</td><td>2024-07-01</td><td>true</td><td>999991001000101</td><td>900000000000074008</td><td>&quot;Structure of bone marrow of il…</td><td>[&quot;Iliac crest marrow structure&quot;, &quot;Iliac crest bone marrow&quot;, … &quot;Structure of bone marrow of iliac crest&quot;]</td></tr><tr><td>373373000</td><td>2024-07-01</td><td>true</td><td>999991001000101</td><td>900000000000074008</td><td>&quot;Poorly differentiated histolog…</td><td>[&quot;Poorly differentiated histological grade finding&quot;]</td></tr><tr><td>1197436004</td><td>2024-07-01</td><td>true</td><td>999991001000101</td><td>900000000000073002</td><td>&quot;Product containing precisely a…</td><td>[&quot;Artenimol 20 mg and piperaquine phosphate 160 mg oral tablet&quot;]</td></tr></tbody></table></div>"
      ],
      "text/plain": [
       "shape: (19_697, 7)\n",
       "┌────────────┬───────────────┬────────┬───────────────┬──────────────┬──────────────┬──────────────┐\n",
       "│ id         ┆ effectiveTime ┆ active ┆ moduleId      ┆ definitionSt ┆ fullQualifie ┆ synonyms     │\n",
       "│ ---        ┆ ---           ┆ ---    ┆ ---           ┆ atusId       ┆ dName        ┆ ---          │\n",
       "│ i64        ┆ date          ┆ bool   ┆ i64           ┆ ---          ┆ ---          ┆ list[str]    │\n",
       "│            ┆               ┆        ┆               ┆ i64          ┆ str          ┆              │\n",
       "╞════════════╪═══════════════╪════════╪═══════════════╪══════════════╪══════════════╪══════════════╡\n",
       "│ 38464002   ┆ 2024-07-01    ┆ true   ┆ 9999910010001 ┆ 900000000000 ┆ Structure of ┆ [\"Median     │\n",
       "│            ┆               ┆        ┆ 01            ┆ 074008       ┆ median nerve ┆ nerve\",      │\n",
       "│            ┆               ┆        ┆               ┆              ┆ (bod…        ┆ \"Structure   │\n",
       "│            ┆               ┆        ┆               ┆              ┆              ┆ of…          │\n",
       "│ 256317002  ┆ 2024-07-01    ┆ true   ┆ 9999910010001 ┆ 900000000000 ┆ Grapes       ┆ [\"Grapes\",   │\n",
       "│            ┆               ┆        ┆ 01            ┆ 074008       ┆ (substance)  ┆ \"Grape\"]     │\n",
       "│ 12461007   ┆ 2024-07-01    ┆ true   ┆ 9999910010001 ┆ 900000000000 ┆ Structure of ┆ [\"Pelvic     │\n",
       "│            ┆               ┆        ┆ 01            ┆ 074008       ┆ pelvic       ┆ diaphragm\",  │\n",
       "│            ┆               ┆        ┆               ┆              ┆ diaphragm …  ┆ \"Structur…   │\n",
       "│ 71049009   ┆ 2024-07-01    ┆ true   ┆ 9999910010001 ┆ 900000000000 ┆ Structure of ┆ [\"Deep       │\n",
       "│            ┆               ┆        ┆ 01            ┆ 074008       ┆ deep venous  ┆ venous       │\n",
       "│            ┆               ┆        ┆               ┆              ┆ syste…       ┆ system of    │\n",
       "│            ┆               ┆        ┆               ┆              ┆              ┆ upper …      │\n",
       "│ 48409008   ┆ 2024-07-01    ┆ true   ┆ 9999910010001 ┆ 900000000000 ┆ Respiratory  ┆ [\"Respirator │\n",
       "│            ┆               ┆        ┆ 01            ┆ 074008       ┆ crackles     ┆ y crackles\", │\n",
       "│            ┆               ┆        ┆               ┆              ┆ (finding)    ┆ \"Rale…       │\n",
       "│ …          ┆ …             ┆ …      ┆ …             ┆ …            ┆ …            ┆ …            │\n",
       "│ 127021009  ┆ 2024-07-01    ┆ true   ┆ 9999910010001 ┆ 900000000000 ┆ Neoplasm of  ┆ [\"Neoplasm   │\n",
       "│            ┆               ┆        ┆ 01            ┆ 073002       ┆ adrenal      ┆ of adrenal   │\n",
       "│            ┆               ┆        ┆               ┆              ┆ gland (dis…  ┆ gland\", …    │\n",
       "│ 235810006  ┆ 2024-07-01    ┆ true   ┆ 9999910010001 ┆ 900000000000 ┆ Bolus        ┆ [\"Bolus      │\n",
       "│            ┆               ┆        ┆ 01            ┆ 074008       ┆ obstruction  ┆ obstruction  │\n",
       "│            ┆               ┆        ┆               ┆              ┆ of           ┆ of intesti…  │\n",
       "│            ┆               ┆        ┆               ┆              ┆ intestine…   ┆              │\n",
       "│ 297220005  ┆ 2024-07-01    ┆ true   ┆ 9999910010001 ┆ 900000000000 ┆ Structure of ┆ [\"Iliac      │\n",
       "│            ┆               ┆        ┆ 01            ┆ 074008       ┆ bone marrow  ┆ crest marrow │\n",
       "│            ┆               ┆        ┆               ┆              ┆ of il…       ┆ structure…   │\n",
       "│ 373373000  ┆ 2024-07-01    ┆ true   ┆ 9999910010001 ┆ 900000000000 ┆ Poorly diffe ┆ [\"Poorly dif │\n",
       "│            ┆               ┆        ┆ 01            ┆ 074008       ┆ rentiated    ┆ ferentiated  │\n",
       "│            ┆               ┆        ┆               ┆              ┆ histolog…    ┆ histol…      │\n",
       "│ 1197436004 ┆ 2024-07-01    ┆ true   ┆ 9999910010001 ┆ 900000000000 ┆ Product      ┆ [\"Artenimol  │\n",
       "│            ┆               ┆        ┆ 01            ┆ 073002       ┆ containing   ┆ 20 mg and    │\n",
       "│            ┆               ┆        ┆               ┆              ┆ precisely a… ┆ piperaqu…    │\n",
       "└────────────┴───────────────┴────────┴───────────────┴──────────────┴──────────────┴──────────────┘"
      ]
     },
     "execution_count": 20,
     "metadata": {},
     "output_type": "execute_result"
    }
   ],
   "source": [
    "Concept = (\n",
    "    read_snomed(snomed_data / \"sct2_Concept_IPSSnapshot_IPST_20240701.txt\")\n",
    "    .join(\n",
    "        Description.filter(pl.col(\"typeId\") == 900000000000003001).select(\n",
    "            pl.col(\"conceptId\"), pl.col(\"term\").alias(\"fullQualifiedName\")\n",
    "        ),\n",
    "        left_on=\"id\",\n",
    "        right_on=\"conceptId\",\n",
    "    )\n",
    "    .join(\n",
    "        Description.filter(pl.col(\"typeId\") == 900000000000013009)\n",
    "        .select(pl.col(\"conceptId\"), pl.col(\"term\").alias(\"synonyms\"))\n",
    "        .group_by(pl.col(\"conceptId\"))\n",
    "        .agg(\"synonyms\"),\n",
    "        left_on=\"id\",\n",
    "        right_on=\"conceptId\",\n",
    "    )\n",
    ")\n",
    "Concept"
   ]
  },
  {
   "cell_type": "code",
   "execution_count": 19,
   "metadata": {},
   "outputs": [
    {
     "data": {
      "text/html": [
       "<div><style>\n",
       ".dataframe > thead > tr,\n",
       ".dataframe > tbody > tr {\n",
       "  text-align: right;\n",
       "  white-space: pre-wrap;\n",
       "}\n",
       "</style>\n",
       "<small>shape: (19_697, 2)</small><table border=\"1\" class=\"dataframe\"><thead><tr><th>conceptId</th><th>synonyms</th></tr><tr><td>i64</td><td>list[str]</td></tr></thead><tbody><tr><td>373623009</td><td>[&quot;Osteoarthritis of glenohumeral joint&quot;, &quot;Degenerative joint disease of glenohumeral joint&quot;]</td></tr><tr><td>161445009</td><td>[&quot;H/O: diabetes mellitus&quot;, &quot;Pre-existing diabetes mellitus&quot;, &quot;History of diabetes mellitus&quot;]</td></tr><tr><td>280106006</td><td>[&quot;Entire right fallopian tube&quot;]</td></tr><tr><td>386087005</td><td>[&quot;Collection of aspirated sputum&quot;]</td></tr><tr><td>69195002</td><td>[&quot;Degeneration of cervical intervertebral disc&quot;]</td></tr><tr><td>&hellip;</td><td>&hellip;</td></tr><tr><td>415859000</td><td>[&quot;Yersinia enterocolitica serogroup O:20&quot;]</td></tr><tr><td>112638000</td><td>[&quot;Displacement&quot;, &quot;Deviation&quot;]</td></tr><tr><td>16213931000119103</td><td>[&quot;Specimen from dome of urinary bladder obtained by biopsy&quot;]</td></tr><tr><td>782044000</td><td>[&quot;Pegaspargase 750 unit/mL solution for injection&quot;]</td></tr><tr><td>863911006</td><td>[&quot;Clostridium tetani antigen-containing vaccine product&quot;]</td></tr></tbody></table></div>"
      ],
      "text/plain": [
       "shape: (19_697, 2)\n",
       "┌───────────────────┬─────────────────────────────────┐\n",
       "│ conceptId         ┆ synonyms                        │\n",
       "│ ---               ┆ ---                             │\n",
       "│ i64               ┆ list[str]                       │\n",
       "╞═══════════════════╪═════════════════════════════════╡\n",
       "│ 373623009         ┆ [\"Osteoarthritis of glenohumer… │\n",
       "│ 161445009         ┆ [\"H/O: diabetes mellitus\", \"Pr… │\n",
       "│ 280106006         ┆ [\"Entire right fallopian tube\"… │\n",
       "│ 386087005         ┆ [\"Collection of aspirated sput… │\n",
       "│ 69195002          ┆ [\"Degeneration of cervical int… │\n",
       "│ …                 ┆ …                               │\n",
       "│ 415859000         ┆ [\"Yersinia enterocolitica sero… │\n",
       "│ 112638000         ┆ [\"Displacement\", \"Deviation\"]   │\n",
       "│ 16213931000119103 ┆ [\"Specimen from dome of urinar… │\n",
       "│ 782044000         ┆ [\"Pegaspargase 750 unit/mL sol… │\n",
       "│ 863911006         ┆ [\"Clostridium tetani antigen-c… │\n",
       "└───────────────────┴─────────────────────────────────┘"
      ]
     },
     "execution_count": 19,
     "metadata": {},
     "output_type": "execute_result"
    }
   ],
   "source": [
    "Description.filter(pl.col(\"typeId\") == 900000000000013009).select(\n",
    "    pl.col(\"conceptId\"), pl.col(\"term\").alias(\"synonyms\")\n",
    ").group_by(pl.col(\"conceptId\")).agg(\"synonyms\")\n"
   ]
  },
  {
   "cell_type": "code",
   "execution_count": null,
   "metadata": {},
   "outputs": [
    {
     "ename": "RuntimeError",
     "evalue": "Binder exception: Concept already exists in catalog.",
     "output_type": "error",
     "traceback": [
      "\u001b[0;31m---------------------------------------------------------------------------\u001b[0m",
      "\u001b[0;31mRuntimeError\u001b[0m                              Traceback (most recent call last)",
      "Cell \u001b[0;32mIn[17], line 10\u001b[0m\n\u001b[1;32m      8\u001b[0m \u001b[38;5;66;03m# load Concepts\u001b[39;00m\n\u001b[1;32m      9\u001b[0m Concept \u001b[38;5;241m=\u001b[39m read_snomed(snomed_data \u001b[38;5;241m/\u001b[39m \u001b[38;5;124m\"\u001b[39m\u001b[38;5;124msct2_Concept_IPSSnapshot_IPST_20240701.txt\u001b[39m\u001b[38;5;124m\"\u001b[39m)\n\u001b[0;32m---> 10\u001b[0m \u001b[43mconn\u001b[49m\u001b[38;5;241;43m.\u001b[39;49m\u001b[43mexecute\u001b[49m\u001b[43m(\u001b[49m\u001b[43msnomed\u001b[49m\u001b[43m[\u001b[49m\u001b[38;5;124;43m\"\u001b[39;49m\u001b[38;5;124;43mConcept\u001b[39;49m\u001b[38;5;124;43m\"\u001b[39;49m\u001b[43m]\u001b[49m\u001b[43m \u001b[49m\u001b[38;5;241;43m+\u001b[39;49m\u001b[43m \u001b[49m\u001b[38;5;124;43m\"\u001b[39;49m\u001b[38;5;124;43mCOPY concept FROM Concept;\u001b[39;49m\u001b[38;5;124;43m\"\u001b[39;49m\u001b[43m)\u001b[49m\n\u001b[1;32m     13\u001b[0m \u001b[38;5;66;03m# load Relationship, note we need to change ordering of columns for loading in Kuzu\u001b[39;00m\n\u001b[1;32m     14\u001b[0m Relationship \u001b[38;5;241m=\u001b[39m read_snomed(\n\u001b[1;32m     15\u001b[0m     snomed_data \u001b[38;5;241m/\u001b[39m \u001b[38;5;124m\"\u001b[39m\u001b[38;5;124msct2_Relationship_IPSSnapshot_IPST_20240701.txt\u001b[39m\u001b[38;5;124m\"\u001b[39m\n\u001b[1;32m     16\u001b[0m )\u001b[38;5;241m.\u001b[39mselect(\n\u001b[0;32m   (...)\u001b[0m\n\u001b[1;32m     30\u001b[0m     )\n\u001b[1;32m     31\u001b[0m )\n",
      "File \u001b[0;32m~/git/pharmaccess/fair-with-fhir/.venv/lib/python3.11/site-packages/kuzu/connection.py:130\u001b[0m, in \u001b[0;36mConnection.execute\u001b[0;34m(self, query, parameters)\u001b[0m\n\u001b[1;32m    127\u001b[0m     \u001b[38;5;28;01mraise\u001b[39;00m \u001b[38;5;167;01mRuntimeError\u001b[39;00m(msg)  \u001b[38;5;66;03m# noqa: TRY004\u001b[39;00m\n\u001b[1;32m    129\u001b[0m \u001b[38;5;28;01mif\u001b[39;00m \u001b[38;5;28mlen\u001b[39m(parameters) \u001b[38;5;241m==\u001b[39m \u001b[38;5;241m0\u001b[39m:\n\u001b[0;32m--> 130\u001b[0m     _query_result \u001b[38;5;241m=\u001b[39m \u001b[38;5;28;43mself\u001b[39;49m\u001b[38;5;241;43m.\u001b[39;49m\u001b[43m_connection\u001b[49m\u001b[38;5;241;43m.\u001b[39;49m\u001b[43mquery\u001b[49m\u001b[43m(\u001b[49m\u001b[43mquery\u001b[49m\u001b[43m)\u001b[49m\n\u001b[1;32m    131\u001b[0m \u001b[38;5;28;01melse\u001b[39;00m:\n\u001b[1;32m    132\u001b[0m     prepared_statement \u001b[38;5;241m=\u001b[39m \u001b[38;5;28mself\u001b[39m\u001b[38;5;241m.\u001b[39mprepare(query) \u001b[38;5;28;01mif\u001b[39;00m \u001b[38;5;28misinstance\u001b[39m(query, \u001b[38;5;28mstr\u001b[39m) \u001b[38;5;28;01melse\u001b[39;00m query\n",
      "\u001b[0;31mRuntimeError\u001b[0m: Binder exception: Concept already exists in catalog."
     ]
    }
   ],
   "source": [
    "# load Concepts\n",
    "\n",
    "conn.execute(snomed[\"Concept\"] + \"COPY concept FROM Concept;\")\n",
    "\n",
    "\n",
    "# load Relationship, note we need to change ordering of columns for loading in Kuzu\n",
    "Relationship = read_snomed(\n",
    "    snomed_data / \"sct2_Relationship_IPSSnapshot_IPST_20240701.txt\"\n",
    ").select(\n",
    "    pl.col(\n",
    "        [\n",
    "            \"sourceId\",\n",
    "            \"destinationId\",\n",
    "            \"id\",\n",
    "            \"effectiveTime\",\n",
    "            \"active\",\n",
    "            \"moduleId\",\n",
    "            \"relationshipGroup\",\n",
    "            \"typeId\",\n",
    "            \"characteristicTypeId\",\n",
    "            \"modifierId\",\n",
    "        ]\n",
    "    )\n",
    ")\n",
    "\n",
    "conn.execute(\n",
    "    \"DROP TABLE IF EXISTS relationship;\"\n",
    "    + snomed[\"Relationship\"]\n",
    "    + \"COPY Relationship FROM Relationship;\"\n",
    ")"
   ]
  },
  {
   "cell_type": "code",
   "execution_count": 8,
   "metadata": {},
   "outputs": [
    {
     "data": {
      "text/html": [
       "<div><style>\n",
       ".dataframe > thead > tr,\n",
       ".dataframe > tbody > tr {\n",
       "  text-align: right;\n",
       "  white-space: pre-wrap;\n",
       "}\n",
       "</style>\n",
       "<small>shape: (19_697, 5)</small><table border=\"1\" class=\"dataframe\"><thead><tr><th>id</th><th>effectiveTime</th><th>active</th><th>moduleId</th><th>definitionStatusId</th></tr><tr><td>i64</td><td>date</td><td>bool</td><td>i64</td><td>i64</td></tr></thead><tbody><tr><td>109006</td><td>2024-07-01</td><td>true</td><td>999991001000101</td><td>900000000000074008</td></tr><tr><td>111002</td><td>2024-07-01</td><td>true</td><td>999991001000101</td><td>900000000000074008</td></tr><tr><td>140004</td><td>2024-07-01</td><td>true</td><td>999991001000101</td><td>900000000000073002</td></tr><tr><td>219006</td><td>2024-07-01</td><td>true</td><td>999991001000101</td><td>900000000000074008</td></tr><tr><td>252000</td><td>2024-07-01</td><td>true</td><td>999991001000101</td><td>900000000000074008</td></tr><tr><td>&hellip;</td><td>&hellip;</td><td>&hellip;</td><td>&hellip;</td><td>&hellip;</td></tr><tr><td>900000000000536009</td><td>2024-07-01</td><td>true</td><td>999991001000101</td><td>900000000000074008</td></tr><tr><td>900000000000537000</td><td>2024-07-01</td><td>true</td><td>999991001000101</td><td>900000000000074008</td></tr><tr><td>900000000000548007</td><td>2024-07-01</td><td>true</td><td>999991001000101</td><td>900000000000074008</td></tr><tr><td>900000000000549004</td><td>2024-07-01</td><td>true</td><td>999991001000101</td><td>900000000000074008</td></tr><tr><td>900000000000550004</td><td>2024-07-01</td><td>true</td><td>999991001000101</td><td>900000000000074008</td></tr></tbody></table></div>"
      ],
      "text/plain": [
       "shape: (19_697, 5)\n",
       "┌────────────────────┬───────────────┬────────┬─────────────────┬────────────────────┐\n",
       "│ id                 ┆ effectiveTime ┆ active ┆ moduleId        ┆ definitionStatusId │\n",
       "│ ---                ┆ ---           ┆ ---    ┆ ---             ┆ ---                │\n",
       "│ i64                ┆ date          ┆ bool   ┆ i64             ┆ i64                │\n",
       "╞════════════════════╪═══════════════╪════════╪═════════════════╪════════════════════╡\n",
       "│ 109006             ┆ 2024-07-01    ┆ true   ┆ 999991001000101 ┆ 900000000000074008 │\n",
       "│ 111002             ┆ 2024-07-01    ┆ true   ┆ 999991001000101 ┆ 900000000000074008 │\n",
       "│ 140004             ┆ 2024-07-01    ┆ true   ┆ 999991001000101 ┆ 900000000000073002 │\n",
       "│ 219006             ┆ 2024-07-01    ┆ true   ┆ 999991001000101 ┆ 900000000000074008 │\n",
       "│ 252000             ┆ 2024-07-01    ┆ true   ┆ 999991001000101 ┆ 900000000000074008 │\n",
       "│ …                  ┆ …             ┆ …      ┆ …               ┆ …                  │\n",
       "│ 900000000000536009 ┆ 2024-07-01    ┆ true   ┆ 999991001000101 ┆ 900000000000074008 │\n",
       "│ 900000000000537000 ┆ 2024-07-01    ┆ true   ┆ 999991001000101 ┆ 900000000000074008 │\n",
       "│ 900000000000548007 ┆ 2024-07-01    ┆ true   ┆ 999991001000101 ┆ 900000000000074008 │\n",
       "│ 900000000000549004 ┆ 2024-07-01    ┆ true   ┆ 999991001000101 ┆ 900000000000074008 │\n",
       "│ 900000000000550004 ┆ 2024-07-01    ┆ true   ┆ 999991001000101 ┆ 900000000000074008 │\n",
       "└────────────────────┴───────────────┴────────┴─────────────────┴────────────────────┘"
      ]
     },
     "execution_count": 8,
     "metadata": {},
     "output_type": "execute_result"
    }
   ],
   "source": [
    "Concept"
   ]
  },
  {
   "cell_type": "code",
   "execution_count": null,
   "metadata": {},
   "outputs": [
    {
     "data": {
      "text/html": [
       "<div><style>\n",
       ".dataframe > thead > tr,\n",
       ".dataframe > tbody > tr {\n",
       "  text-align: right;\n",
       "  white-space: pre-wrap;\n",
       "}\n",
       "</style>\n",
       "<small>shape: (2, 2)</small><table border=\"1\" class=\"dataframe\"><thead><tr><th>typeId</th><th>count</th></tr><tr><td>i64</td><td>u32</td></tr></thead><tbody><tr><td>900000000000003001</td><td>19697</td></tr><tr><td>900000000000013009</td><td>40417</td></tr></tbody></table></div>"
      ],
      "text/plain": [
       "shape: (2, 2)\n",
       "┌────────────────────┬───────┐\n",
       "│ typeId             ┆ count │\n",
       "│ ---                ┆ ---   │\n",
       "│ i64                ┆ u32   │\n",
       "╞════════════════════╪═══════╡\n",
       "│ 900000000000003001 ┆ 19697 │\n",
       "│ 900000000000013009 ┆ 40417 │\n",
       "└────────────────────┴───────┘"
      ]
     },
     "execution_count": 15,
     "metadata": {},
     "output_type": "execute_result"
    }
   ],
   "source": []
  },
  {
   "cell_type": "code",
   "execution_count": null,
   "metadata": {},
   "outputs": [],
   "source": [
    "full_name_id = 900000000000003001\n",
    "\n",
    "Description_fullname = Description.filter(pl.col(\"typeId\") == full_name_id)\n",
    "Description_fullname"
   ]
  },
  {
   "cell_type": "code",
   "execution_count": null,
   "metadata": {},
   "outputs": [
    {
     "data": {
      "text/html": [
       "<div><style>\n",
       ".dataframe > thead > tr,\n",
       ".dataframe > tbody > tr {\n",
       "  text-align: right;\n",
       "  white-space: pre-wrap;\n",
       "}\n",
       "</style>\n",
       "<small>shape: (2, 2)</small><table border=\"1\" class=\"dataframe\"><thead><tr><th>typeId</th><th>count</th></tr><tr><td>i64</td><td>u32</td></tr></thead><tbody><tr><td>900000000000003001</td><td>19697</td></tr><tr><td>900000000000013009</td><td>40417</td></tr></tbody></table></div>"
      ],
      "text/plain": [
       "shape: (2, 2)\n",
       "┌────────────────────┬───────┐\n",
       "│ typeId             ┆ count │\n",
       "│ ---                ┆ ---   │\n",
       "│ i64                ┆ u32   │\n",
       "╞════════════════════╪═══════╡\n",
       "│ 900000000000003001 ┆ 19697 │\n",
       "│ 900000000000013009 ┆ 40417 │\n",
       "└────────────────────┴───────┘"
      ]
     },
     "execution_count": 14,
     "metadata": {},
     "output_type": "execute_result"
    }
   ],
   "source": []
  },
  {
   "cell_type": "code",
   "execution_count": null,
   "metadata": {},
   "outputs": [
    {
     "name": "stdout",
     "output_type": "stream",
     "text": [
      "(66017, 10)\n"
     ]
    },
    {
     "data": {
      "text/html": [
       "\n",
       "<style>\n",
       "  #altair-viz-51306b8a798f4d8f90fdf46f27dd42d8.vega-embed {\n",
       "    width: 100%;\n",
       "    display: flex;\n",
       "  }\n",
       "\n",
       "  #altair-viz-51306b8a798f4d8f90fdf46f27dd42d8.vega-embed details,\n",
       "  #altair-viz-51306b8a798f4d8f90fdf46f27dd42d8.vega-embed details summary {\n",
       "    position: relative;\n",
       "  }\n",
       "</style>\n",
       "<div id=\"altair-viz-51306b8a798f4d8f90fdf46f27dd42d8\"></div>\n",
       "<script type=\"text/javascript\">\n",
       "  var VEGA_DEBUG = (typeof VEGA_DEBUG == \"undefined\") ? {} : VEGA_DEBUG;\n",
       "  (function(spec, embedOpt){\n",
       "    let outputDiv = document.currentScript.previousElementSibling;\n",
       "    if (outputDiv.id !== \"altair-viz-51306b8a798f4d8f90fdf46f27dd42d8\") {\n",
       "      outputDiv = document.getElementById(\"altair-viz-51306b8a798f4d8f90fdf46f27dd42d8\");\n",
       "    }\n",
       "\n",
       "    const paths = {\n",
       "      \"vega\": \"https://cdn.jsdelivr.net/npm/vega@5?noext\",\n",
       "      \"vega-lib\": \"https://cdn.jsdelivr.net/npm/vega-lib?noext\",\n",
       "      \"vega-lite\": \"https://cdn.jsdelivr.net/npm/vega-lite@5.20.1?noext\",\n",
       "      \"vega-embed\": \"https://cdn.jsdelivr.net/npm/vega-embed@6?noext\",\n",
       "    };\n",
       "\n",
       "    function maybeLoadScript(lib, version) {\n",
       "      var key = `${lib.replace(\"-\", \"\")}_version`;\n",
       "      return (VEGA_DEBUG[key] == version) ?\n",
       "        Promise.resolve(paths[lib]) :\n",
       "        new Promise(function(resolve, reject) {\n",
       "          var s = document.createElement('script');\n",
       "          document.getElementsByTagName(\"head\")[0].appendChild(s);\n",
       "          s.async = true;\n",
       "          s.onload = () => {\n",
       "            VEGA_DEBUG[key] = version;\n",
       "            return resolve(paths[lib]);\n",
       "          };\n",
       "          s.onerror = () => reject(`Error loading script: ${paths[lib]}`);\n",
       "          s.src = paths[lib];\n",
       "        });\n",
       "    }\n",
       "\n",
       "    function showError(err) {\n",
       "      outputDiv.innerHTML = `<div class=\"error\" style=\"color:red;\">${err}</div>`;\n",
       "      throw err;\n",
       "    }\n",
       "\n",
       "    function displayChart(vegaEmbed) {\n",
       "      vegaEmbed(outputDiv, spec, embedOpt)\n",
       "        .catch(err => showError(`Javascript Error: ${err.message}<br>This usually means there's a typo in your chart specification. See the javascript console for the full traceback.`));\n",
       "    }\n",
       "\n",
       "    if(typeof define === \"function\" && define.amd) {\n",
       "      requirejs.config({paths});\n",
       "      let deps = [\"vega-embed\"];\n",
       "      require(deps, displayChart, err => showError(`Error loading script: ${err.message}`));\n",
       "    } else {\n",
       "      maybeLoadScript(\"vega\", \"5\")\n",
       "        .then(() => maybeLoadScript(\"vega-lite\", \"5.20.1\"))\n",
       "        .then(() => maybeLoadScript(\"vega-embed\", \"6\"))\n",
       "        .catch(showError)\n",
       "        .then(() => displayChart(vegaEmbed));\n",
       "    }\n",
       "  })({\"config\": {\"view\": {\"continuousWidth\": 300, \"continuousHeight\": 300}}, \"data\": {\"name\": \"data-e45b8b1e4fb804a527cbd869d59fdb9b\"}, \"mark\": {\"type\": \"bar\", \"tooltip\": true}, \"encoding\": {\"x\": {\"field\": \"count\", \"scale\": {\"type\": \"symlog\"}, \"type\": \"quantitative\"}, \"y\": {\"field\": \"typeId\", \"sort\": \"-x\", \"type\": \"ordinal\"}}, \"params\": [{\"name\": \"param_7\", \"select\": {\"type\": \"interval\", \"encodings\": [\"x\", \"y\"]}, \"bind\": \"scales\"}], \"$schema\": \"https://vega.github.io/schema/vega-lite/v5.20.1.json\", \"datasets\": {\"data-e45b8b1e4fb804a527cbd869d59fdb9b\": [{\"typeId\": 766939001, \"count\": 233}, {\"typeId\": 363700003, \"count\": 184}, {\"typeId\": 1149367008, \"count\": 19}, {\"typeId\": 719722006, \"count\": 19}, {\"typeId\": 1149366004, \"count\": 7}, {\"typeId\": 704321009, \"count\": 1}, {\"typeId\": 836358009, \"count\": 62}, {\"typeId\": 424226004, \"count\": 250}, {\"typeId\": 127489000, \"count\": 976}, {\"typeId\": 118168003, \"count\": 167}, {\"typeId\": 246090004, \"count\": 146}, {\"typeId\": 246513007, \"count\": 9}, {\"typeId\": 260870009, \"count\": 16}, {\"typeId\": 732945000, \"count\": 750}, {\"typeId\": 827081001, \"count\": 1}, {\"typeId\": 260507000, \"count\": 37}, {\"typeId\": 246454002, \"count\": 679}, {\"typeId\": 363709002, \"count\": 5}, {\"typeId\": 255234002, \"count\": 122}, {\"typeId\": 424876005, \"count\": 66}, {\"typeId\": 408730004, \"count\": 71}, {\"typeId\": 363714003, \"count\": 1988}, {\"typeId\": 363713009, \"count\": 870}, {\"typeId\": 363699004, \"count\": 135}, {\"typeId\": 424361007, \"count\": 21}, {\"typeId\": 425391005, \"count\": 10}, {\"typeId\": 246093002, \"count\": 90}, {\"typeId\": 408732007, \"count\": 216}, {\"typeId\": 762949000, \"count\": 1181}, {\"typeId\": 371881003, \"count\": 12}, {\"typeId\": 763032000, \"count\": 666}, {\"typeId\": 405815000, \"count\": 11}, {\"typeId\": 424244007, \"count\": 17}, {\"typeId\": 408731000, \"count\": 217}, {\"typeId\": 118169006, \"count\": 1423}, {\"typeId\": 733725009, \"count\": 431}, {\"typeId\": 733722007, \"count\": 431}, {\"typeId\": 419066007, \"count\": 13}, {\"typeId\": 418775008, \"count\": 40}, {\"typeId\": 118171006, \"count\": 994}, {\"typeId\": 732943007, \"count\": 1181}, {\"typeId\": 370131001, \"count\": 4}, {\"typeId\": 363701004, \"count\": 82}, {\"typeId\": 363704007, \"count\": 739}, {\"typeId\": 260686004, \"count\": 2407}, {\"typeId\": 726542003, \"count\": 552}, {\"typeId\": 405813007, \"count\": 1190}, {\"typeId\": 405816004, \"count\": 5}, {\"typeId\": 1003735000, \"count\": 1}, {\"typeId\": 370130000, \"count\": 1}, {\"typeId\": 405814001, \"count\": 162}, {\"typeId\": 363589002, \"count\": 71}, {\"typeId\": 363698007, \"count\": 5497}, {\"typeId\": 363703001, \"count\": 54}, {\"typeId\": 732947008, \"count\": 750}, {\"typeId\": 411116001, \"count\": 1090}, {\"typeId\": 116676008, \"count\": 3818}, {\"typeId\": 118170007, \"count\": 49}, {\"typeId\": 42752001, \"count\": 530}, {\"typeId\": 116680003, \"count\": 32111}, {\"typeId\": 370135005, \"count\": 807}, {\"typeId\": 263502005, \"count\": 431}, {\"typeId\": 47429007, \"count\": 57}, {\"typeId\": 408729009, \"count\": 146}, {\"typeId\": 738774007, \"count\": 9}, {\"typeId\": 246075003, \"count\": 504}, {\"typeId\": 840560000, \"count\": 7}, {\"typeId\": 370133003, \"count\": 1039}, {\"typeId\": 116686009, \"count\": 34}, {\"typeId\": 363702006, \"count\": 103}]}}, {\"mode\": \"vega-lite\"});\n",
       "</script>"
      ],
      "text/plain": [
       "alt.Chart(...)"
      ]
     },
     "execution_count": 13,
     "metadata": {},
     "output_type": "execute_result"
    }
   ],
   "source": [
    "# inspect frequency of each type of relationship out of 66,017 relationships\n",
    "print(df.shape)\n",
    "\n",
    "# 116680003 | Is A occurs 32,111 times i.e accounts for half\n",
    "# 363698007 | Finding site 5,497\n",
    "# 116676008 | Associated morphology 3,818\n",
    "type_count = df.select(pl.col(\"typeId\").value_counts()).unnest(\"typeId\")\n",
    "type_count.plot.bar(\n",
    "    alt.X(\"count:Q\").scale(type=\"symlog\"), y=alt.Y(\"typeId:O\").sort(\"-x\")\n",
    ")"
   ]
  },
  {
   "cell_type": "code",
   "execution_count": 11,
   "metadata": {},
   "outputs": [
    {
     "data": {
      "text/html": [
       "<div><style>\n",
       ".dataframe > thead > tr,\n",
       ".dataframe > tbody > tr {\n",
       "  text-align: right;\n",
       "  white-space: pre-wrap;\n",
       "}\n",
       "</style>\n",
       "<small>shape: (1, 1)</small><table border=\"1\" class=\"dataframe\"><thead><tr><th>count</th></tr><tr><td>u32</td></tr></thead><tbody><tr><td>66017</td></tr></tbody></table></div>"
      ],
      "text/plain": [
       "shape: (1, 1)\n",
       "┌───────┐\n",
       "│ count │\n",
       "│ ---   │\n",
       "│ u32   │\n",
       "╞═══════╡\n",
       "│ 66017 │\n",
       "└───────┘"
      ]
     },
     "execution_count": 11,
     "metadata": {},
     "output_type": "execute_result"
    }
   ],
   "source": [
    "type_count.select(pl.col(\"count\")).sum()"
   ]
  },
  {
   "cell_type": "code",
   "execution_count": 12,
   "metadata": {},
   "outputs": [
    {
     "data": {
      "text/plain": [
       "(66017, 10)"
      ]
     },
     "execution_count": 12,
     "metadata": {},
     "output_type": "execute_result"
    }
   ],
   "source": [
    "df.shape"
   ]
  },
  {
   "cell_type": "code",
   "execution_count": null,
   "metadata": {},
   "outputs": [
    {
     "data": {
      "text/plain": [
       "[<kuzu.query_result.QueryResult at 0x110759f10>,\n",
       " <kuzu.query_result.QueryResult at 0x10ee63290>,\n",
       " <kuzu.query_result.QueryResult at 0x10ee60b10>]"
      ]
     },
     "execution_count": 23,
     "metadata": {},
     "output_type": "execute_result"
    }
   ],
   "source": [
    "ddl_concept = \"\"\"\n",
    "DROP TABLE IF EXISTS concept;\n",
    "CREATE NODE TABLE concept(\n",
    "    id INT64,\n",
    "    effectiveTime DATE,\n",
    "    active BOOLEAN,\n",
    "    moduleId INT64,\n",
    "    definitionStatusId INT64,\n",
    "    PRIMARY KEY (id)\n",
    ");\n",
    "COPY concept FROM df;\n",
    "\"\"\"\n",
    "\n",
    "conn.execute(ddl_concept)"
   ]
  },
  {
   "cell_type": "code",
   "execution_count": null,
   "metadata": {},
   "outputs": [],
   "source": [
    "ddl_relationship = \"\"\"\n",
    "DROP TABLE IF EXISTS relationship;\n",
    "CREATE NODE TABLE relationship(\n",
    "id INT64,\n",
    "effectiveTime DATE,\n",
    "active BOOLEAN,\n",
    "moduleId INT64,\n",
    "sourceId INT64,\n",
    "destinationId INT64,\n",
    "relationshipGroup INT64,\n",
    "typeId INT64,\n",
    "characteristicTypeId INT64,\n",
    "modifierId INT64,\n",
    "\"\"\""
   ]
  }
 ],
 "metadata": {
  "kernelspec": {
   "display_name": ".venv",
   "language": "python",
   "name": "python3"
  },
  "language_info": {
   "codemirror_mode": {
    "name": "ipython",
    "version": 3
   },
   "file_extension": ".py",
   "mimetype": "text/x-python",
   "name": "python",
   "nbconvert_exporter": "python",
   "pygments_lexer": "ipython3",
   "version": "3.11.11"
  }
 },
 "nbformat": 4,
 "nbformat_minor": 2
}
