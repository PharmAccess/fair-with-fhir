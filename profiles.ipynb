{
 "cells": [
  {
   "cell_type": "code",
   "execution_count": 2,
   "metadata": {},
   "outputs": [],
   "source": [
    "# require Python 3.12: using `type` soft keyword\n",
    "\n",
    "from enum import Enum\n",
    "from pprint import pprint\n",
    "from resources import (\n",
    "    BaseModel,\n",
    "    CodeableConcept,\n",
    "    Coding,\n",
    "    Condition,\n",
    "    dateType,\n",
    "    Encounter,\n",
    "    HumanName,\n",
    "    Identifier,\n",
    "    List_,\n",
    "    Literal_,\n",
    "    Observation,\n",
    "    Organization,\n",
    "    Patient,\n",
    "    Procedure,\n",
    "    Reference,\n",
    "    Questionnaire,\n",
    "    QuestionnaireResponse,\n",
    ")\n",
    "\n",
    "\n",
    "def show_object(obj: BaseModel):\n",
    "    \"\"\"Prints obj attributes that are not not\"\"\"\n",
    "    for k, v in obj.__dict__.items():\n",
    "        if v:\n",
    "            pprint(f\"{k}: {getattr(obj, k)}\")"
   ]
  },
  {
   "cell_type": "code",
   "execution_count": 3,
   "metadata": {},
   "outputs": [
    {
     "data": {
      "text/plain": [
       "{'resourceType': 'Patient',\n",
       " 'id': None,\n",
       " 'id__ext': None,\n",
       " 'meta': None,\n",
       " 'text': None,\n",
       " 'name': None,\n",
       " 'link': None,\n",
       " 'photo': None,\n",
       " 'active': None,\n",
       " 'active__ext': None,\n",
       " 'gender': None,\n",
       " 'gender__ext': None,\n",
       " 'telecom': None,\n",
       " 'address': None,\n",
       " 'contact': None,\n",
       " 'language': None,\n",
       " 'language__ext': None,\n",
       " 'contained': None,\n",
       " 'extension': None,\n",
       " 'birthDate': None,\n",
       " 'birthDate__ext': None,\n",
       " 'identifier': None,\n",
       " 'deceasedBoolean': None,\n",
       " 'deceasedBoolean__ext': None,\n",
       " 'deceasedDateTime': None,\n",
       " 'deceasedDateTime__ext': None,\n",
       " 'implicitRules': None,\n",
       " 'implicitRules__ext': None,\n",
       " 'maritalStatus': None,\n",
       " 'communication': None,\n",
       " 'multipleBirthBoolean': None,\n",
       " 'multipleBirthBoolean__ext': None,\n",
       " 'multipleBirthInteger': None,\n",
       " 'multipleBirthInteger__ext': None,\n",
       " 'modifierExtension': None,\n",
       " 'generalPractitioner': None,\n",
       " 'managingOrganization': None}"
      ]
     },
     "execution_count": 3,
     "metadata": {},
     "output_type": "execute_result"
    }
   ],
   "source": [
    "# resources are FHIR R4B resources, with all fields are optional\n",
    "patient_base = Patient()\n",
    "patient_base.__dict__"
   ]
  },
  {
   "cell_type": "code",
   "execution_count": 4,
   "metadata": {},
   "outputs": [
    {
     "name": "stdout",
     "output_type": "stream",
     "text": [
      "'resourceType: Patient'\n",
      "('name: [HumanName(id=None, id__ext=None, use=None, use__ext=None, text=None, '\n",
      " \"text__ext=None, given=['Daniel'], given__ext=None, family='Kapitan', \"\n",
      " 'family__ext=None, prefix=None, prefix__ext=None, suffix=None, '\n",
      " 'suffix__ext=None, period=None, extension=None)]')\n",
      "'birthdate: 09-09-1973'\n"
     ]
    }
   ],
   "source": [
    "# IPS has put constrained on Patient resource, some fields are now mandatory\n",
    "class PatientIPS(Patient):\n",
    "    name: List_[HumanName] = None\n",
    "    birthdate: dateType = None\n",
    "\n",
    "\n",
    "# note given name is a list, and there is only one family name\n",
    "show_object(\n",
    "    PatientIPS(\n",
    "        name=[HumanName(given=[\"Daniel\"], family=\"Kapitan\")], birthdate=\"09-09-1973\"\n",
    "    )\n",
    ")"
   ]
  },
  {
   "cell_type": "code",
   "execution_count": 5,
   "metadata": {},
   "outputs": [],
   "source": [
    "codeEDD = CodeableConcept(\n",
    "    coding=[\n",
    "        Coding(\n",
    "            code=\"11778-8\",\n",
    "            system=\"https://loinc.org\",\n",
    "            display=\"Delivery date Estimated\",\n",
    "        )\n",
    "    ]\n",
    ")"
   ]
  },
  {
   "cell_type": "code",
   "execution_count": 6,
   "metadata": {},
   "outputs": [
    {
     "data": {
      "text/plain": [
       "Observation(resourceType='Observation', id=None, id__ext=None, meta=None, text=None, note=None, focus=None, partOf=None, status='registered', status__ext=None, issued=None, issued__ext=None, method=None, device=None, basedOn=None, subject=Reference(id=None, id__ext=None, type=None, type__ext=None, display=None, display__ext=None, extension=None, reference='https://some.fhir/server/dkapitan', reference__ext=None, identifier=None), language=None, language__ext=None, category=None, valueQuantity=None, valueCodeableConcept=None, valueString=None, valueString__ext=None, valueBoolean=None, valueBoolean__ext=None, valueInteger=None, valueInteger__ext=None, valueRange=None, valueRatio=None, valueSampledData=None, valueTime=None, valueTime__ext=None, valueDateTime=None, valueDateTime__ext=None, valuePeriod=None, bodySite=None, specimen=None, contained=None, extension=None, encounter=None, performer=None, hasMember=None, component=None, identifier=None, derivedFrom=None, effectiveDateTime=None, effectiveDateTime__ext=None, effectivePeriod=None, effectiveTiming=None, effectiveInstant=None, effectiveInstant__ext=None, implicitRules=None, implicitRules__ext=None, interpretation=None, referenceRange=None, dataAbsentReason=None, modifierExtension=None, code=CodeableConcept(id=None, id__ext=None, text=None, text__ext=None, coding=[Coding(id=None, id__ext=None, system='https://loinc.org', system__ext=None, version=None, version__ext=None, display='Delivery date Estimated', display__ext=None, extension=None, userSelected=None, userSelected__ext=None, code='11778-8', code__ext=None)], extension=None))"
      ]
     },
     "execution_count": 6,
     "metadata": {},
     "output_type": "execute_result"
    }
   ],
   "source": [
    "Observation(\n",
    "    status=\"registered\",\n",
    "    code=codeEDD,\n",
    "    subject=Reference(\n",
    "        reference=\"https://some.fhir/server/dkapitan\",\n",
    "    ),\n",
    ")"
   ]
  },
  {
   "cell_type": "code",
   "execution_count": 7,
   "metadata": {},
   "outputs": [],
   "source": [
    "# this is a bit of a roundabout way to put constraints on the allowed coding\n",
    "# but it serves to demonstrate the mechanism\n",
    "class CodingEdd(Enum):\n",
    "    _11778_8 = Coding(\n",
    "        code=\"11778-8\", system=\"https://loinc.org\", display=\"Delivery date Estimated\"\n",
    "    )\n",
    "    _11778_6 = Coding(\n",
    "        code=\"11778-6\",\n",
    "        system=\"https://loinc.org\",\n",
    "        display=\"Delivery date Estimated from last menstrual period\",\n",
    "    )\n",
    "    _11778_4 = Coding(\n",
    "        code=\"11778-4\",\n",
    "        system=\"https://loinc.org\",\n",
    "        display=\"Delivery date Estimated from ovulation date\",\n",
    "    )\n",
    "\n",
    "\n",
    "class CodeableConceptEDD(CodeableConcept):\n",
    "    coding: List_[Literal_[CodingEdd._11778_8, CodingEdd._11778_6, CodingEdd._11778_4]]"
   ]
  },
  {
   "cell_type": "code",
   "execution_count": 8,
   "metadata": {},
   "outputs": [
    {
     "name": "stdout",
     "output_type": "stream",
     "text": [
      "'resourceType: Observation'\n",
      "'status: registered'\n",
      "('subject: id=None id__ext=None type=None type__ext=None display=None '\n",
      " 'display__ext=None extension=None '\n",
      " \"reference='https://some.fhir/server/dkapitan' reference__ext=None \"\n",
      " 'identifier=None')\n",
      "('code: id=None id__ext=None text=None text__ext=None '\n",
      " 'coding=[<CodingEdd._11778_8: Coding(id=None, id__ext=None, '\n",
      " \"system='https://loinc.org', system__ext=None, version=None, \"\n",
      " \"version__ext=None, display='Delivery date Estimated', display__ext=None, \"\n",
      " \"extension=None, userSelected=None, userSelected__ext=None, code='11778-8', \"\n",
      " 'code__ext=None)>] extension=None')\n"
     ]
    }
   ],
   "source": [
    "# Observation\n",
    "# fixed code list how EDD is estimated using LOINC codes\n",
    "# https://build.fhir.org/ig/HL7/fhir-ips/ValueSet-edd-method-uv-ips.html\n",
    "# note that ObservationPregnancyEddIPS removes bodysite, method, specimen, device, referenceRange and component\n",
    "# we haven't implemented that here\n",
    "# Main point that we demonstrate is value binding\n",
    "class ObservationPregnancyEddIPS(Observation):\n",
    "    code: CodeableConceptEDD\n",
    "    subject: Reference\n",
    "\n",
    "\n",
    "show_object(\n",
    "    ObservationPregnancyEddIPS(\n",
    "        status=\"registered\",\n",
    "        code=CodeableConceptEDD(coding=[CodingEdd._11778_8]),\n",
    "        subject=Reference(\n",
    "            reference=\"https://some.fhir/server/dkapitan\",\n",
    "        ),\n",
    "    )\n",
    ")"
   ]
  },
  {
   "cell_type": "markdown",
   "metadata": {},
   "source": []
  },
  {
   "cell_type": "code",
   "execution_count": null,
   "metadata": {},
   "outputs": [],
   "source": []
  }
 ],
 "metadata": {
  "kernelspec": {
   "display_name": ".venv",
   "language": "python",
   "name": "python3"
  },
  "language_info": {
   "codemirror_mode": {
    "name": "ipython",
    "version": 3
   },
   "file_extension": ".py",
   "mimetype": "text/x-python",
   "name": "python",
   "nbconvert_exporter": "python",
   "pygments_lexer": "ipython3",
   "version": "3.12.7"
  }
 },
 "nbformat": 4,
 "nbformat_minor": 2
}
