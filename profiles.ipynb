{
 "cells": [
  {
   "cell_type": "markdown",
   "metadata": {},
   "source": [
    "# Demonstrating FHIR Profiling to define FAIR datasets\n",
    "\n",
    "## Approach\n",
    "\n",
    "### Why FHIR Profiling for FAIR dataset?\n",
    "\n",
    "FHIR Profiling is a mechanism through which a rulebook/codebook can be defined for healthcare data. Although originally intended to be used for localization of a FHIR standards, for example creating national profiles or profiles for a specific use case, we demonstrate here that the mechanism can be used define FAIR datasets.\n",
    "\n",
    "### Why use Python\n",
    "\n",
    "In this demonstrator notebook, we choose to implement the FHIR Profiling mechanism in Python, as it is intended as a way to validate FHIR data in bulk (the whole dataset). We choose to implement it specifically since Python is widely used in data engineering (see Open Health Stack FHIR Pipelines).\n",
    "\n",
    "### Logic\n",
    "\n",
    "[pydantic v2](https://pydantic.dev/opensource), the most widely used data validation library, does all of the heavy lifting in this demonstrator. Do get pydantic to work with FHIR, we first generate FHIR R4B pydantic models using [fhir-py-types](https://github.com/beda-software/fhir-py-types). The output of this conversion is `resources.py` and has been included in the repository for convenience.\n",
    "\n",
    "We subsequently pydantic to subclass the R4B resources, which effectively mimics the profiling mechanism of FHIR. We demonstrate that through this mechanism we can combine three FHIR profiles (R4B, IPS and WHO ANC) and also explicitly integrate [SNOMED IPS Terminology](https://www.snomed.org/international-patient-summary-terminology) into a single, consistent datamodel (you could even say ontology since it based in Python) which can be used to validate incoming, bulk data.\n",
    "\n",
    "In the following, we demonstrate how to:\n",
    "\n",
    "- Put more constrained cardinalities on FHIR Resources by subclassing pydantic models\n",
    "- Define which coding systems should be used by implementing specifc\n",
    "- Show how [SNOMED IPS Terminology](https://www.snomed.org/international-patient-summary-terminology) is used to validate `ProcedureIPS`\n"
   ]
  },
  {
   "cell_type": "markdown",
   "metadata": {},
   "source": [
    "## Demonstrator\n",
    "\n",
    "### Setup R4B with pydantic\n"
   ]
  },
  {
   "cell_type": "code",
   "execution_count": 1,
   "metadata": {},
   "outputs": [],
   "source": [
    "# require Python 3.12: using `type` soft keyword\n",
    "\n",
    "from enum import Enum\n",
    "from pprint import pprint\n",
    "from resources import (\n",
    "    BaseModel,\n",
    "    CodeableConcept,\n",
    "    Coding,\n",
    "    Condition,\n",
    "    dateType,\n",
    "    Encounter,\n",
    "    HumanName,\n",
    "    Identifier,\n",
    "    List_,\n",
    "    Literal_,\n",
    "    Observation,\n",
    "    Organization,\n",
    "    Patient,\n",
    "    Procedure,\n",
    "    Reference,\n",
    "    Questionnaire,\n",
    "    QuestionnaireResponse,\n",
    ")\n",
    "\n",
    "\n",
    "def show_object(obj: BaseModel):\n",
    "    \"\"\"Prints obj attributes that are not not\"\"\"\n",
    "    for k, v in obj.__dict__.items():\n",
    "        if v:\n",
    "            pprint(f\"{k}: {getattr(obj, k)}\")"
   ]
  },
  {
   "cell_type": "markdown",
   "metadata": {},
   "source": [
    "Note that almost all fields in R4B resources are optional.\n"
   ]
  },
  {
   "cell_type": "code",
   "execution_count": 2,
   "metadata": {},
   "outputs": [
    {
     "data": {
      "text/plain": [
       "{'resourceType': 'Patient',\n",
       " 'id': None,\n",
       " 'id__ext': None,\n",
       " 'meta': None,\n",
       " 'text': None,\n",
       " 'name': None,\n",
       " 'link': None,\n",
       " 'photo': None,\n",
       " 'active': None,\n",
       " 'active__ext': None,\n",
       " 'gender': None,\n",
       " 'gender__ext': None,\n",
       " 'telecom': None,\n",
       " 'address': None,\n",
       " 'contact': None,\n",
       " 'language': None,\n",
       " 'language__ext': None,\n",
       " 'contained': None,\n",
       " 'extension': None,\n",
       " 'birthDate': None,\n",
       " 'birthDate__ext': None,\n",
       " 'identifier': None,\n",
       " 'deceasedBoolean': None,\n",
       " 'deceasedBoolean__ext': None,\n",
       " 'deceasedDateTime': None,\n",
       " 'deceasedDateTime__ext': None,\n",
       " 'implicitRules': None,\n",
       " 'implicitRules__ext': None,\n",
       " 'maritalStatus': None,\n",
       " 'communication': None,\n",
       " 'multipleBirthBoolean': None,\n",
       " 'multipleBirthBoolean__ext': None,\n",
       " 'multipleBirthInteger': None,\n",
       " 'multipleBirthInteger__ext': None,\n",
       " 'modifierExtension': None,\n",
       " 'generalPractitioner': None,\n",
       " 'managingOrganization': None}"
      ]
     },
     "execution_count": 2,
     "metadata": {},
     "output_type": "execute_result"
    }
   ],
   "source": [
    "Patient().__dict__"
   ]
  },
  {
   "cell_type": "markdown",
   "metadata": {},
   "source": [
    "### FHIR IPS: adding cardinality constrains\n",
    "\n",
    "For `Patient`, `Organization`, `Condition`, `Encounter` we only need to add cardinality constraints. Also, we subclass `Reference` into `ReferencePatient` which is used in the IPS profile to refer back to the `Patient` resource.\n"
   ]
  },
  {
   "cell_type": "code",
   "execution_count": 3,
   "metadata": {},
   "outputs": [
    {
     "name": "stdout",
     "output_type": "stream",
     "text": [
      "'resourceType: Patient'\n",
      "('name: [HumanName(id=None, id__ext=None, use=None, use__ext=None, text=None, '\n",
      " \"text__ext=None, given=['Daniel'], given__ext=None, family='Kapitan', \"\n",
      " 'family__ext=None, prefix=None, prefix__ext=None, suffix=None, '\n",
      " 'suffix__ext=None, period=None, extension=None)]')\n",
      "'birthdate: 09-09-1973'\n"
     ]
    }
   ],
   "source": [
    "# PatientIPS has constrained 'name' and 'birthdate' as mandatory\n",
    "class PatientIPS(Patient):\n",
    "    name: List_[HumanName] = None\n",
    "    birthdate: dateType = None\n",
    "\n",
    "\n",
    "#\n",
    "class ReferencePatient(Reference):\n",
    "    type: str = \"http://hl7.org/fhir/uv/ips/StructureDefinition/Patient-uv-ips\"\n",
    "    reference: str\n",
    "\n",
    "\n",
    "# example PatientIPS. Note given name is a list, and there is only one family name\n",
    "show_object(\n",
    "    PatientIPS(\n",
    "        name=[HumanName(given=[\"Daniel\"], family=\"Kapitan\")], birthdate=\"09-09-1973\"\n",
    "    )\n",
    ")"
   ]
  },
  {
   "cell_type": "markdown",
   "metadata": {},
   "source": [
    "### FHIR IPS: constraining terminologies\n"
   ]
  },
  {
   "cell_type": "code",
   "execution_count": 4,
   "metadata": {},
   "outputs": [],
   "source": [
    "# TO DO: add field_validators for SNOMED IPS\n",
    "class ConditionIPS(Condition):\n",
    "    code: CodeableConcept\n",
    "    subject: ReferencePatient\n",
    "\n",
    "\n",
    "class ProcedureIPS(Procedure):\n",
    "    code: CodeableConcept\n",
    "    subject: ReferencePatient"
   ]
  },
  {
   "cell_type": "code",
   "execution_count": 5,
   "metadata": {},
   "outputs": [],
   "source": [
    "codeEDD = CodeableConcept(\n",
    "    coding=[\n",
    "        Coding(\n",
    "            code=\"11778-8\",\n",
    "            system=\"https://loinc.org\",\n",
    "            display=\"Delivery date Estimated\",\n",
    "        )\n",
    "    ]\n",
    ")"
   ]
  },
  {
   "cell_type": "code",
   "execution_count": 6,
   "metadata": {},
   "outputs": [
    {
     "data": {
      "text/plain": [
       "Observation(resourceType='Observation', id=None, id__ext=None, meta=None, text=None, note=None, focus=None, partOf=None, status='registered', status__ext=None, issued=None, issued__ext=None, method=None, device=None, basedOn=None, subject=Reference(id=None, id__ext=None, type=None, type__ext=None, display=None, display__ext=None, extension=None, reference='https://some.fhir/server/dkapitan', reference__ext=None, identifier=None), language=None, language__ext=None, category=None, valueQuantity=None, valueCodeableConcept=None, valueString=None, valueString__ext=None, valueBoolean=None, valueBoolean__ext=None, valueInteger=None, valueInteger__ext=None, valueRange=None, valueRatio=None, valueSampledData=None, valueTime=None, valueTime__ext=None, valueDateTime=None, valueDateTime__ext=None, valuePeriod=None, bodySite=None, specimen=None, contained=None, extension=None, encounter=None, performer=None, hasMember=None, component=None, identifier=None, derivedFrom=None, effectiveDateTime=None, effectiveDateTime__ext=None, effectivePeriod=None, effectiveTiming=None, effectiveInstant=None, effectiveInstant__ext=None, implicitRules=None, implicitRules__ext=None, interpretation=None, referenceRange=None, dataAbsentReason=None, modifierExtension=None, code=CodeableConcept(id=None, id__ext=None, text=None, text__ext=None, coding=[Coding(id=None, id__ext=None, system='https://loinc.org', system__ext=None, version=None, version__ext=None, display='Delivery date Estimated', display__ext=None, extension=None, userSelected=None, userSelected__ext=None, code='11778-8', code__ext=None)], extension=None))"
      ]
     },
     "execution_count": 6,
     "metadata": {},
     "output_type": "execute_result"
    }
   ],
   "source": [
    "Observation(\n",
    "    status=\"registered\",\n",
    "    code=codeEDD,\n",
    "    subject=Reference(\n",
    "        reference=\"https://some.fhir/server/dkapitan\",\n",
    "    ),\n",
    ")"
   ]
  },
  {
   "cell_type": "code",
   "execution_count": 7,
   "metadata": {},
   "outputs": [],
   "source": [
    "# this is a bit of a roundabout way to put constraints on the allowed coding\n",
    "# but it serves to demonstrate the mechanism\n",
    "# TO DO: implement with field_validators\n",
    "# https://docs.pydantic.dev/latest/concepts/validators/#field-validators\n",
    "class CodingEdd(Enum):\n",
    "    _11778_8 = Coding(\n",
    "        code=\"11778-8\", system=\"https://loinc.org\", display=\"Delivery date Estimated\"\n",
    "    )\n",
    "    _11778_6 = Coding(\n",
    "        code=\"11778-6\",\n",
    "        system=\"https://loinc.org\",\n",
    "        display=\"Delivery date Estimated from last menstrual period\",\n",
    "    )\n",
    "    _11778_4 = Coding(\n",
    "        code=\"11778-4\",\n",
    "        system=\"https://loinc.org\",\n",
    "        display=\"Delivery date Estimated from ovulation date\",\n",
    "    )\n",
    "\n",
    "\n",
    "class CodeableConceptEDD(CodeableConcept):\n",
    "    coding: List_[Literal_[CodingEdd._11778_8, CodingEdd._11778_6, CodingEdd._11778_4]]"
   ]
  },
  {
   "cell_type": "code",
   "execution_count": 8,
   "metadata": {},
   "outputs": [
    {
     "name": "stdout",
     "output_type": "stream",
     "text": [
      "'resourceType: Observation'\n",
      "'status: registered'\n",
      "('subject: id=None id__ext=None '\n",
      " \"type='http://hl7.org/fhir/uv/ips/StructureDefinition/Patient-uv-ips' \"\n",
      " 'type__ext=None display=None display__ext=None extension=None '\n",
      " \"reference='https://some.fhir/server/dkapitan' reference__ext=None \"\n",
      " 'identifier=None')\n",
      "('code: id=None id__ext=None text=None text__ext=None '\n",
      " 'coding=[<CodingEdd._11778_8: Coding(id=None, id__ext=None, '\n",
      " \"system='https://loinc.org', system__ext=None, version=None, \"\n",
      " \"version__ext=None, display='Delivery date Estimated', display__ext=None, \"\n",
      " \"extension=None, userSelected=None, userSelected__ext=None, code='11778-8', \"\n",
      " 'code__ext=None)>] extension=None')\n"
     ]
    }
   ],
   "source": [
    "# Observation\n",
    "# fixed code list how EDD is estimated using LOINC codes\n",
    "# https://build.fhir.org/ig/HL7/fhir-ips/ValueSet-edd-method-uv-ips.html\n",
    "# note that ObservationPregnancyEddIPS removes bodysite, method, specimen, device, referenceRange and component\n",
    "# we haven't implemented that here\n",
    "# Main point that we demonstrate is value binding\n",
    "class ObservationPregnancyEddIPS(Observation):\n",
    "    code: CodeableConceptEDD\n",
    "    subject: ReferencePatient\n",
    "\n",
    "\n",
    "show_object(\n",
    "    ObservationPregnancyEddIPS(\n",
    "        status=\"registered\",\n",
    "        code=CodeableConceptEDD(coding=[CodingEdd._11778_8]),\n",
    "        subject=ReferencePatient(\n",
    "            reference=\"https://some.fhir/server/dkapitan\",\n",
    "        ),\n",
    "    )\n",
    ")"
   ]
  },
  {
   "cell_type": "markdown",
   "metadata": {},
   "source": [
    "### Resources not included in IPS\n",
    "\n",
    "- Encounter\n",
    "- Questionnaire\n",
    "- QuestionnaireResponse\n"
   ]
  },
  {
   "cell_type": "markdown",
   "metadata": {},
   "source": []
  },
  {
   "cell_type": "markdown",
   "metadata": {},
   "source": [
    "### WHO ANC ValueSet\n",
    "\n",
    "- Note we are using value sets with mapping to SNOMED IPS\n",
    "- Also constraints are not relevant (too detailed for Momcare)\n",
    "- We do use Measures (downstream)\n"
   ]
  },
  {
   "cell_type": "code",
   "execution_count": 9,
   "metadata": {},
   "outputs": [],
   "source": [
    "import fsspec\n",
    "import polars as pl\n",
    "\n",
    "\n",
    "systems = [\"ICD-10\", \"ICD-11\", \"ICF\", \"ICHI\", \"LOINC\", \"SNOMED-CT\"]\n",
    "\n",
    "\n",
    "def parse_conceptmap(system: str) -> pl.DataFrame:\n",
    "    \"Generate flattened mapping tables from WHO ANC conceptmap.\"\n",
    "\n",
    "    if system not in systems:\n",
    "        return None\n",
    "\n",
    "    with fsspec.open(\n",
    "        f\"https://build.fhir.org/ig/dhes/smart-anc/ConceptMap-{system}.json\"\n",
    "    ) as f:\n",
    "        df = pl.read_json(f)\n",
    "\n",
    "    unnest_group = pl.col(\"group\").list.explode().struct.unnest()\n",
    "    unnest_element = pl.col(\"element\").list.explode().struct.unnest().list.explode()\n",
    "\n",
    "    return (\n",
    "        df.select(unnest_group)\n",
    "        .select(unnest_element)\n",
    "        .select(\n",
    "            pl.col(pl.String).name.prefix(\"who_anc_\"),\n",
    "            pl.lit(system.replace(\"-\", \"\")).alias(\"target\"),\n",
    "            pl.col(\"target\").struct.unnest(),\n",
    "        )\n",
    "    )"
   ]
  },
  {
   "cell_type": "code",
   "execution_count": 10,
   "metadata": {},
   "outputs": [],
   "source": [
    "df = pl.concat([parse_conceptmap(system) for system in systems], how=\"diagonal\")"
   ]
  },
  {
   "cell_type": "code",
   "execution_count": 11,
   "metadata": {},
   "outputs": [
    {
     "data": {
      "text/html": [
       "<div><style>\n",
       ".dataframe > thead > tr,\n",
       ".dataframe > tbody > tr {\n",
       "  text-align: right;\n",
       "  white-space: pre-wrap;\n",
       "}\n",
       "</style>\n",
       "<small>shape: (1, 1)</small><table border=\"1\" class=\"dataframe\"><thead><tr><th>who_anc_code</th></tr><tr><td>u32</td></tr></thead><tbody><tr><td>735</td></tr></tbody></table></div>"
      ],
      "text/plain": [
       "shape: (1, 1)\n",
       "┌──────────────┐\n",
       "│ who_anc_code │\n",
       "│ ---          │\n",
       "│ u32          │\n",
       "╞══════════════╡\n",
       "│ 735          │\n",
       "└──────────────┘"
      ]
     },
     "execution_count": 11,
     "metadata": {},
     "output_type": "execute_result"
    }
   ],
   "source": [
    "# 735 unique WHO ANC codes\n",
    "df.select(pl.col(\"who_anc_code\").n_unique())"
   ]
  },
  {
   "cell_type": "code",
   "execution_count": 12,
   "metadata": {},
   "outputs": [
    {
     "data": {
      "text/html": [
       "<div><style>\n",
       ".dataframe > thead > tr,\n",
       ".dataframe > tbody > tr {\n",
       "  text-align: right;\n",
       "  white-space: pre-wrap;\n",
       "}\n",
       "</style>\n",
       "<small>shape: (6, 3)</small><table border=\"1\" class=\"dataframe\"><thead><tr><th>target</th><th>who_anc_code</th><th>code</th></tr><tr><td>str</td><td>u32</td><td>u32</td></tr></thead><tbody><tr><td>&quot;ICD11&quot;</td><td>550</td><td>225</td></tr><tr><td>&quot;ICHI&quot;</td><td>163</td><td>42</td></tr><tr><td>&quot;SNOMEDCT&quot;</td><td>725</td><td>430</td></tr><tr><td>&quot;ICF&quot;</td><td>100</td><td>32</td></tr><tr><td>&quot;LOINC&quot;</td><td>385</td><td>145</td></tr><tr><td>&quot;ICD10&quot;</td><td>532</td><td>188</td></tr></tbody></table></div>"
      ],
      "text/plain": [
       "shape: (6, 3)\n",
       "┌──────────┬──────────────┬──────┐\n",
       "│ target   ┆ who_anc_code ┆ code │\n",
       "│ ---      ┆ ---          ┆ ---  │\n",
       "│ str      ┆ u32          ┆ u32  │\n",
       "╞══════════╪══════════════╪══════╡\n",
       "│ ICD11    ┆ 550          ┆ 225  │\n",
       "│ ICHI     ┆ 163          ┆ 42   │\n",
       "│ SNOMEDCT ┆ 725          ┆ 430  │\n",
       "│ ICF      ┆ 100          ┆ 32   │\n",
       "│ LOINC    ┆ 385          ┆ 145  │\n",
       "│ ICD10    ┆ 532          ┆ 188  │\n",
       "└──────────┴──────────────┴──────┘"
      ]
     },
     "execution_count": 12,
     "metadata": {},
     "output_type": "execute_result"
    }
   ],
   "source": [
    "# Coverage varies widely, SNOMED most complete\n",
    "# Multiple WHO ANC code can map to the same target code\n",
    "df.group_by(\"target\").agg(pl.n_unique(\"who_anc_code\", \"code\"))"
   ]
  },
  {
   "cell_type": "code",
   "execution_count": 13,
   "metadata": {},
   "outputs": [
    {
     "data": {
      "text/html": [
       "<div><style>\n",
       ".dataframe > thead > tr,\n",
       ".dataframe > tbody > tr {\n",
       "  text-align: right;\n",
       "  white-space: pre-wrap;\n",
       "}\n",
       "</style>\n",
       "<small>shape: (1_830, 7)</small><table border=\"1\" class=\"dataframe\"><thead><tr><th>target</th><th>code</th><th>count_</th><th>who_anc_code</th><th>who_anc_display</th><th>display</th><th>equivalence</th></tr><tr><td>str</td><td>str</td><td>u32</td><td>str</td><td>str</td><td>str</td><td>str</td></tr></thead><tbody><tr><td>&quot;ICD10&quot;</td><td>&quot;A53.9&quot;</td><td>2</td><td>&quot;ANC.B9.DE111&quot;</td><td>&quot;Syphilis positive&quot;</td><td>&quot;Syphilis, unspecified&quot;</td><td>&quot;equivalent&quot;</td></tr><tr><td>&quot;ICD10&quot;</td><td>&quot;A53.9&quot;</td><td>2</td><td>&quot;ANC.B9.DE108&quot;</td><td>&quot;Syphilis positive&quot;</td><td>&quot;Syphilis, unspecified&quot;</td><td>&quot;equivalent&quot;</td></tr><tr><td>&quot;ICD10&quot;</td><td>&quot;B18.1&quot;</td><td>2</td><td>&quot;ANC.B9.DE72&quot;</td><td>&quot;Hepatitis B positive&quot;</td><td>&quot;Chronic viral hepatitis B with…</td><td>&quot;equivalent&quot;</td></tr><tr><td>&quot;ICD10&quot;</td><td>&quot;B18.1&quot;</td><td>2</td><td>&quot;ANC.B9.DE75&quot;</td><td>&quot;Hepatitis B positive&quot;</td><td>&quot;Chronic viral hepatitis B with…</td><td>&quot;equivalent&quot;</td></tr><tr><td>&quot;ICD10&quot;</td><td>&quot;B18.2&quot;</td><td>2</td><td>&quot;ANC.B9.DE93&quot;</td><td>&quot;Hepatitis C positive&quot;</td><td>&quot;Chronic viral hepatitis C&quot;</td><td>&quot;equivalent&quot;</td></tr><tr><td>&hellip;</td><td>&hellip;</td><td>&hellip;</td><td>&hellip;</td><td>&hellip;</td><td>&hellip;</td><td>&hellip;</td></tr><tr><td>&quot;SNOMEDCT&quot;</td><td>&quot;84229001&quot;</td><td>3</td><td>&quot;ANC.B7.DE53&quot;</td><td>&quot;Gets tired easily&quot;</td><td>&quot;Fatigue (finding)&quot;</td><td>&quot;equivalent&quot;</td></tr><tr><td>&quot;SNOMEDCT&quot;</td><td>&quot;8517006&quot;</td><td>2</td><td>&quot;ANC.B7.DE12&quot;</td><td>&quot;Recently quit tobacco products&quot;</td><td>&quot;Ex-smoker (finding)&quot;</td><td>&quot;equivalent&quot;</td></tr><tr><td>&quot;SNOMEDCT&quot;</td><td>&quot;8517006&quot;</td><td>2</td><td>&quot;ANC.B6.DE154&quot;</td><td>&quot;Recently quit tobacco products&quot;</td><td>&quot;Ex-smoker (finding)&quot;</td><td>&quot;equivalent&quot;</td></tr><tr><td>&quot;SNOMEDCT&quot;</td><td>&quot;91175000&quot;</td><td>2</td><td>&quot;ANC.B6.DE41&quot;</td><td>&quot;Convulsions&quot;</td><td>&quot;Seizure (finding)&quot;</td><td>&quot;equivalent&quot;</td></tr><tr><td>&quot;SNOMEDCT&quot;</td><td>&quot;91175000&quot;</td><td>2</td><td>&quot;ANC.B5.DE52&quot;</td><td>&quot;Convulsing&quot;</td><td>&quot;Seizure (finding)&quot;</td><td>&quot;equivalent&quot;</td></tr></tbody></table></div>"
      ],
      "text/plain": [
       "shape: (1_830, 7)\n",
       "┌──────────┬──────────┬────────┬──────────────┬──────────────────────┬───────────────┬─────────────┐\n",
       "│ target   ┆ code     ┆ count_ ┆ who_anc_code ┆ who_anc_display      ┆ display       ┆ equivalence │\n",
       "│ ---      ┆ ---      ┆ ---    ┆ ---          ┆ ---                  ┆ ---           ┆ ---         │\n",
       "│ str      ┆ str      ┆ u32    ┆ str          ┆ str                  ┆ str           ┆ str         │\n",
       "╞══════════╪══════════╪════════╪══════════════╪══════════════════════╪═══════════════╪═════════════╡\n",
       "│ ICD10    ┆ A53.9    ┆ 2      ┆ ANC.B9.DE111 ┆ Syphilis positive    ┆ Syphilis,     ┆ equivalent  │\n",
       "│          ┆          ┆        ┆              ┆                      ┆ unspecified   ┆             │\n",
       "│ ICD10    ┆ A53.9    ┆ 2      ┆ ANC.B9.DE108 ┆ Syphilis positive    ┆ Syphilis,     ┆ equivalent  │\n",
       "│          ┆          ┆        ┆              ┆                      ┆ unspecified   ┆             │\n",
       "│ ICD10    ┆ B18.1    ┆ 2      ┆ ANC.B9.DE72  ┆ Hepatitis B positive ┆ Chronic viral ┆ equivalent  │\n",
       "│          ┆          ┆        ┆              ┆                      ┆ hepatitis B   ┆             │\n",
       "│          ┆          ┆        ┆              ┆                      ┆ with…         ┆             │\n",
       "│ ICD10    ┆ B18.1    ┆ 2      ┆ ANC.B9.DE75  ┆ Hepatitis B positive ┆ Chronic viral ┆ equivalent  │\n",
       "│          ┆          ┆        ┆              ┆                      ┆ hepatitis B   ┆             │\n",
       "│          ┆          ┆        ┆              ┆                      ┆ with…         ┆             │\n",
       "│ ICD10    ┆ B18.2    ┆ 2      ┆ ANC.B9.DE93  ┆ Hepatitis C positive ┆ Chronic viral ┆ equivalent  │\n",
       "│          ┆          ┆        ┆              ┆                      ┆ hepatitis C   ┆             │\n",
       "│ …        ┆ …        ┆ …      ┆ …            ┆ …                    ┆ …             ┆ …           │\n",
       "│ SNOMEDCT ┆ 84229001 ┆ 3      ┆ ANC.B7.DE53  ┆ Gets tired easily    ┆ Fatigue       ┆ equivalent  │\n",
       "│          ┆          ┆        ┆              ┆                      ┆ (finding)     ┆             │\n",
       "│ SNOMEDCT ┆ 8517006  ┆ 2      ┆ ANC.B7.DE12  ┆ Recently quit        ┆ Ex-smoker     ┆ equivalent  │\n",
       "│          ┆          ┆        ┆              ┆ tobacco products     ┆ (finding)     ┆             │\n",
       "│ SNOMEDCT ┆ 8517006  ┆ 2      ┆ ANC.B6.DE154 ┆ Recently quit        ┆ Ex-smoker     ┆ equivalent  │\n",
       "│          ┆          ┆        ┆              ┆ tobacco products     ┆ (finding)     ┆             │\n",
       "│ SNOMEDCT ┆ 91175000 ┆ 2      ┆ ANC.B6.DE41  ┆ Convulsions          ┆ Seizure       ┆ equivalent  │\n",
       "│          ┆          ┆        ┆              ┆                      ┆ (finding)     ┆             │\n",
       "│ SNOMEDCT ┆ 91175000 ┆ 2      ┆ ANC.B5.DE52  ┆ Convulsing           ┆ Seizure       ┆ equivalent  │\n",
       "│          ┆          ┆        ┆              ┆                      ┆ (finding)     ┆             │\n",
       "└──────────┴──────────┴────────┴──────────────┴──────────────────────┴───────────────┴─────────────┘"
      ]
     },
     "execution_count": 13,
     "metadata": {},
     "output_type": "execute_result"
    }
   ],
   "source": [
    "# Oh my goodness, dear WHO, what have you done?\n",
    "many_to_one = (\n",
    "    df.group_by(\"target\", \"code\")\n",
    "    .agg(pl.count(\"who_anc_code\").alias(\"count_\"))\n",
    "    .filter(pl.col(\"count_\") > 1)\n",
    ")\n",
    "many_to_one.join(df, on=[\"target\", \"code\"]).sort([\"target\", \"code\"])"
   ]
  }
 ],
 "metadata": {
  "kernelspec": {
   "display_name": ".venv",
   "language": "python",
   "name": "python3"
  },
  "language_info": {
   "codemirror_mode": {
    "name": "ipython",
    "version": 3
   },
   "file_extension": ".py",
   "mimetype": "text/x-python",
   "name": "python",
   "nbconvert_exporter": "python",
   "pygments_lexer": "ipython3",
   "version": "3.12.7"
  }
 },
 "nbformat": 4,
 "nbformat_minor": 2
}
