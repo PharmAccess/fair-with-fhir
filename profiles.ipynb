{
 "cells": [
  {
   "cell_type": "markdown",
   "metadata": {},
   "source": [
    "# Demonstrating FHIR Profiling to define FAIR datasets\n",
    "\n",
    "## Approach\n",
    "\n",
    "### Why FHIR Profiling for FAIR dataset?\n",
    "\n",
    "FHIR Profiling is a mechanism through which a rulebook/codebook can be defined for healthcare data. Although originally intended to be used for localization of base FHIR versions, for example creating national profiles or profiles for a specific use case, we demonstrate here that the mechanism can be used define FAIR datasets and create data pipelines which validate incoming data in bulk.\n",
    "\n",
    "### Why use Python\n",
    "\n",
    "In this demonstrator notebook, we choose to implement the FHIR Profiling mechanism in Python, as it is intended as a way to validate FHIR data in bulk (the whole dataset). We choose to implement it specifically since Python is widely used in data engineering (see Open Health Stack FHIR Pipelines).\n",
    "\n",
    "### Logic\n",
    "\n",
    "[Pydantic v2](https://pydantic.dev/opensource), the most widely used data validation library, does all of the heavy lifting in this demonstrator. Do get pydantic to work with FHIR, we first generate FHIR R4B pydantic models using [fhir-py-types](https://github.com/beda-software/fhir-py-types). The output of this conversion is `resources.py` and has been included in the repository for convenience.\n",
    "\n",
    "We subsequently use pydantic to subclass the R4B resources, which effectively mimics the profiling mechanism of FHIR. We demonstrate that through this mechanism we can combine three FHIR profiles (R4B, IPS and WHO ANC) and also explicitly integrate [SNOMED IPS Terminology](https://www.snomed.org/international-patient-summary-terminology) into a single, consistent datamodel (you could even say ontology since it based on the full base FHIR R4B specification) which can be used to validate incoming, bulk data.\n",
    "\n",
    "In the following, we demonstrate how to:\n",
    "\n",
    "- Put more constrained cardinalities on FHIR Resources by subclassing Pydantic models\n",
    "- Define which coding systems should be used by implementing specifc field validators in pydantic. We choose to use [SNOMED IPS Terminology](https://www.snomed.org/international-patient-summary-terminology) as the default terminology, with mappings to other terminologies, most notably ICD-10, ICD-11 and LOINC.\n",
    "- Visualize the ontology of the Momcare dataset\n"
   ]
  },
  {
   "cell_type": "markdown",
   "metadata": {},
   "source": [
    "## Demonstrator\n",
    "\n",
    "### Setup R4B with pydantic\n"
   ]
  },
  {
   "cell_type": "code",
   "execution_count": 1,
   "metadata": {},
   "outputs": [],
   "source": [
    "from itertools import repeat\n",
    "from typing import Any\n",
    "\n",
    "from pprint import pprint\n",
    "from pydantic import field_validator, ValidationError\n",
    "from resources import (\n",
    "    BaseModel,\n",
    "    CodeableConcept,\n",
    "    Coding,\n",
    "    Condition,\n",
    "    dateType,\n",
    "    Encounter,\n",
    "    HumanName,\n",
    "    Identifier,\n",
    "    List_,\n",
    "    Literal_,\n",
    "    Observation,\n",
    "    Organization,\n",
    "    Patient,\n",
    "    Procedure,\n",
    "    Reference,\n",
    "    Questionnaire,\n",
    "    QuestionnaireResponse,\n",
    ")\n",
    "\n",
    "\n",
    "def show_object(obj: BaseModel):\n",
    "    \"\"\"Prints obj attributes that are not None\"\"\"\n",
    "    for k, v in obj.__dict__.items():\n",
    "        if v:\n",
    "            pprint(f\"{k}: {getattr(obj, k)}\")"
   ]
  },
  {
   "cell_type": "markdown",
   "metadata": {},
   "source": [
    "Note that almost all fields in R4B resources are optional.\n"
   ]
  },
  {
   "cell_type": "code",
   "execution_count": 2,
   "metadata": {},
   "outputs": [
    {
     "data": {
      "text/plain": [
       "{'resourceType': 'Patient',\n",
       " 'id': None,\n",
       " 'id__ext': None,\n",
       " 'meta': None,\n",
       " 'text': None,\n",
       " 'name': None,\n",
       " 'link': None,\n",
       " 'photo': None,\n",
       " 'active': None,\n",
       " 'active__ext': None,\n",
       " 'gender': None,\n",
       " 'gender__ext': None,\n",
       " 'telecom': None,\n",
       " 'address': None,\n",
       " 'contact': None,\n",
       " 'language': None,\n",
       " 'language__ext': None,\n",
       " 'contained': None,\n",
       " 'extension': None,\n",
       " 'birthDate': None,\n",
       " 'birthDate__ext': None,\n",
       " 'identifier': None,\n",
       " 'deceasedBoolean': None,\n",
       " 'deceasedBoolean__ext': None,\n",
       " 'deceasedDateTime': None,\n",
       " 'deceasedDateTime__ext': None,\n",
       " 'implicitRules': None,\n",
       " 'implicitRules__ext': None,\n",
       " 'maritalStatus': None,\n",
       " 'communication': None,\n",
       " 'multipleBirthBoolean': None,\n",
       " 'multipleBirthBoolean__ext': None,\n",
       " 'multipleBirthInteger': None,\n",
       " 'multipleBirthInteger__ext': None,\n",
       " 'modifierExtension': None,\n",
       " 'generalPractitioner': None,\n",
       " 'managingOrganization': None}"
      ]
     },
     "execution_count": 2,
     "metadata": {},
     "output_type": "execute_result"
    }
   ],
   "source": [
    "Patient().__dict__"
   ]
  },
  {
   "cell_type": "markdown",
   "metadata": {},
   "source": [
    "### FHIR IPS: adding cardinality constraints\n",
    "\n",
    "We need to add cardinality constraints to `Patient` and `Organization`. Also, we subclass `Reference` into `ReferencePatient` which is used in the IPS profile to refer back to the `Patient` resource.\n"
   ]
  },
  {
   "cell_type": "code",
   "execution_count": 3,
   "metadata": {},
   "outputs": [
    {
     "name": "stdout",
     "output_type": "stream",
     "text": [
      "'resourceType: Patient'\n",
      "('name: [HumanName(id=None, id__ext=None, use=None, use__ext=None, text=None, '\n",
      " \"text__ext=None, given=['Jane'], given__ext=None, family='Doe', \"\n",
      " 'family__ext=None, prefix=None, prefix__ext=None, suffix=None, '\n",
      " 'suffix__ext=None, period=None, extension=None)]')\n",
      "'birthdate: 01-01-1980'\n"
     ]
    }
   ],
   "source": [
    "class PatientIPS(Patient):\n",
    "    \"PatientIPS has constrained 'name' and 'birthdate' as mandatory.\"\n",
    "\n",
    "    name: List_[HumanName] = None\n",
    "    birthdate: dateType = None\n",
    "\n",
    "\n",
    "# OrganizationIPS has constrained 'name' as mandatory\n",
    "class OrganizationIPS(Organization):\n",
    "    \"OrganizationIPS has constrained 'name'as mandatory.\"\n",
    "\n",
    "    name: str\n",
    "\n",
    "\n",
    "class ReferencePatient(Reference):\n",
    "    \"Reference(PatientIPS) has fixed value for type and reference string is mandatory.\"\n",
    "\n",
    "    type: str = \"http://hl7.org/fhir/uv/ips/StructureDefinition/Patient-uv-ips\"\n",
    "    reference: str\n",
    "\n",
    "\n",
    "# example PatientIPS. Note given name is a list, and there is only one family name\n",
    "show_object(\n",
    "    PatientIPS(name=[HumanName(given=[\"Jane\"], family=\"Doe\")], birthdate=\"01-01-1980\")\n",
    ")"
   ]
  },
  {
   "cell_type": "markdown",
   "metadata": {},
   "source": [
    "### FHIR IPS: adding cardinality constraints and constraining terminologies\n",
    "\n",
    "Besides cardinality constraints, , `ObservationIPS`, `ConditionIPS`, and `ProcedureIPS` also add contraints as to which valuesets/terminologies are to be used. We implement this using the `field_validator` function of Pydantic.\n",
    "\n",
    "More specifically, we use _after validators_, which means that first Pydantic's internal validation checks whether the incoming data conforms to the types specified by the FHIR profile, and then we do extra validation that checks value is included in the mandated valueset.\n",
    "\n",
    "First, consider the R4B `Observation` resource which we instantiate as follows:\n"
   ]
  },
  {
   "cell_type": "code",
   "execution_count": 4,
   "metadata": {},
   "outputs": [
    {
     "name": "stdout",
     "output_type": "stream",
     "text": [
      "'resourceType: Observation'\n",
      "'status: registered'\n",
      "('code: id=None id__ext=None text=None text__ext=None coding=[Coding(id=None, '\n",
      " \"id__ext=None, system='https://loinc.org', system__ext=None, version=None, \"\n",
      " \"version__ext=None, display='Delivery date Estimated', display__ext=None, \"\n",
      " \"extension=None, userSelected=None, userSelected__ext=None, code='11778-8', \"\n",
      " 'code__ext=None)] extension=None')\n"
     ]
    }
   ],
   "source": [
    "codeEDD = CodeableConcept(\n",
    "    coding=[\n",
    "        Coding(\n",
    "            code=\"11778-8\",\n",
    "            system=\"https://loinc.org\",\n",
    "            display=\"Delivery date Estimated\",\n",
    "        )\n",
    "    ]\n",
    ")\n",
    "\n",
    "# R4B Observation, 'status' and 'code are mandatory\n",
    "show_object(\n",
    "    Observation(\n",
    "        status=\"registered\",\n",
    "        code=codeEDD,\n",
    "    )\n",
    ")"
   ]
  },
  {
   "cell_type": "markdown",
   "metadata": {},
   "source": [
    "Next, we implement the constraints of the IPS including validation of the codeable concepts:\n"
   ]
  },
  {
   "cell_type": "code",
   "execution_count": 5,
   "metadata": {},
   "outputs": [
    {
     "name": "stdout",
     "output_type": "stream",
     "text": [
      "'resourceType: Observation'\n",
      "'status: registered'\n",
      "('subject: id=None id__ext=None '\n",
      " \"type='http://hl7.org/fhir/uv/ips/StructureDefinition/Patient-uv-ips' \"\n",
      " 'type__ext=None display=None display__ext=None extension=None '\n",
      " \"reference='https://some.fhir/server/jane-doe' reference__ext=None \"\n",
      " 'identifier=None')\n",
      "('code: id=None id__ext=None text=None text__ext=None coding=[Coding(id=None, '\n",
      " \"id__ext=None, system='https://loinc.org', system__ext=None, version=None, \"\n",
      " \"version__ext=None, display='Delivery date Estimated', display__ext=None, \"\n",
      " \"extension=None, userSelected=None, userSelected__ext=None, code='11778-8', \"\n",
      " 'code__ext=None)] extension=None')\n"
     ]
    }
   ],
   "source": [
    "class ObservationPregnancyEddIPS(Observation):\n",
    "    code: CodeableConcept\n",
    "    subject: ReferencePatient\n",
    "\n",
    "    @field_validator(\"code\", mode=\"after\")\n",
    "    @classmethod\n",
    "    def ensure_edd(cls, value: CodeableConcept) -> CodeableConcept:\n",
    "        allowed_codings = list(\n",
    "            zip(repeat(\"https://loinc.org\", 3), (\"11778-4\", \"11778-6\", \"11778-8\"))\n",
    "        )\n",
    "        codings = [(code.system, code.code) for code in value.coding]\n",
    "        if not all(coding in allowed_codings for coding in codings):\n",
    "            raise ValueError(\n",
    "                f\"Provided coding(s) {codings} should be one of {allowed_codings}\"\n",
    "            )\n",
    "        else:\n",
    "            return value\n",
    "\n",
    "\n",
    "show_object(\n",
    "    ObservationPregnancyEddIPS(\n",
    "        status=\"registered\",\n",
    "        subject=ReferencePatient(\n",
    "            reference=\"https://some.fhir/server/jane-doe\",\n",
    "        ),\n",
    "        code=codeEDD,\n",
    "    )\n",
    ")"
   ]
  },
  {
   "cell_type": "markdown",
   "metadata": {},
   "source": [
    "It is interesting to note that the FHIR IPS Profile only allows use of LOINC codes. There is a one-to-one mapping with SNOMED-CT for the following two codes:\n",
    "\n",
    "| LOINC                                                | SNOMED CT                                              |\n",
    "| ---------------------------------------------------- | ------------------------------------------------------ |\n",
    "| 11778-8: Delivery date Estimated                     | 161714006: Estimated date of delivery                  |\n",
    "| 11778-6: Delivery date Estimated from ovulation date | 289206005: Estimated date of delivery from last period |\n",
    "\n",
    "LOINC has an additional code 11778-6: Delivery date Estimated from last menstrual period, with no equivalent in SNOMED CT.\n",
    "\n",
    "SNOMED has an addtional code 738070007: Estimated date of delivery from antenatal ultrasound scan, with no equivalent in LOINC.\n",
    "\n",
    "Using the strict implementation of the IPS, this is instance of `ObservationPregnancyEddIPS` is not allowed:\n"
   ]
  },
  {
   "cell_type": "code",
   "execution_count": 6,
   "metadata": {},
   "outputs": [
    {
     "name": "stdout",
     "output_type": "stream",
     "text": [
      "1 validation error for ObservationPregnancyEddIPS\n",
      "code\n",
      "  Value error, Provided coding(s) [('https://snomed.info/sct', '161714006')] should be one of [('https://loinc.org', '11778-4'), ('https://loinc.org', '11778-6'), ('https://loinc.org', '11778-8')] [type=value_error, input_value=CodeableConcept(id=None, ...=None)], extension=None), input_type=CodeableConcept]\n",
      "    For further information visit https://errors.pydantic.dev/2.10/v/value_error\n"
     ]
    }
   ],
   "source": [
    "try:\n",
    "    show_object(\n",
    "        ObservationPregnancyEddIPS(\n",
    "            status=\"registered\",\n",
    "            subject=ReferencePatient(\n",
    "                reference=\"https://some.fhir/server/dkapitan\",\n",
    "            ),\n",
    "            code=CodeableConcept(\n",
    "                coding=[\n",
    "                    Coding(\n",
    "                        code=\"161714006\",\n",
    "                        system=\"https://snomed.info/sct\",\n",
    "                        display=\"Estimated date of delivery\",\n",
    "                    )\n",
    "                ],\n",
    "            ),\n",
    "        )\n",
    "    )\n",
    "except ValueError as e:\n",
    "    print(e)"
   ]
  },
  {
   "cell_type": "code",
   "execution_count": 7,
   "metadata": {},
   "outputs": [],
   "source": [
    "# TO DO: add field_validators for SNOMED IPS\n",
    "class ConditionIPS(Condition):\n",
    "    code: CodeableConcept\n",
    "    subject: ReferencePatient\n",
    "\n",
    "\n",
    "class ProcedureIPS(Procedure):\n",
    "    code: CodeableConcept\n",
    "    subject: ReferencePatient"
   ]
  },
  {
   "cell_type": "markdown",
   "metadata": {},
   "source": [
    "### Resources not included in IPS\n",
    "\n",
    "- Encounter\n",
    "- Questionnaire\n",
    "- QuestionnaireResponse\n"
   ]
  },
  {
   "cell_type": "markdown",
   "metadata": {},
   "source": []
  },
  {
   "cell_type": "markdown",
   "metadata": {},
   "source": [
    "### WHO ANC ValueSet\n",
    "\n",
    "- Note we are using value sets with mapping to SNOMED IPS\n",
    "- Also constraints are not relevant (too detailed for Momcare)\n",
    "- We do use Measures (downstream)\n"
   ]
  },
  {
   "cell_type": "code",
   "execution_count": 8,
   "metadata": {},
   "outputs": [],
   "source": [
    "import fsspec\n",
    "import polars as pl\n",
    "\n",
    "\n",
    "systems = [\"ICD-10\", \"ICD-11\", \"ICF\", \"ICHI\", \"LOINC\", \"SNOMED-CT\"]\n",
    "\n",
    "\n",
    "def parse_conceptmap(system: str) -> pl.DataFrame:\n",
    "    \"Generate flattened mapping tables from WHO ANC conceptmap.\"\n",
    "\n",
    "    if system not in systems:\n",
    "        return None\n",
    "\n",
    "    with fsspec.open(\n",
    "        f\"https://build.fhir.org/ig/dhes/smart-anc/ConceptMap-{system}.json\"\n",
    "    ) as f:\n",
    "        df = pl.read_json(f)\n",
    "\n",
    "    unnest_group = pl.col(\"group\").list.explode().struct.unnest()\n",
    "    unnest_element = pl.col(\"element\").list.explode().struct.unnest().list.explode()\n",
    "\n",
    "    return (\n",
    "        df.select(unnest_group)\n",
    "        .select(unnest_element)\n",
    "        .select(\n",
    "            pl.col(pl.String).name.prefix(\"who_anc_\"),\n",
    "            pl.lit(system.replace(\"-\", \"\")).alias(\"target\"),\n",
    "            pl.col(\"target\").struct.unnest(),\n",
    "        )\n",
    "    )"
   ]
  },
  {
   "cell_type": "code",
   "execution_count": 9,
   "metadata": {},
   "outputs": [],
   "source": [
    "df = pl.concat([parse_conceptmap(system) for system in systems], how=\"diagonal\")"
   ]
  },
  {
   "cell_type": "code",
   "execution_count": 10,
   "metadata": {},
   "outputs": [
    {
     "data": {
      "text/html": [
       "<div><style>\n",
       ".dataframe > thead > tr,\n",
       ".dataframe > tbody > tr {\n",
       "  text-align: right;\n",
       "  white-space: pre-wrap;\n",
       "}\n",
       "</style>\n",
       "<small>shape: (1, 1)</small><table border=\"1\" class=\"dataframe\"><thead><tr><th>who_anc_code</th></tr><tr><td>u32</td></tr></thead><tbody><tr><td>735</td></tr></tbody></table></div>"
      ],
      "text/plain": [
       "shape: (1, 1)\n",
       "┌──────────────┐\n",
       "│ who_anc_code │\n",
       "│ ---          │\n",
       "│ u32          │\n",
       "╞══════════════╡\n",
       "│ 735          │\n",
       "└──────────────┘"
      ]
     },
     "execution_count": 10,
     "metadata": {},
     "output_type": "execute_result"
    }
   ],
   "source": [
    "# 735 unique WHO ANC codes\n",
    "df.select(pl.col(\"who_anc_code\").n_unique())"
   ]
  },
  {
   "cell_type": "code",
   "execution_count": 11,
   "metadata": {},
   "outputs": [
    {
     "data": {
      "text/html": [
       "<div><style>\n",
       ".dataframe > thead > tr,\n",
       ".dataframe > tbody > tr {\n",
       "  text-align: right;\n",
       "  white-space: pre-wrap;\n",
       "}\n",
       "</style>\n",
       "<small>shape: (6, 3)</small><table border=\"1\" class=\"dataframe\"><thead><tr><th>target</th><th>who_anc_code</th><th>code</th></tr><tr><td>str</td><td>u32</td><td>u32</td></tr></thead><tbody><tr><td>&quot;ICHI&quot;</td><td>163</td><td>42</td></tr><tr><td>&quot;LOINC&quot;</td><td>385</td><td>145</td></tr><tr><td>&quot;ICD10&quot;</td><td>532</td><td>188</td></tr><tr><td>&quot;SNOMEDCT&quot;</td><td>725</td><td>430</td></tr><tr><td>&quot;ICD11&quot;</td><td>550</td><td>225</td></tr><tr><td>&quot;ICF&quot;</td><td>100</td><td>32</td></tr></tbody></table></div>"
      ],
      "text/plain": [
       "shape: (6, 3)\n",
       "┌──────────┬──────────────┬──────┐\n",
       "│ target   ┆ who_anc_code ┆ code │\n",
       "│ ---      ┆ ---          ┆ ---  │\n",
       "│ str      ┆ u32          ┆ u32  │\n",
       "╞══════════╪══════════════╪══════╡\n",
       "│ ICHI     ┆ 163          ┆ 42   │\n",
       "│ LOINC    ┆ 385          ┆ 145  │\n",
       "│ ICD10    ┆ 532          ┆ 188  │\n",
       "│ SNOMEDCT ┆ 725          ┆ 430  │\n",
       "│ ICD11    ┆ 550          ┆ 225  │\n",
       "│ ICF      ┆ 100          ┆ 32   │\n",
       "└──────────┴──────────────┴──────┘"
      ]
     },
     "execution_count": 11,
     "metadata": {},
     "output_type": "execute_result"
    }
   ],
   "source": [
    "# Coverage varies widely, SNOMED most complete\n",
    "# Multiple WHO ANC code can map to the same target code\n",
    "df.group_by(\"target\").agg(pl.n_unique(\"who_anc_code\", \"code\"))"
   ]
  },
  {
   "cell_type": "code",
   "execution_count": 12,
   "metadata": {},
   "outputs": [
    {
     "data": {
      "text/html": [
       "<div><style>\n",
       ".dataframe > thead > tr,\n",
       ".dataframe > tbody > tr {\n",
       "  text-align: right;\n",
       "  white-space: pre-wrap;\n",
       "}\n",
       "</style>\n",
       "<small>shape: (1_830, 7)</small><table border=\"1\" class=\"dataframe\"><thead><tr><th>target</th><th>code</th><th>count_</th><th>who_anc_code</th><th>who_anc_display</th><th>display</th><th>equivalence</th></tr><tr><td>str</td><td>str</td><td>u32</td><td>str</td><td>str</td><td>str</td><td>str</td></tr></thead><tbody><tr><td>&quot;ICD10&quot;</td><td>&quot;A53.9&quot;</td><td>2</td><td>&quot;ANC.B9.DE111&quot;</td><td>&quot;Syphilis positive&quot;</td><td>&quot;Syphilis, unspecified&quot;</td><td>&quot;equivalent&quot;</td></tr><tr><td>&quot;ICD10&quot;</td><td>&quot;A53.9&quot;</td><td>2</td><td>&quot;ANC.B9.DE108&quot;</td><td>&quot;Syphilis positive&quot;</td><td>&quot;Syphilis, unspecified&quot;</td><td>&quot;equivalent&quot;</td></tr><tr><td>&quot;ICD10&quot;</td><td>&quot;B18.1&quot;</td><td>2</td><td>&quot;ANC.B9.DE72&quot;</td><td>&quot;Hepatitis B positive&quot;</td><td>&quot;Chronic viral hepatitis B with…</td><td>&quot;equivalent&quot;</td></tr><tr><td>&quot;ICD10&quot;</td><td>&quot;B18.1&quot;</td><td>2</td><td>&quot;ANC.B9.DE75&quot;</td><td>&quot;Hepatitis B positive&quot;</td><td>&quot;Chronic viral hepatitis B with…</td><td>&quot;equivalent&quot;</td></tr><tr><td>&quot;ICD10&quot;</td><td>&quot;B18.2&quot;</td><td>2</td><td>&quot;ANC.B9.DE93&quot;</td><td>&quot;Hepatitis C positive&quot;</td><td>&quot;Chronic viral hepatitis C&quot;</td><td>&quot;equivalent&quot;</td></tr><tr><td>&hellip;</td><td>&hellip;</td><td>&hellip;</td><td>&hellip;</td><td>&hellip;</td><td>&hellip;</td><td>&hellip;</td></tr><tr><td>&quot;SNOMEDCT&quot;</td><td>&quot;84229001&quot;</td><td>3</td><td>&quot;ANC.B7.DE53&quot;</td><td>&quot;Gets tired easily&quot;</td><td>&quot;Fatigue (finding)&quot;</td><td>&quot;equivalent&quot;</td></tr><tr><td>&quot;SNOMEDCT&quot;</td><td>&quot;8517006&quot;</td><td>2</td><td>&quot;ANC.B7.DE12&quot;</td><td>&quot;Recently quit tobacco products&quot;</td><td>&quot;Ex-smoker (finding)&quot;</td><td>&quot;equivalent&quot;</td></tr><tr><td>&quot;SNOMEDCT&quot;</td><td>&quot;8517006&quot;</td><td>2</td><td>&quot;ANC.B6.DE154&quot;</td><td>&quot;Recently quit tobacco products&quot;</td><td>&quot;Ex-smoker (finding)&quot;</td><td>&quot;equivalent&quot;</td></tr><tr><td>&quot;SNOMEDCT&quot;</td><td>&quot;91175000&quot;</td><td>2</td><td>&quot;ANC.B6.DE41&quot;</td><td>&quot;Convulsions&quot;</td><td>&quot;Seizure (finding)&quot;</td><td>&quot;equivalent&quot;</td></tr><tr><td>&quot;SNOMEDCT&quot;</td><td>&quot;91175000&quot;</td><td>2</td><td>&quot;ANC.B5.DE52&quot;</td><td>&quot;Convulsing&quot;</td><td>&quot;Seizure (finding)&quot;</td><td>&quot;equivalent&quot;</td></tr></tbody></table></div>"
      ],
      "text/plain": [
       "shape: (1_830, 7)\n",
       "┌──────────┬──────────┬────────┬──────────────┬──────────────────────┬───────────────┬─────────────┐\n",
       "│ target   ┆ code     ┆ count_ ┆ who_anc_code ┆ who_anc_display      ┆ display       ┆ equivalence │\n",
       "│ ---      ┆ ---      ┆ ---    ┆ ---          ┆ ---                  ┆ ---           ┆ ---         │\n",
       "│ str      ┆ str      ┆ u32    ┆ str          ┆ str                  ┆ str           ┆ str         │\n",
       "╞══════════╪══════════╪════════╪══════════════╪══════════════════════╪═══════════════╪═════════════╡\n",
       "│ ICD10    ┆ A53.9    ┆ 2      ┆ ANC.B9.DE111 ┆ Syphilis positive    ┆ Syphilis,     ┆ equivalent  │\n",
       "│          ┆          ┆        ┆              ┆                      ┆ unspecified   ┆             │\n",
       "│ ICD10    ┆ A53.9    ┆ 2      ┆ ANC.B9.DE108 ┆ Syphilis positive    ┆ Syphilis,     ┆ equivalent  │\n",
       "│          ┆          ┆        ┆              ┆                      ┆ unspecified   ┆             │\n",
       "│ ICD10    ┆ B18.1    ┆ 2      ┆ ANC.B9.DE72  ┆ Hepatitis B positive ┆ Chronic viral ┆ equivalent  │\n",
       "│          ┆          ┆        ┆              ┆                      ┆ hepatitis B   ┆             │\n",
       "│          ┆          ┆        ┆              ┆                      ┆ with…         ┆             │\n",
       "│ ICD10    ┆ B18.1    ┆ 2      ┆ ANC.B9.DE75  ┆ Hepatitis B positive ┆ Chronic viral ┆ equivalent  │\n",
       "│          ┆          ┆        ┆              ┆                      ┆ hepatitis B   ┆             │\n",
       "│          ┆          ┆        ┆              ┆                      ┆ with…         ┆             │\n",
       "│ ICD10    ┆ B18.2    ┆ 2      ┆ ANC.B9.DE93  ┆ Hepatitis C positive ┆ Chronic viral ┆ equivalent  │\n",
       "│          ┆          ┆        ┆              ┆                      ┆ hepatitis C   ┆             │\n",
       "│ …        ┆ …        ┆ …      ┆ …            ┆ …                    ┆ …             ┆ …           │\n",
       "│ SNOMEDCT ┆ 84229001 ┆ 3      ┆ ANC.B7.DE53  ┆ Gets tired easily    ┆ Fatigue       ┆ equivalent  │\n",
       "│          ┆          ┆        ┆              ┆                      ┆ (finding)     ┆             │\n",
       "│ SNOMEDCT ┆ 8517006  ┆ 2      ┆ ANC.B7.DE12  ┆ Recently quit        ┆ Ex-smoker     ┆ equivalent  │\n",
       "│          ┆          ┆        ┆              ┆ tobacco products     ┆ (finding)     ┆             │\n",
       "│ SNOMEDCT ┆ 8517006  ┆ 2      ┆ ANC.B6.DE154 ┆ Recently quit        ┆ Ex-smoker     ┆ equivalent  │\n",
       "│          ┆          ┆        ┆              ┆ tobacco products     ┆ (finding)     ┆             │\n",
       "│ SNOMEDCT ┆ 91175000 ┆ 2      ┆ ANC.B6.DE41  ┆ Convulsions          ┆ Seizure       ┆ equivalent  │\n",
       "│          ┆          ┆        ┆              ┆                      ┆ (finding)     ┆             │\n",
       "│ SNOMEDCT ┆ 91175000 ┆ 2      ┆ ANC.B5.DE52  ┆ Convulsing           ┆ Seizure       ┆ equivalent  │\n",
       "│          ┆          ┆        ┆              ┆                      ┆ (finding)     ┆             │\n",
       "└──────────┴──────────┴────────┴──────────────┴──────────────────────┴───────────────┴─────────────┘"
      ]
     },
     "execution_count": 12,
     "metadata": {},
     "output_type": "execute_result"
    }
   ],
   "source": [
    "# Oh my goodness, dear WHO, what have you done?\n",
    "many_to_one = (\n",
    "    df.group_by(\"target\", \"code\")\n",
    "    .agg(pl.count(\"who_anc_code\").alias(\"count_\"))\n",
    "    .filter(pl.col(\"count_\") > 1)\n",
    ")\n",
    "many_to_one.join(df, on=[\"target\", \"code\"]).sort([\"target\", \"code\"])"
   ]
  },
  {
   "cell_type": "code",
   "execution_count": 13,
   "metadata": {},
   "outputs": [],
   "source": [
    "import erdantic as erd\n",
    "\n",
    "erd.create(PatientIPS).draw(\"erd.svg\")"
   ]
  },
  {
   "cell_type": "code",
   "execution_count": null,
   "metadata": {},
   "outputs": [],
   "source": []
  }
 ],
 "metadata": {
  "kernelspec": {
   "display_name": ".venv",
   "language": "python",
   "name": "python3"
  },
  "language_info": {
   "codemirror_mode": {
    "name": "ipython",
    "version": 3
   },
   "file_extension": ".py",
   "mimetype": "text/x-python",
   "name": "python",
   "nbconvert_exporter": "python",
   "pygments_lexer": "ipython3",
   "version": "3.12.7"
  }
 },
 "nbformat": 4,
 "nbformat_minor": 2
}
