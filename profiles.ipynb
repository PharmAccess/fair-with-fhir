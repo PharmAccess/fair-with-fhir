{
 "cells": [
  {
   "cell_type": "markdown",
   "metadata": {},
   "source": [
    "# Demonstrating FHIR Profiling to define FAIR datasets\n",
    "\n",
    "## Approach\n",
    "\n",
    "### Why FHIR Profiling for FAIR dataset?\n",
    "\n",
    "FHIR Profiling is a mechanism through which a rulebook/codebook can be defined for healthcare data. Although originally intended to be used for localization of base FHIR versions, for example creating national profiles or profiles for a specific use case, we demonstrate here that the mechanism can be used define FAIR datasets and create data pipelines which validate incoming data in bulk.\n",
    "\n",
    "### Why use Python\n",
    "\n",
    "In this demonstrator notebook, we choose to implement the FHIR Profiling mechanism in Python, as it is intended as a way to validate FHIR data in bulk (the whole dataset). We choose to implement it specifically since Python is widely used in data engineering, in line with the approach of [FHIR Analytics in the Open Health Stack](https://developers.google.com/open-health-stack/fhir-analytics).\n",
    "\n",
    "### Logic\n",
    "\n",
    "[Pydantic v2](https://pydantic.dev/opensource), the most widely used data validation library, does all of the heavy lifting in this demonstrator. Do get pydantic to work with FHIR, we first generate FHIR R4B pydantic models using [fhir-py-types](https://github.com/beda-software/fhir-py-types). The output of this conversion is [`resources-r4b.py`](./resources_r4b.py) and has been included in this repository for convenience.\n",
    "\n",
    "We subsequently use pydantic to subclass the R4B resources, which effectively mimics the profiling mechanism of FHIR. We demonstrate that through this mechanism we can combine three FHIR profiles (R4B, IPS and WHO ANC) and also explicitly integrate [SNOMED IPS Terminology](https://www.snomed.org/international-patient-summary-terminology) into a single, consistent datamodel (you could even say ontology since it based on the full base FHIR R4B specification) which can be used to validate incoming, bulk data.\n",
    "\n",
    "In the following, we demonstrate how to:\n",
    "\n",
    "- Put more constrained cardinalities on FHIR Resources by subclassing Pydantic models\n",
    "- Define which coding systems should be used by implementing specifc field validators in pydantic. We choose to use [SNOMED IPS Terminology](https://www.snomed.org/international-patient-summary-terminology) as the default terminology, with mappings to other terminologies, most notably ICD-10, ICD-11 and LOINC.\n",
    "- Visualize the ontology of the Momcare dataset\n"
   ]
  },
  {
   "cell_type": "markdown",
   "metadata": {},
   "source": [
    "## Demonstrator\n",
    "\n",
    "### Setup R4B with pydantic\n"
   ]
  },
  {
   "cell_type": "code",
   "execution_count": null,
   "metadata": {},
   "outputs": [],
   "source": [
    "from itertools import repeat\n",
    "from typing import Any\n",
    "\n",
    "from pprint import pprint\n",
    "from pydantic import field_validator, ValidationError\n",
    "from resources import (\n",
    "    BaseModel,\n",
    "    CodeableConcept,\n",
    "    Coding,\n",
    "    Condition,\n",
    "    dateType,\n",
    "    Encounter,\n",
    "    HumanName,\n",
    "    Identifier,\n",
    "    List_,\n",
    "    Literal_,\n",
    "    Observation,\n",
    "    Organization,\n",
    "    Patient,\n",
    "    Procedure,\n",
    "    Reference,\n",
    "    Questionnaire,\n",
    "    QuestionnaireResponse,\n",
    ")\n",
    "\n",
    "\n",
    "def show_object(obj: BaseModel):\n",
    "    \"\"\"Prints obj attributes that are not None\"\"\"\n",
    "    for k, v in obj.__dict__.items():\n",
    "        if v:\n",
    "            pprint(f\"{k}: {getattr(obj, k)}\")"
   ]
  },
  {
   "cell_type": "markdown",
   "metadata": {},
   "source": [
    "Note that almost all fields in R4B resources are optional.\n"
   ]
  },
  {
   "cell_type": "code",
   "execution_count": 1,
   "metadata": {},
   "outputs": [
    {
     "ename": "NameError",
     "evalue": "name 'Patient' is not defined",
     "output_type": "error",
     "traceback": [
      "\u001b[0;31m---------------------------------------------------------------------------\u001b[0m",
      "\u001b[0;31mNameError\u001b[0m                                 Traceback (most recent call last)",
      "Cell \u001b[0;32mIn[1], line 1\u001b[0m\n\u001b[0;32m----> 1\u001b[0m \u001b[43mPatient\u001b[49m()\u001b[38;5;241m.\u001b[39m\u001b[38;5;18m__dict__\u001b[39m\n",
      "\u001b[0;31mNameError\u001b[0m: name 'Patient' is not defined"
     ]
    }
   ],
   "source": [
    "Patient().__dict__"
   ]
  },
  {
   "cell_type": "markdown",
   "metadata": {},
   "source": [
    "### FHIR IPS: adding cardinality constraints\n",
    "\n",
    "We need to add cardinality constraints to `Patient` and `Organization`. Also, we subclass `Reference` into `ReferencePatient` which is used in the IPS profile to refer back to the `Patient` resource.\n"
   ]
  },
  {
   "cell_type": "code",
   "execution_count": null,
   "metadata": {},
   "outputs": [
    {
     "name": "stdout",
     "output_type": "stream",
     "text": [
      "'resourceType: Patient'\n",
      "('name: [HumanName(id=None, id__ext=None, use=None, use__ext=None, text=None, '\n",
      " \"text__ext=None, given=['Jane'], given__ext=None, family='Doe', \"\n",
      " 'family__ext=None, prefix=None, prefix__ext=None, suffix=None, '\n",
      " 'suffix__ext=None, period=None, extension=None)]')\n",
      "'birthdate: 01-01-1980'\n"
     ]
    }
   ],
   "source": [
    "class PatientIPS(Patient):\n",
    "    \"PatientIPS has constrained 'name' and 'birthdate' as mandatory.\"\n",
    "\n",
    "    name: List_[HumanName] = None\n",
    "    birthdate: dateType = None\n",
    "\n",
    "\n",
    "# OrganizationIPS has constrained 'name' as mandatory\n",
    "class OrganizationIPS(Organization):\n",
    "    \"OrganizationIPS has constrained 'name'as mandatory.\"\n",
    "\n",
    "    name: str\n",
    "\n",
    "\n",
    "class ReferencePatient(Reference):\n",
    "    \"Reference(PatientIPS) has fixed value for type and reference string is mandatory.\"\n",
    "\n",
    "    type: str = \"http://hl7.org/fhir/uv/ips/StructureDefinition/Patient-uv-ips\"\n",
    "    reference: str\n",
    "\n",
    "\n",
    "# example PatientIPS. Note given name is a list, and there is only one family name\n",
    "show_object(\n",
    "    PatientIPS(name=[HumanName(given=[\"Jane\"], family=\"Doe\")], birthdate=\"01-01-1980\")\n",
    ")"
   ]
  },
  {
   "cell_type": "markdown",
   "metadata": {},
   "source": [
    "### FHIR IPS: adding cardinality constraints and constraining terminologies\n",
    "\n",
    "Besides cardinality constraints, , `ObservationIPS`, `ConditionIPS`, and `ProcedureIPS` also add contraints as to which valuesets/terminologies are to be used. We implement this using the `field_validator` function of Pydantic.\n",
    "\n",
    "More specifically, we use _after validators_, which means that first Pydantic's internal validation checks whether the incoming data conforms to the types specified by the FHIR profile, and then we do extra validation that checks value is included in the mandated valueset.\n",
    "\n",
    "First, consider the R4B `Observation` resource which we instantiate as follows:\n"
   ]
  },
  {
   "cell_type": "code",
   "execution_count": null,
   "metadata": {},
   "outputs": [
    {
     "name": "stdout",
     "output_type": "stream",
     "text": [
      "'resourceType: Observation'\n",
      "'status: registered'\n",
      "('code: id=None id__ext=None text=None text__ext=None coding=[Coding(id=None, '\n",
      " \"id__ext=None, system='https://loinc.org', system__ext=None, version=None, \"\n",
      " \"version__ext=None, display='Delivery date Estimated', display__ext=None, \"\n",
      " \"extension=None, userSelected=None, userSelected__ext=None, code='11778-8', \"\n",
      " 'code__ext=None)] extension=None')\n"
     ]
    }
   ],
   "source": [
    "codeEDD = CodeableConcept(\n",
    "    coding=[\n",
    "        Coding(\n",
    "            code=\"11778-8\",\n",
    "            system=\"https://loinc.org\",\n",
    "            display=\"Delivery date Estimated\",\n",
    "        )\n",
    "    ]\n",
    ")\n",
    "\n",
    "# R4B Observation, 'status' and 'code are mandatory\n",
    "show_object(\n",
    "    Observation(\n",
    "        status=\"registered\",\n",
    "        code=codeEDD,\n",
    "    )\n",
    ")"
   ]
  },
  {
   "cell_type": "markdown",
   "metadata": {},
   "source": [
    "Next, we implement the constraints of the IPS including validation of the codeable concepts:\n"
   ]
  },
  {
   "cell_type": "code",
   "execution_count": null,
   "metadata": {},
   "outputs": [
    {
     "name": "stdout",
     "output_type": "stream",
     "text": [
      "'resourceType: Observation'\n",
      "'status: registered'\n",
      "('subject: id=None id__ext=None '\n",
      " \"type='http://hl7.org/fhir/uv/ips/StructureDefinition/Patient-uv-ips' \"\n",
      " 'type__ext=None display=None display__ext=None extension=None '\n",
      " \"reference='https://some.fhir/server/jane-doe' reference__ext=None \"\n",
      " 'identifier=None')\n",
      "('code: id=None id__ext=None text=None text__ext=None coding=[Coding(id=None, '\n",
      " \"id__ext=None, system='https://loinc.org', system__ext=None, version=None, \"\n",
      " \"version__ext=None, display='Delivery date Estimated', display__ext=None, \"\n",
      " \"extension=None, userSelected=None, userSelected__ext=None, code='11778-8', \"\n",
      " 'code__ext=None)] extension=None')\n"
     ]
    }
   ],
   "source": [
    "class ObservationPregnancyEddIPS(Observation):\n",
    "    code: CodeableConcept\n",
    "    subject: ReferencePatient\n",
    "\n",
    "    @field_validator(\"code\", mode=\"after\")\n",
    "    @classmethod\n",
    "    def ensure_edd(cls, value: CodeableConcept) -> CodeableConcept:\n",
    "        allowed_codings = list(\n",
    "            zip(repeat(\"https://loinc.org\", 3), (\"11778-4\", \"11778-6\", \"11778-8\"))\n",
    "        )\n",
    "        codings = [(code.system, code.code) for code in value.coding]\n",
    "        if not all(coding in allowed_codings for coding in codings):\n",
    "            raise ValueError(\n",
    "                f\"Provided coding(s) {codings} should be one of {allowed_codings}\"\n",
    "            )\n",
    "        else:\n",
    "            return value\n",
    "\n",
    "\n",
    "show_object(\n",
    "    ObservationPregnancyEddIPS(\n",
    "        status=\"registered\",\n",
    "        subject=ReferencePatient(\n",
    "            reference=\"https://some.fhir/server/jane-doe\",\n",
    "        ),\n",
    "        code=codeEDD,\n",
    "    )\n",
    ")"
   ]
  },
  {
   "cell_type": "markdown",
   "metadata": {},
   "source": [
    "It is interesting to note that the FHIR IPS Profile only allows use of LOINC codes. There is a one-to-one mapping with SNOMED-CT for the following two codes:\n",
    "\n",
    "| LOINC                                                | SNOMED CT                                              |\n",
    "| ---------------------------------------------------- | ------------------------------------------------------ |\n",
    "| 11778-8: Delivery date Estimated                     | 161714006: Estimated date of delivery                  |\n",
    "| 11778-6: Delivery date Estimated from ovulation date | 289206005: Estimated date of delivery from last period |\n",
    "\n",
    "LOINC has an additional code 11778-6: Delivery date Estimated from last menstrual period, with no equivalent in SNOMED CT.\n",
    "\n",
    "SNOMED has an addtional code 738070007: Estimated date of delivery from antenatal ultrasound scan, with no equivalent in LOINC.\n",
    "\n",
    "Using the strict implementation of the IPS, this is instance of `ObservationPregnancyEddIPS` is not allowed:\n"
   ]
  },
  {
   "cell_type": "code",
   "execution_count": null,
   "metadata": {},
   "outputs": [
    {
     "name": "stdout",
     "output_type": "stream",
     "text": [
      "1 validation error for ObservationPregnancyEddIPS\n",
      "code\n",
      "  Value error, Provided coding(s) [('https://snomed.info/sct', '161714006')] should be one of [('https://loinc.org', '11778-4'), ('https://loinc.org', '11778-6'), ('https://loinc.org', '11778-8')] [type=value_error, input_value=CodeableConcept(id=None, ...=None)], extension=None), input_type=CodeableConcept]\n",
      "    For further information visit https://errors.pydantic.dev/2.10/v/value_error\n"
     ]
    }
   ],
   "source": [
    "try:\n",
    "    show_object(\n",
    "        ObservationPregnancyEddIPS(\n",
    "            status=\"registered\",\n",
    "            subject=ReferencePatient(\n",
    "                reference=\"https://some.fhir/server/dkapitan\",\n",
    "            ),\n",
    "            code=CodeableConcept(\n",
    "                coding=[\n",
    "                    Coding(\n",
    "                        code=\"161714006\",\n",
    "                        system=\"https://snomed.info/sct\",\n",
    "                        display=\"Estimated date of delivery\",\n",
    "                    )\n",
    "                ],\n",
    "            ),\n",
    "        )\n",
    "    )\n",
    "except ValueError as e:\n",
    "    print(e)"
   ]
  },
  {
   "cell_type": "code",
   "execution_count": null,
   "metadata": {},
   "outputs": [],
   "source": [
    "# TO DO: add field_validators for SNOMED IPS\n",
    "class ConditionIPS(Condition):\n",
    "    code: CodeableConcept\n",
    "    subject: ReferencePatient\n",
    "\n",
    "\n",
    "class ProcedureIPS(Procedure):\n",
    "    code: CodeableConcept\n",
    "    subject: ReferencePatient"
   ]
  },
  {
   "cell_type": "markdown",
   "metadata": {},
   "source": [
    "### Resources not included in IPS\n",
    "\n",
    "- Encounter\n",
    "- Questionnaire\n",
    "- QuestionnaireResponse\n"
   ]
  },
  {
   "cell_type": "markdown",
   "metadata": {},
   "source": []
  }
 ],
 "metadata": {
  "kernelspec": {
   "display_name": ".venv",
   "language": "python",
   "name": "python3"
  },
  "language_info": {
   "codemirror_mode": {
    "name": "ipython",
    "version": 3
   },
   "file_extension": ".py",
   "mimetype": "text/x-python",
   "name": "python",
   "nbconvert_exporter": "python",
   "pygments_lexer": "ipython3",
   "version": "3.11.11"
  }
 },
 "nbformat": 4,
 "nbformat_minor": 2
}
