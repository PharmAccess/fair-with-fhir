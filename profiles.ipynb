{
 "cells": [
  {
   "cell_type": "code",
   "execution_count": 1,
   "metadata": {},
   "outputs": [],
   "source": [
    "# require Python 3.12: using `type` soft keyword\n",
    "\n",
    "from pprint import pprint\n",
    "from resources import (\n",
    "    CodeableConcept,\n",
    "    Coding,\n",
    "    Condition,\n",
    "    dateType,\n",
    "    Encounter,\n",
    "    HumanName,\n",
    "    Identifier,\n",
    "    List_,\n",
    "    Literal_,\n",
    "    Observation,\n",
    "    Organization,\n",
    "    Patient,\n",
    "    Procedure,\n",
    "    Reference,\n",
    "    Questionnaire,\n",
    "    QuestionnaireResponse,\n",
    ")"
   ]
  },
  {
   "cell_type": "code",
   "execution_count": 2,
   "metadata": {},
   "outputs": [
    {
     "data": {
      "text/plain": [
       "{'resourceType': 'Patient',\n",
       " 'id': None,\n",
       " 'id__ext': None,\n",
       " 'meta': None,\n",
       " 'text': None,\n",
       " 'name': None,\n",
       " 'link': None,\n",
       " 'photo': None,\n",
       " 'active': None,\n",
       " 'active__ext': None,\n",
       " 'gender': None,\n",
       " 'gender__ext': None,\n",
       " 'telecom': None,\n",
       " 'address': None,\n",
       " 'contact': None,\n",
       " 'language': None,\n",
       " 'language__ext': None,\n",
       " 'contained': None,\n",
       " 'extension': None,\n",
       " 'birthDate': None,\n",
       " 'birthDate__ext': None,\n",
       " 'identifier': None,\n",
       " 'deceasedBoolean': None,\n",
       " 'deceasedBoolean__ext': None,\n",
       " 'deceasedDateTime': None,\n",
       " 'deceasedDateTime__ext': None,\n",
       " 'implicitRules': None,\n",
       " 'implicitRules__ext': None,\n",
       " 'maritalStatus': None,\n",
       " 'communication': None,\n",
       " 'multipleBirthBoolean': None,\n",
       " 'multipleBirthBoolean__ext': None,\n",
       " 'multipleBirthInteger': None,\n",
       " 'multipleBirthInteger__ext': None,\n",
       " 'modifierExtension': None,\n",
       " 'generalPractitioner': None,\n",
       " 'managingOrganization': None}"
      ]
     },
     "execution_count": 2,
     "metadata": {},
     "output_type": "execute_result"
    }
   ],
   "source": [
    "# resources are FHIR R4B resources, with all fields are optional\n",
    "patient_base = Patient()\n",
    "patient_base.__dict__"
   ]
  },
  {
   "cell_type": "code",
   "execution_count": 3,
   "metadata": {},
   "outputs": [
    {
     "name": "stdout",
     "output_type": "stream",
     "text": [
      "'resourceType: Patient'\n",
      "('name: [HumanName(id=None, id__ext=None, use=None, use__ext=None, text=None, '\n",
      " \"text__ext=None, given=['Daniel'], given__ext=None, family='Kapitan', \"\n",
      " 'family__ext=None, prefix=None, prefix__ext=None, suffix=None, '\n",
      " 'suffix__ext=None, period=None, extension=None)]')\n",
      "'birthdate: 09-09-1973'\n"
     ]
    }
   ],
   "source": [
    "# IPS has put constrained on Patient resource, some fields are now mandatory\n",
    "class PatientIPS(Patient):\n",
    "    name: List_[HumanName] = None\n",
    "    birthdate: dateType = None\n",
    "\n",
    "\n",
    "# note given name is a list, and there is only one family name\n",
    "patient_IPS = PatientIPS(\n",
    "    name=[HumanName(given=[\"Daniel\"], family=\"Kapitan\")], birthdate=\"09-09-1973\"\n",
    ")\n",
    "for k, v in patient_IPS.__dict__.items():\n",
    "    if v:\n",
    "        pprint(f\"{k}: {getattr(patient_IPS, k)}\")"
   ]
  },
  {
   "cell_type": "code",
   "execution_count": null,
   "metadata": {},
   "outputs": [
    {
     "ename": "ValidationError",
     "evalue": "1 validation error for CodeableConcept\ncoding.0\n  Input should be a valid dictionary or instance of Coding [type=model_type, input_value=typing.Unpack[typing.List[EddMethod]], input_type=_UnpackGenericAlias]\n    For further information visit https://errors.pydantic.dev/2.10/v/model_type",
     "output_type": "error",
     "traceback": [
      "\u001b[0;31m---------------------------------------------------------------------------\u001b[0m",
      "\u001b[0;31mValidationError\u001b[0m                           Traceback (most recent call last)",
      "Cell \u001b[0;32mIn[11], line 24\u001b[0m\n\u001b[1;32m      1\u001b[0m \u001b[38;5;66;03m# Observation\u001b[39;00m\n\u001b[1;32m      2\u001b[0m \u001b[38;5;66;03m# fixed code list how EDD is estimated using LOINC codes\u001b[39;00m\n\u001b[1;32m      3\u001b[0m \u001b[38;5;66;03m# https://build.fhir.org/ig/HL7/fhir-ips/ValueSet-edd-method-uv-ips.html\u001b[39;00m\n\u001b[1;32m      4\u001b[0m \u001b[38;5;66;03m# note that ObservationPregnancyEddIPS removes bodysite, method, specimen, device, referenceRange and component\u001b[39;00m\n\u001b[1;32m      5\u001b[0m \u001b[38;5;66;03m# we haven't implemented that here\u001b[39;00m\n\u001b[1;32m      7\u001b[0m \u001b[38;5;28mtype\u001b[39m EddMethod \u001b[38;5;241m=\u001b[39m Literal_[\n\u001b[1;32m      8\u001b[0m     Coding(\n\u001b[1;32m      9\u001b[0m         code\u001b[38;5;241m=\u001b[39m\u001b[38;5;124m\"\u001b[39m\u001b[38;5;124m11778-8\u001b[39m\u001b[38;5;124m\"\u001b[39m, system\u001b[38;5;241m=\u001b[39m\u001b[38;5;124m\"\u001b[39m\u001b[38;5;124mhttps://loinc.org\u001b[39m\u001b[38;5;124m\"\u001b[39m, display\u001b[38;5;241m=\u001b[39m\u001b[38;5;124m\"\u001b[39m\u001b[38;5;124mDelivery date Estimated\u001b[39m\u001b[38;5;124m\"\u001b[39m\n\u001b[0;32m   (...)\u001b[0m\n\u001b[1;32m     20\u001b[0m     ),\n\u001b[1;32m     21\u001b[0m ]\n\u001b[0;32m---> 24\u001b[0m \u001b[38;5;28;43;01mclass\u001b[39;49;00m\u001b[38;5;250;43m \u001b[39;49m\u001b[38;5;21;43;01mObservationPregnancyEddIPS\u001b[39;49;00m\u001b[43m(\u001b[49m\u001b[43mObservation\u001b[49m\u001b[43m)\u001b[49m\u001b[43m:\u001b[49m\n\u001b[1;32m     25\u001b[0m \u001b[43m    \u001b[49m\u001b[43mcode\u001b[49m\u001b[43m:\u001b[49m\u001b[43m \u001b[49m\u001b[43mCodeableConcept\u001b[49m\u001b[43m(\u001b[49m\u001b[43mcoding\u001b[49m\u001b[38;5;241;43m=\u001b[39;49m\u001b[43mList_\u001b[49m\u001b[43m[\u001b[49m\u001b[43mEddMethod\u001b[49m\u001b[43m]\u001b[49m\u001b[43m)\u001b[49m\n\u001b[1;32m     26\u001b[0m \u001b[43m    \u001b[49m\u001b[43msubject\u001b[49m\u001b[43m:\u001b[49m\u001b[43m \u001b[49m\u001b[38;5;28;43mstr\u001b[39;49m\n",
      "Cell \u001b[0;32mIn[11], line 25\u001b[0m, in \u001b[0;36mObservationPregnancyEddIPS\u001b[0;34m()\u001b[0m\n\u001b[1;32m     24\u001b[0m \u001b[38;5;28;01mclass\u001b[39;00m\u001b[38;5;250m \u001b[39m\u001b[38;5;21;01mObservationPregnancyEddIPS\u001b[39;00m(Observation):\n\u001b[0;32m---> 25\u001b[0m     code: \u001b[43mCodeableConcept\u001b[49m\u001b[43m(\u001b[49m\u001b[43mcoding\u001b[49m\u001b[38;5;241;43m=\u001b[39;49m\u001b[43mList_\u001b[49m\u001b[43m[\u001b[49m\u001b[43mEddMethod\u001b[49m\u001b[43m]\u001b[49m\u001b[43m)\u001b[49m\n\u001b[1;32m     26\u001b[0m     subject: \u001b[38;5;28mstr\u001b[39m\n",
      "File \u001b[0;32m~/git/pharmaccess/fair-with-fhir/.venv/lib/python3.12/site-packages/pydantic/main.py:214\u001b[0m, in \u001b[0;36mBaseModel.__init__\u001b[0;34m(self, **data)\u001b[0m\n\u001b[1;32m    212\u001b[0m \u001b[38;5;66;03m# `__tracebackhide__` tells pytest and some other tools to omit this function from tracebacks\u001b[39;00m\n\u001b[1;32m    213\u001b[0m __tracebackhide__ \u001b[38;5;241m=\u001b[39m \u001b[38;5;28;01mTrue\u001b[39;00m\n\u001b[0;32m--> 214\u001b[0m validated_self \u001b[38;5;241m=\u001b[39m \u001b[38;5;28;43mself\u001b[39;49m\u001b[38;5;241;43m.\u001b[39;49m\u001b[43m__pydantic_validator__\u001b[49m\u001b[38;5;241;43m.\u001b[39;49m\u001b[43mvalidate_python\u001b[49m\u001b[43m(\u001b[49m\u001b[43mdata\u001b[49m\u001b[43m,\u001b[49m\u001b[43m \u001b[49m\u001b[43mself_instance\u001b[49m\u001b[38;5;241;43m=\u001b[39;49m\u001b[38;5;28;43mself\u001b[39;49m\u001b[43m)\u001b[49m\n\u001b[1;32m    215\u001b[0m \u001b[38;5;28;01mif\u001b[39;00m \u001b[38;5;28mself\u001b[39m \u001b[38;5;129;01mis\u001b[39;00m \u001b[38;5;129;01mnot\u001b[39;00m validated_self:\n\u001b[1;32m    216\u001b[0m     warnings\u001b[38;5;241m.\u001b[39mwarn(\n\u001b[1;32m    217\u001b[0m         \u001b[38;5;124m'\u001b[39m\u001b[38;5;124mA custom validator is returning a value other than `self`.\u001b[39m\u001b[38;5;130;01m\\n\u001b[39;00m\u001b[38;5;124m'\u001b[39m\n\u001b[1;32m    218\u001b[0m         \u001b[38;5;124m\"\u001b[39m\u001b[38;5;124mReturning anything other than `self` from a top level model validator isn\u001b[39m\u001b[38;5;124m'\u001b[39m\u001b[38;5;124mt supported when validating via `__init__`.\u001b[39m\u001b[38;5;130;01m\\n\u001b[39;00m\u001b[38;5;124m\"\u001b[39m\n\u001b[1;32m    219\u001b[0m         \u001b[38;5;124m'\u001b[39m\u001b[38;5;124mSee the `model_validator` docs (https://docs.pydantic.dev/latest/concepts/validators/#model-validators) for more details.\u001b[39m\u001b[38;5;124m'\u001b[39m,\n\u001b[1;32m    220\u001b[0m         stacklevel\u001b[38;5;241m=\u001b[39m\u001b[38;5;241m2\u001b[39m,\n\u001b[1;32m    221\u001b[0m     )\n",
      "\u001b[0;31mValidationError\u001b[0m: 1 validation error for CodeableConcept\ncoding.0\n  Input should be a valid dictionary or instance of Coding [type=model_type, input_value=typing.Unpack[typing.List[EddMethod]], input_type=_UnpackGenericAlias]\n    For further information visit https://errors.pydantic.dev/2.10/v/model_type"
     ]
    }
   ],
   "source": [
    "# Observation\n",
    "# fixed code list how EDD is estimated using LOINC codes\n",
    "# https://build.fhir.org/ig/HL7/fhir-ips/ValueSet-edd-method-uv-ips.html\n",
    "# note that ObservationPregnancyEddIPS removes bodysite, method, specimen, device, referenceRange and component\n",
    "# we haven't implemented that here\n",
    "# Main point that we demonstrate is value binding\n",
    "\n",
    "type EddMethod = Literal_[\n",
    "    Coding(\n",
    "        code=\"11778-8\", system=\"https://loinc.org\", display=\"Delivery date Estimated\"\n",
    "    ),\n",
    "    Coding(\n",
    "        code=\"11778-6\",\n",
    "        system=\"https://loinc.org\",\n",
    "        display=\"Delivery date Estimated from last mentrual period\",\n",
    "    ),\n",
    "    Coding(\n",
    "        code=\"11778-4\",\n",
    "        system=\"https://loinc.org\",\n",
    "        display=\"Delivery date Estimated from ovulation date\",\n",
    "    ),\n",
    "]\n",
    "\n",
    "\n",
    "class ObservationPregnancyEddIPS(Observation):\n",
    "    code: CodeableConcept(coding=List_[EddMethod])\n",
    "    subject: str\n",
    "\n",
    "\n",
    "some_edd = ObservationPregnancyEddIPS(\n",
    "    code=CodeableConcept(\n",
    "        coding=Coding(\n",
    "            code=\"11778-8\",\n",
    "            system=\"https://loinc.org\",\n",
    "            display=\"Delivery date Estimated\",\n",
    "        )\n",
    "    ),\n",
    "    subject=\"https://some.fhir/server/dkapitan\",\n",
    ")"
   ]
  },
  {
   "cell_type": "markdown",
   "metadata": {},
   "source": []
  },
  {
   "cell_type": "code",
   "execution_count": 8,
   "metadata": {},
   "outputs": [
    {
     "data": {
      "text/plain": [
       "['__class__',\n",
       " '__delattr__',\n",
       " '__dir__',\n",
       " '__doc__',\n",
       " '__eq__',\n",
       " '__format__',\n",
       " '__ge__',\n",
       " '__getattribute__',\n",
       " '__getitem__',\n",
       " '__getstate__',\n",
       " '__gt__',\n",
       " '__hash__',\n",
       " '__init__',\n",
       " '__init_subclass__',\n",
       " '__le__',\n",
       " '__lt__',\n",
       " '__module__',\n",
       " '__name__',\n",
       " '__ne__',\n",
       " '__new__',\n",
       " '__or__',\n",
       " '__parameters__',\n",
       " '__reduce__',\n",
       " '__reduce_ex__',\n",
       " '__repr__',\n",
       " '__ror__',\n",
       " '__setattr__',\n",
       " '__sizeof__',\n",
       " '__str__',\n",
       " '__subclasshook__',\n",
       " '__type_params__',\n",
       " '__value__']"
      ]
     },
     "execution_count": 8,
     "metadata": {},
     "output_type": "execute_result"
    }
   ],
   "source": [
    "EddMethod"
   ]
  },
  {
   "cell_type": "code",
   "execution_count": null,
   "metadata": {},
   "outputs": [
    {
     "data": {
      "text/plain": [
       "{'resourceType': FieldInfo(annotation=Literal['Patient'], required=False, default='Patient'),\n",
       " 'id': FieldInfo(annotation=Union[str, NoneType], required=False, default=None),\n",
       " 'id__ext': FieldInfo(annotation=Union[Element, NoneType], required=False, default=None, alias='_id', alias_priority=2),\n",
       " 'meta': FieldInfo(annotation=Union[Meta, NoneType], required=False, default=None),\n",
       " 'text': FieldInfo(annotation=Union[Narrative, NoneType], required=False, default=None),\n",
       " 'name': FieldInfo(annotation=Union[List[HumanName], NoneType], required=False, default=None),\n",
       " 'link': FieldInfo(annotation=Union[List[PatientLink], NoneType], required=False, default=None),\n",
       " 'photo': FieldInfo(annotation=Union[List[Attachment], NoneType], required=False, default=None),\n",
       " 'active': FieldInfo(annotation=Union[bool, NoneType], required=False, default=None),\n",
       " 'active__ext': FieldInfo(annotation=Union[Element, NoneType], required=False, default=None, alias='_active', alias_priority=2),\n",
       " 'gender': FieldInfo(annotation=Union[str, NoneType], required=False, default=None),\n",
       " 'gender__ext': FieldInfo(annotation=Union[Element, NoneType], required=False, default=None, alias='_gender', alias_priority=2),\n",
       " 'telecom': FieldInfo(annotation=Union[List[ContactPoint], NoneType], required=False, default=None),\n",
       " 'address': FieldInfo(annotation=Union[List[Address], NoneType], required=False, default=None),\n",
       " 'contact': FieldInfo(annotation=Union[List[PatientContact], NoneType], required=False, default=None),\n",
       " 'language': FieldInfo(annotation=Union[str, NoneType], required=False, default=None),\n",
       " 'language__ext': FieldInfo(annotation=Union[Element, NoneType], required=False, default=None, alias='_language', alias_priority=2),\n",
       " 'contained': FieldInfo(annotation=Union[List[AnyResource], NoneType], required=False, default=None),\n",
       " 'extension': FieldInfo(annotation=Union[List[Extension], NoneType], required=False, default=None),\n",
       " 'birthDate': FieldInfo(annotation=Union[str, NoneType], required=False, default=None),\n",
       " 'birthDate__ext': FieldInfo(annotation=Union[Element, NoneType], required=False, default=None, alias='_birthDate', alias_priority=2),\n",
       " 'identifier': FieldInfo(annotation=Union[List[Identifier], NoneType], required=False, default=None),\n",
       " 'deceasedBoolean': FieldInfo(annotation=Union[bool, NoneType], required=False, default=None),\n",
       " 'deceasedBoolean__ext': FieldInfo(annotation=Union[Element, NoneType], required=False, default=None, alias='_deceasedBoolean', alias_priority=2),\n",
       " 'deceasedDateTime': FieldInfo(annotation=Union[str, NoneType], required=False, default=None),\n",
       " 'deceasedDateTime__ext': FieldInfo(annotation=Union[Element, NoneType], required=False, default=None, alias='_deceasedDateTime', alias_priority=2),\n",
       " 'implicitRules': FieldInfo(annotation=Union[str, NoneType], required=False, default=None),\n",
       " 'implicitRules__ext': FieldInfo(annotation=Union[Element, NoneType], required=False, default=None, alias='_implicitRules', alias_priority=2),\n",
       " 'maritalStatus': FieldInfo(annotation=Union[CodeableConcept, NoneType], required=False, default=None),\n",
       " 'communication': FieldInfo(annotation=Union[List[PatientCommunication], NoneType], required=False, default=None),\n",
       " 'multipleBirthBoolean': FieldInfo(annotation=Union[bool, NoneType], required=False, default=None),\n",
       " 'multipleBirthBoolean__ext': FieldInfo(annotation=Union[Element, NoneType], required=False, default=None, alias='_multipleBirthBoolean', alias_priority=2),\n",
       " 'multipleBirthInteger': FieldInfo(annotation=Union[int, NoneType], required=False, default=None),\n",
       " 'multipleBirthInteger__ext': FieldInfo(annotation=Union[Element, NoneType], required=False, default=None, alias='_multipleBirthInteger', alias_priority=2),\n",
       " 'modifierExtension': FieldInfo(annotation=Union[List[Extension], NoneType], required=False, default=None),\n",
       " 'generalPractitioner': FieldInfo(annotation=Union[List[Reference], NoneType], required=False, default=None),\n",
       " 'managingOrganization': FieldInfo(annotation=Union[Reference, NoneType], required=False, default=None)}"
      ]
     },
     "execution_count": 6,
     "metadata": {},
     "output_type": "execute_result"
    }
   ],
   "source": [
    "Patient.model_fields"
   ]
  },
  {
   "cell_type": "code",
   "execution_count": null,
   "metadata": {},
   "outputs": [],
   "source": []
  }
 ],
 "metadata": {
  "kernelspec": {
   "display_name": ".venv",
   "language": "python",
   "name": "python3"
  },
  "language_info": {
   "codemirror_mode": {
    "name": "ipython",
    "version": 3
   },
   "file_extension": ".py",
   "mimetype": "text/x-python",
   "name": "python",
   "nbconvert_exporter": "python",
   "pygments_lexer": "ipython3",
   "version": "3.11.7"
  }
 },
 "nbformat": 4,
 "nbformat_minor": 2
}
