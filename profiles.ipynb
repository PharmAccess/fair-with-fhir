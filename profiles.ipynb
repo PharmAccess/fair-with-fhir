{
 "cells": [
  {
   "cell_type": "markdown",
   "metadata": {},
   "source": [
    "# Demonstrating FHIR Profiling to define FAIR datasets\n",
    "\n",
    "## Approach\n",
    "\n",
    "### Why FHIR Profiling for FAIR dataset?\n",
    "\n",
    "FHIR Profiling is a mechanism through which a rulebook/codebook can be defined for healthcare data. Although originally intended to be used for localization of a FHIR standards, for example creating national profiles or profiles for a specific use case, we demonstrate here that the mechanism can be used define FAIR datasets.\n",
    "\n",
    "### Why use Python\n",
    "\n",
    "In this demonstrator notebook, we choose to implement the FHIR Profiling mechanism in Python, as it is intended as a way to validate FHIR data in bulk (the whole dataset). We choose to implement it specifically since Python is widely used in data engineering (see Open Health Stack FHIR Pipelines).\n",
    "\n",
    "### Logic\n",
    "\n",
    "[pydantic v2](https://pydantic.dev/opensource), the most widely used data validation library, does all of the heavy lifting in this demonstrator. Do get pydantic to work with FHIR, we first generate FHIR R4B pydantic models using [fhir-py-types](https://github.com/beda-software/fhir-py-types). The output of this conversion is `resources.py` and has been included in the repository for convenience.\n",
    "\n",
    "We subsequently pydantic to subclass the R4B resources, which effectively mimics the profiling mechanism of FHIR. We demonstrate that through this mechanism we can combine three FHIR profiles (R4B, IPS and WHO ANC) and also explicitly integrate [SNOMED IPS Terminology](https://www.snomed.org/international-patient-summary-terminology) into a single, consistent datamodel (you could even say ontology since it based in Python) which can be used to validate incoming, bulk data.\n",
    "\n",
    "In the following, we demonstrate how to:\n",
    "\n",
    "- Put more constrained cardinalities on FHIR Resources by subclassing pydantic models\n",
    "- Define which coding systems should be used by implementing specifc\n",
    "- Show how [SNOMED IPS Terminology](https://www.snomed.org/international-patient-summary-terminology) is used to validate `ProcedureIPS`\n"
   ]
  },
  {
   "cell_type": "markdown",
   "metadata": {},
   "source": [
    "## Demonstrator\n",
    "\n",
    "### Setup R4B with pydantic\n"
   ]
  },
  {
   "cell_type": "code",
   "execution_count": 1,
   "metadata": {},
   "outputs": [],
   "source": [
    "# require Python 3.12: using `type` soft keyword\n",
    "\n",
    "from enum import Enum\n",
    "from pprint import pprint\n",
    "from resources import (\n",
    "    BaseModel,\n",
    "    CodeableConcept,\n",
    "    Coding,\n",
    "    Condition,\n",
    "    dateType,\n",
    "    Encounter,\n",
    "    HumanName,\n",
    "    Identifier,\n",
    "    List_,\n",
    "    Literal_,\n",
    "    Observation,\n",
    "    Organization,\n",
    "    Patient,\n",
    "    Procedure,\n",
    "    Reference,\n",
    "    Questionnaire,\n",
    "    QuestionnaireResponse,\n",
    ")\n",
    "\n",
    "\n",
    "def show_object(obj: BaseModel):\n",
    "    \"\"\"Prints obj attributes that are not not\"\"\"\n",
    "    for k, v in obj.__dict__.items():\n",
    "        if v:\n",
    "            pprint(f\"{k}: {getattr(obj, k)}\")"
   ]
  },
  {
   "cell_type": "markdown",
   "metadata": {},
   "source": [
    "Note that almost all fields in R4B resources are optional.\n"
   ]
  },
  {
   "cell_type": "code",
   "execution_count": 15,
   "metadata": {},
   "outputs": [
    {
     "data": {
      "text/plain": [
       "{'resourceType': 'Patient',\n",
       " 'id': None,\n",
       " 'id__ext': None,\n",
       " 'meta': None,\n",
       " 'text': None,\n",
       " 'name': None,\n",
       " 'link': None,\n",
       " 'photo': None,\n",
       " 'active': None,\n",
       " 'active__ext': None,\n",
       " 'gender': None,\n",
       " 'gender__ext': None,\n",
       " 'telecom': None,\n",
       " 'address': None,\n",
       " 'contact': None,\n",
       " 'language': None,\n",
       " 'language__ext': None,\n",
       " 'contained': None,\n",
       " 'extension': None,\n",
       " 'birthDate': None,\n",
       " 'birthDate__ext': None,\n",
       " 'identifier': None,\n",
       " 'deceasedBoolean': None,\n",
       " 'deceasedBoolean__ext': None,\n",
       " 'deceasedDateTime': None,\n",
       " 'deceasedDateTime__ext': None,\n",
       " 'implicitRules': None,\n",
       " 'implicitRules__ext': None,\n",
       " 'maritalStatus': None,\n",
       " 'communication': None,\n",
       " 'multipleBirthBoolean': None,\n",
       " 'multipleBirthBoolean__ext': None,\n",
       " 'multipleBirthInteger': None,\n",
       " 'multipleBirthInteger__ext': None,\n",
       " 'modifierExtension': None,\n",
       " 'generalPractitioner': None,\n",
       " 'managingOrganization': None}"
      ]
     },
     "execution_count": 15,
     "metadata": {},
     "output_type": "execute_result"
    }
   ],
   "source": [
    "Patient().__dict__"
   ]
  },
  {
   "cell_type": "markdown",
   "metadata": {},
   "source": [
    "### FHIR IPS: adding cardinality constrains\n",
    "\n",
    "For `Patient`, `Organization`, `Condition`, `Encounter` we only need to add cardinality constraints. Also, we subclass `Reference` into `ReferencePatient` which is used in the IPS profile to refer back to the `Patient` resource.\n"
   ]
  },
  {
   "cell_type": "code",
   "execution_count": 3,
   "metadata": {},
   "outputs": [
    {
     "name": "stdout",
     "output_type": "stream",
     "text": [
      "'resourceType: Patient'\n",
      "('name: [HumanName(id=None, id__ext=None, use=None, use__ext=None, text=None, '\n",
      " \"text__ext=None, given=['Daniel'], given__ext=None, family='Kapitan', \"\n",
      " 'family__ext=None, prefix=None, prefix__ext=None, suffix=None, '\n",
      " 'suffix__ext=None, period=None, extension=None)]')\n",
      "'birthdate: 09-09-1973'\n"
     ]
    }
   ],
   "source": [
    "# PatientIPS has constrained 'name' and 'birthdate' as mandatory\n",
    "class PatientIPS(Patient):\n",
    "    name: List_[HumanName] = None\n",
    "    birthdate: dateType = None\n",
    "\n",
    "\n",
    "#\n",
    "class ReferencePatient(Reference):\n",
    "    type: str = \"http://hl7.org/fhir/uv/ips/StructureDefinition/Patient-uv-ips\"\n",
    "    reference: str\n",
    "\n",
    "\n",
    "# example PatientIPS. Note given name is a list, and there is only one family name\n",
    "show_object(\n",
    "    PatientIPS(\n",
    "        name=[HumanName(given=[\"Daniel\"], family=\"Kapitan\")], birthdate=\"09-09-1973\"\n",
    "    )\n",
    ")"
   ]
  },
  {
   "cell_type": "markdown",
   "metadata": {},
   "source": [
    "### FHIR IPS: constraining terminologies\n"
   ]
  },
  {
   "cell_type": "code",
   "execution_count": 16,
   "metadata": {},
   "outputs": [],
   "source": [
    "# TO DO: add field_validators for SNOMED IPS\n",
    "class ConditionIPS(Condition):\n",
    "    code: CodeableConcept\n",
    "    subject: ReferencePatient\n",
    "\n",
    "\n",
    "class ProcedureIPS(Procedure):\n",
    "    code: CodeableConcept\n",
    "    subject: ReferencePatient"
   ]
  },
  {
   "cell_type": "code",
   "execution_count": 4,
   "metadata": {},
   "outputs": [],
   "source": [
    "codeEDD = CodeableConcept(\n",
    "    coding=[\n",
    "        Coding(\n",
    "            code=\"11778-8\",\n",
    "            system=\"https://loinc.org\",\n",
    "            display=\"Delivery date Estimated\",\n",
    "        )\n",
    "    ]\n",
    ")"
   ]
  },
  {
   "cell_type": "code",
   "execution_count": 5,
   "metadata": {},
   "outputs": [
    {
     "data": {
      "text/plain": [
       "Observation(resourceType='Observation', id=None, id__ext=None, meta=None, text=None, note=None, focus=None, partOf=None, status='registered', status__ext=None, issued=None, issued__ext=None, method=None, device=None, basedOn=None, subject=Reference(id=None, id__ext=None, type=None, type__ext=None, display=None, display__ext=None, extension=None, reference='https://some.fhir/server/dkapitan', reference__ext=None, identifier=None), language=None, language__ext=None, category=None, valueQuantity=None, valueCodeableConcept=None, valueString=None, valueString__ext=None, valueBoolean=None, valueBoolean__ext=None, valueInteger=None, valueInteger__ext=None, valueRange=None, valueRatio=None, valueSampledData=None, valueTime=None, valueTime__ext=None, valueDateTime=None, valueDateTime__ext=None, valuePeriod=None, bodySite=None, specimen=None, contained=None, extension=None, encounter=None, performer=None, hasMember=None, component=None, identifier=None, derivedFrom=None, effectiveDateTime=None, effectiveDateTime__ext=None, effectivePeriod=None, effectiveTiming=None, effectiveInstant=None, effectiveInstant__ext=None, implicitRules=None, implicitRules__ext=None, interpretation=None, referenceRange=None, dataAbsentReason=None, modifierExtension=None, code=CodeableConcept(id=None, id__ext=None, text=None, text__ext=None, coding=[Coding(id=None, id__ext=None, system='https://loinc.org', system__ext=None, version=None, version__ext=None, display='Delivery date Estimated', display__ext=None, extension=None, userSelected=None, userSelected__ext=None, code='11778-8', code__ext=None)], extension=None))"
      ]
     },
     "execution_count": 5,
     "metadata": {},
     "output_type": "execute_result"
    }
   ],
   "source": [
    "Observation(\n",
    "    status=\"registered\",\n",
    "    code=codeEDD,\n",
    "    subject=Reference(\n",
    "        reference=\"https://some.fhir/server/dkapitan\",\n",
    "    ),\n",
    ")"
   ]
  },
  {
   "cell_type": "code",
   "execution_count": 6,
   "metadata": {},
   "outputs": [],
   "source": [
    "# this is a bit of a roundabout way to put constraints on the allowed coding\n",
    "# but it serves to demonstrate the mechanism\n",
    "# TO DO: implement with field_validators\n",
    "# https://docs.pydantic.dev/latest/concepts/validators/#field-validators\n",
    "class CodingEdd(Enum):\n",
    "    _11778_8 = Coding(\n",
    "        code=\"11778-8\", system=\"https://loinc.org\", display=\"Delivery date Estimated\"\n",
    "    )\n",
    "    _11778_6 = Coding(\n",
    "        code=\"11778-6\",\n",
    "        system=\"https://loinc.org\",\n",
    "        display=\"Delivery date Estimated from last menstrual period\",\n",
    "    )\n",
    "    _11778_4 = Coding(\n",
    "        code=\"11778-4\",\n",
    "        system=\"https://loinc.org\",\n",
    "        display=\"Delivery date Estimated from ovulation date\",\n",
    "    )\n",
    "\n",
    "\n",
    "class CodeableConceptEDD(CodeableConcept):\n",
    "    coding: List_[Literal_[CodingEdd._11778_8, CodingEdd._11778_6, CodingEdd._11778_4]]"
   ]
  },
  {
   "cell_type": "code",
   "execution_count": 9,
   "metadata": {},
   "outputs": [
    {
     "name": "stdout",
     "output_type": "stream",
     "text": [
      "'resourceType: Observation'\n",
      "'status: registered'\n",
      "('subject: id=None id__ext=None '\n",
      " \"type='http://hl7.org/fhir/uv/ips/StructureDefinition/Patient-uv-ips' \"\n",
      " 'type__ext=None display=None display__ext=None extension=None '\n",
      " \"reference='https://some.fhir/server/dkapitan' reference__ext=None \"\n",
      " 'identifier=None')\n",
      "('code: id=None id__ext=None text=None text__ext=None '\n",
      " 'coding=[<CodingEdd._11778_8: Coding(id=None, id__ext=None, '\n",
      " \"system='https://loinc.org', system__ext=None, version=None, \"\n",
      " \"version__ext=None, display='Delivery date Estimated', display__ext=None, \"\n",
      " \"extension=None, userSelected=None, userSelected__ext=None, code='11778-8', \"\n",
      " 'code__ext=None)>] extension=None')\n"
     ]
    }
   ],
   "source": [
    "# Observation\n",
    "# fixed code list how EDD is estimated using LOINC codes\n",
    "# https://build.fhir.org/ig/HL7/fhir-ips/ValueSet-edd-method-uv-ips.html\n",
    "# note that ObservationPregnancyEddIPS removes bodysite, method, specimen, device, referenceRange and component\n",
    "# we haven't implemented that here\n",
    "# Main point that we demonstrate is value binding\n",
    "class ObservationPregnancyEddIPS(Observation):\n",
    "    code: CodeableConceptEDD\n",
    "    subject: ReferencePatient\n",
    "\n",
    "\n",
    "show_object(\n",
    "    ObservationPregnancyEddIPS(\n",
    "        status=\"registered\",\n",
    "        code=CodeableConceptEDD(coding=[CodingEdd._11778_8]),\n",
    "        subject=ReferencePatient(\n",
    "            reference=\"https://some.fhir/server/dkapitan\",\n",
    "        ),\n",
    "    )\n",
    ")"
   ]
  },
  {
   "cell_type": "markdown",
   "metadata": {},
   "source": [
    "### Resources not included in IPS\n",
    "\n",
    "- Encounter\n",
    "- Questionnaire\n",
    "- QuestionnaireResponse\n"
   ]
  },
  {
   "cell_type": "markdown",
   "metadata": {},
   "source": []
  },
  {
   "cell_type": "markdown",
   "metadata": {},
   "source": [
    "### WHO ANC: Measures\n",
    "\n",
    "- Note we are using value sets with mapping to SNOMED IPS\n",
    "- Also constraints are not relevant (too detailed for Momcare)\n",
    "- We do use Measures (downstream)\n"
   ]
  },
  {
   "cell_type": "code",
   "execution_count": 26,
   "metadata": {},
   "outputs": [],
   "source": [
    "import fsspec\n",
    "import polars as pl\n",
    "\n",
    "conceptmaps = [\n",
    "    f\"https://build.fhir.org/ig/dhes/smart-anc/ConceptMap-{system}.json\"\n",
    "    for system in [\"ICD-10\", \"ICD-11\", \"ICF\", \"ICHI\", \"LOINC\", \"SNOMED-CT\"]\n",
    "]"
   ]
  },
  {
   "cell_type": "code",
   "execution_count": 29,
   "metadata": {},
   "outputs": [],
   "source": [
    "with fsspec.open(conceptmaps[0]) as f:\n",
    "    df = pl.read_json(f)"
   ]
  },
  {
   "cell_type": "code",
   "execution_count": 31,
   "metadata": {},
   "outputs": [
    {
     "ename": "AttributeError",
     "evalue": "'DataFrame' object has no attribute 'group'",
     "output_type": "error",
     "traceback": [
      "\u001b[0;31m---------------------------------------------------------------------------\u001b[0m",
      "\u001b[0;31mAttributeError\u001b[0m                            Traceback (most recent call last)",
      "Cell \u001b[0;32mIn[31], line 1\u001b[0m\n\u001b[0;32m----> 1\u001b[0m \u001b[43mdf\u001b[49m\u001b[38;5;241;43m.\u001b[39;49m\u001b[43mgroup\u001b[49m\n",
      "\u001b[0;31mAttributeError\u001b[0m: 'DataFrame' object has no attribute 'group'"
     ]
    }
   ],
   "source": [
    "df.group"
   ]
  }
 ],
 "metadata": {
  "kernelspec": {
   "display_name": ".venv",
   "language": "python",
   "name": "python3"
  },
  "language_info": {
   "codemirror_mode": {
    "name": "ipython",
    "version": 3
   },
   "file_extension": ".py",
   "mimetype": "text/x-python",
   "name": "python",
   "nbconvert_exporter": "python",
   "pygments_lexer": "ipython3",
   "version": "3.12.7"
  }
 },
 "nbformat": 4,
 "nbformat_minor": 2
}
