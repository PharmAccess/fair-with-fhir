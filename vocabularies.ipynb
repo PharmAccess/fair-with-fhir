{
 "cells": [
  {
   "cell_type": "markdown",
   "metadata": {},
   "source": [
    "### WHO ANC ValueSet\n",
    "\n",
    "- Note we are using value sets with mapping to SNOMED IPS\n",
    "- Also constraints are not relevant (too detailed for Momcare)\n",
    "- We do use Measures (downstream)\n"
   ]
  },
  {
   "cell_type": "code",
   "execution_count": 1,
   "metadata": {},
   "outputs": [],
   "source": [
    "import fsspec\n",
    "import polars as pl\n",
    "\n",
    "\n",
    "systems = [\"ICD-10\", \"ICD-11\", \"ICF\", \"ICHI\", \"LOINC\", \"SNOMED-CT\"]\n",
    "\n",
    "\n",
    "def parse_conceptmap(system: str) -> pl.DataFrame:\n",
    "    \"Generate flattened mapping tables from WHO ANC conceptmap.\"\n",
    "\n",
    "    if system not in systems:\n",
    "        return None\n",
    "\n",
    "    with fsspec.open(\n",
    "        f\"https://build.fhir.org/ig/dhes/smart-anc/ConceptMap-{system}.json\"\n",
    "    ) as f:\n",
    "        df = pl.read_json(f)\n",
    "\n",
    "    unnest_group = pl.col(\"group\").list.explode().struct.unnest()\n",
    "    unnest_element = pl.col(\"element\").list.explode().struct.unnest().list.explode()\n",
    "\n",
    "    return (\n",
    "        df.select(unnest_group)\n",
    "        .select(unnest_element)\n",
    "        .select(\n",
    "            pl.col(pl.String).name.prefix(\"who_anc_\"),\n",
    "            pl.lit(system.replace(\"-\", \"\")).alias(\"target\"),\n",
    "            pl.col(\"target\").struct.unnest(),\n",
    "        )\n",
    "    )"
   ]
  },
  {
   "cell_type": "code",
   "execution_count": 2,
   "metadata": {},
   "outputs": [],
   "source": [
    "df = pl.concat([parse_conceptmap(system) for system in systems], how=\"diagonal\")"
   ]
  },
  {
   "cell_type": "code",
   "execution_count": 3,
   "metadata": {},
   "outputs": [
    {
     "data": {
      "text/html": [
       "<div><style>\n",
       ".dataframe > thead > tr,\n",
       ".dataframe > tbody > tr {\n",
       "  text-align: right;\n",
       "  white-space: pre-wrap;\n",
       "}\n",
       "</style>\n",
       "<small>shape: (1, 1)</small><table border=\"1\" class=\"dataframe\"><thead><tr><th>who_anc_code</th></tr><tr><td>u32</td></tr></thead><tbody><tr><td>735</td></tr></tbody></table></div>"
      ],
      "text/plain": [
       "shape: (1, 1)\n",
       "┌──────────────┐\n",
       "│ who_anc_code │\n",
       "│ ---          │\n",
       "│ u32          │\n",
       "╞══════════════╡\n",
       "│ 735          │\n",
       "└──────────────┘"
      ]
     },
     "execution_count": 3,
     "metadata": {},
     "output_type": "execute_result"
    }
   ],
   "source": [
    "# 735 unique WHO ANC codes\n",
    "df.select(pl.col(\"who_anc_code\").n_unique())"
   ]
  },
  {
   "cell_type": "code",
   "execution_count": 4,
   "metadata": {},
   "outputs": [
    {
     "data": {
      "text/html": [
       "<div><style>\n",
       ".dataframe > thead > tr,\n",
       ".dataframe > tbody > tr {\n",
       "  text-align: right;\n",
       "  white-space: pre-wrap;\n",
       "}\n",
       "</style>\n",
       "<small>shape: (6, 3)</small><table border=\"1\" class=\"dataframe\"><thead><tr><th>target</th><th>who_anc_code</th><th>code</th></tr><tr><td>str</td><td>u32</td><td>u32</td></tr></thead><tbody><tr><td>&quot;SNOMEDCT&quot;</td><td>725</td><td>430</td></tr><tr><td>&quot;ICD10&quot;</td><td>532</td><td>188</td></tr><tr><td>&quot;LOINC&quot;</td><td>385</td><td>145</td></tr><tr><td>&quot;ICF&quot;</td><td>100</td><td>32</td></tr><tr><td>&quot;ICD11&quot;</td><td>550</td><td>225</td></tr><tr><td>&quot;ICHI&quot;</td><td>163</td><td>42</td></tr></tbody></table></div>"
      ],
      "text/plain": [
       "shape: (6, 3)\n",
       "┌──────────┬──────────────┬──────┐\n",
       "│ target   ┆ who_anc_code ┆ code │\n",
       "│ ---      ┆ ---          ┆ ---  │\n",
       "│ str      ┆ u32          ┆ u32  │\n",
       "╞══════════╪══════════════╪══════╡\n",
       "│ SNOMEDCT ┆ 725          ┆ 430  │\n",
       "│ ICD10    ┆ 532          ┆ 188  │\n",
       "│ LOINC    ┆ 385          ┆ 145  │\n",
       "│ ICF      ┆ 100          ┆ 32   │\n",
       "│ ICD11    ┆ 550          ┆ 225  │\n",
       "│ ICHI     ┆ 163          ┆ 42   │\n",
       "└──────────┴──────────────┴──────┘"
      ]
     },
     "execution_count": 4,
     "metadata": {},
     "output_type": "execute_result"
    }
   ],
   "source": [
    "# Coverage varies widely, SNOMED most complete\n",
    "# Multiple WHO ANC code can map to the same target code\n",
    "df.group_by(\"target\").agg(pl.n_unique(\"who_anc_code\", \"code\"))"
   ]
  },
  {
   "cell_type": "code",
   "execution_count": 5,
   "metadata": {},
   "outputs": [
    {
     "data": {
      "text/html": [
       "<div><style>\n",
       ".dataframe > thead > tr,\n",
       ".dataframe > tbody > tr {\n",
       "  text-align: right;\n",
       "  white-space: pre-wrap;\n",
       "}\n",
       "</style>\n",
       "<small>shape: (1_830, 7)</small><table border=\"1\" class=\"dataframe\"><thead><tr><th>target</th><th>code</th><th>count_</th><th>who_anc_code</th><th>who_anc_display</th><th>equivalence</th><th>display</th></tr><tr><td>str</td><td>str</td><td>u32</td><td>str</td><td>str</td><td>str</td><td>str</td></tr></thead><tbody><tr><td>&quot;ICD10&quot;</td><td>&quot;A53.9&quot;</td><td>2</td><td>&quot;ANC.B9.DE111&quot;</td><td>&quot;Syphilis positive&quot;</td><td>&quot;equivalent&quot;</td><td>&quot;Syphilis, unspecified&quot;</td></tr><tr><td>&quot;ICD10&quot;</td><td>&quot;A53.9&quot;</td><td>2</td><td>&quot;ANC.B9.DE108&quot;</td><td>&quot;Syphilis positive&quot;</td><td>&quot;equivalent&quot;</td><td>&quot;Syphilis, unspecified&quot;</td></tr><tr><td>&quot;ICD10&quot;</td><td>&quot;B18.1&quot;</td><td>2</td><td>&quot;ANC.B9.DE72&quot;</td><td>&quot;Hepatitis B positive&quot;</td><td>&quot;equivalent&quot;</td><td>&quot;Chronic viral hepatitis B with…</td></tr><tr><td>&quot;ICD10&quot;</td><td>&quot;B18.1&quot;</td><td>2</td><td>&quot;ANC.B9.DE75&quot;</td><td>&quot;Hepatitis B positive&quot;</td><td>&quot;equivalent&quot;</td><td>&quot;Chronic viral hepatitis B with…</td></tr><tr><td>&quot;ICD10&quot;</td><td>&quot;B18.2&quot;</td><td>2</td><td>&quot;ANC.B9.DE93&quot;</td><td>&quot;Hepatitis C positive&quot;</td><td>&quot;equivalent&quot;</td><td>&quot;Chronic viral hepatitis C&quot;</td></tr><tr><td>&hellip;</td><td>&hellip;</td><td>&hellip;</td><td>&hellip;</td><td>&hellip;</td><td>&hellip;</td><td>&hellip;</td></tr><tr><td>&quot;SNOMEDCT&quot;</td><td>&quot;84229001&quot;</td><td>3</td><td>&quot;ANC.B7.DE53&quot;</td><td>&quot;Gets tired easily&quot;</td><td>&quot;equivalent&quot;</td><td>&quot;Fatigue (finding)&quot;</td></tr><tr><td>&quot;SNOMEDCT&quot;</td><td>&quot;8517006&quot;</td><td>2</td><td>&quot;ANC.B7.DE12&quot;</td><td>&quot;Recently quit tobacco products&quot;</td><td>&quot;equivalent&quot;</td><td>&quot;Ex-smoker (finding)&quot;</td></tr><tr><td>&quot;SNOMEDCT&quot;</td><td>&quot;8517006&quot;</td><td>2</td><td>&quot;ANC.B6.DE154&quot;</td><td>&quot;Recently quit tobacco products&quot;</td><td>&quot;equivalent&quot;</td><td>&quot;Ex-smoker (finding)&quot;</td></tr><tr><td>&quot;SNOMEDCT&quot;</td><td>&quot;91175000&quot;</td><td>2</td><td>&quot;ANC.B6.DE41&quot;</td><td>&quot;Convulsions&quot;</td><td>&quot;equivalent&quot;</td><td>&quot;Seizure (finding)&quot;</td></tr><tr><td>&quot;SNOMEDCT&quot;</td><td>&quot;91175000&quot;</td><td>2</td><td>&quot;ANC.B5.DE52&quot;</td><td>&quot;Convulsing&quot;</td><td>&quot;equivalent&quot;</td><td>&quot;Seizure (finding)&quot;</td></tr></tbody></table></div>"
      ],
      "text/plain": [
       "shape: (1_830, 7)\n",
       "┌──────────┬──────────┬────────┬──────────────┬──────────────────────┬─────────────┬───────────────┐\n",
       "│ target   ┆ code     ┆ count_ ┆ who_anc_code ┆ who_anc_display      ┆ equivalence ┆ display       │\n",
       "│ ---      ┆ ---      ┆ ---    ┆ ---          ┆ ---                  ┆ ---         ┆ ---           │\n",
       "│ str      ┆ str      ┆ u32    ┆ str          ┆ str                  ┆ str         ┆ str           │\n",
       "╞══════════╪══════════╪════════╪══════════════╪══════════════════════╪═════════════╪═══════════════╡\n",
       "│ ICD10    ┆ A53.9    ┆ 2      ┆ ANC.B9.DE111 ┆ Syphilis positive    ┆ equivalent  ┆ Syphilis,     │\n",
       "│          ┆          ┆        ┆              ┆                      ┆             ┆ unspecified   │\n",
       "│ ICD10    ┆ A53.9    ┆ 2      ┆ ANC.B9.DE108 ┆ Syphilis positive    ┆ equivalent  ┆ Syphilis,     │\n",
       "│          ┆          ┆        ┆              ┆                      ┆             ┆ unspecified   │\n",
       "│ ICD10    ┆ B18.1    ┆ 2      ┆ ANC.B9.DE72  ┆ Hepatitis B positive ┆ equivalent  ┆ Chronic viral │\n",
       "│          ┆          ┆        ┆              ┆                      ┆             ┆ hepatitis B   │\n",
       "│          ┆          ┆        ┆              ┆                      ┆             ┆ with…         │\n",
       "│ ICD10    ┆ B18.1    ┆ 2      ┆ ANC.B9.DE75  ┆ Hepatitis B positive ┆ equivalent  ┆ Chronic viral │\n",
       "│          ┆          ┆        ┆              ┆                      ┆             ┆ hepatitis B   │\n",
       "│          ┆          ┆        ┆              ┆                      ┆             ┆ with…         │\n",
       "│ ICD10    ┆ B18.2    ┆ 2      ┆ ANC.B9.DE93  ┆ Hepatitis C positive ┆ equivalent  ┆ Chronic viral │\n",
       "│          ┆          ┆        ┆              ┆                      ┆             ┆ hepatitis C   │\n",
       "│ …        ┆ …        ┆ …      ┆ …            ┆ …                    ┆ …           ┆ …             │\n",
       "│ SNOMEDCT ┆ 84229001 ┆ 3      ┆ ANC.B7.DE53  ┆ Gets tired easily    ┆ equivalent  ┆ Fatigue       │\n",
       "│          ┆          ┆        ┆              ┆                      ┆             ┆ (finding)     │\n",
       "│ SNOMEDCT ┆ 8517006  ┆ 2      ┆ ANC.B7.DE12  ┆ Recently quit        ┆ equivalent  ┆ Ex-smoker     │\n",
       "│          ┆          ┆        ┆              ┆ tobacco products     ┆             ┆ (finding)     │\n",
       "│ SNOMEDCT ┆ 8517006  ┆ 2      ┆ ANC.B6.DE154 ┆ Recently quit        ┆ equivalent  ┆ Ex-smoker     │\n",
       "│          ┆          ┆        ┆              ┆ tobacco products     ┆             ┆ (finding)     │\n",
       "│ SNOMEDCT ┆ 91175000 ┆ 2      ┆ ANC.B6.DE41  ┆ Convulsions          ┆ equivalent  ┆ Seizure       │\n",
       "│          ┆          ┆        ┆              ┆                      ┆             ┆ (finding)     │\n",
       "│ SNOMEDCT ┆ 91175000 ┆ 2      ┆ ANC.B5.DE52  ┆ Convulsing           ┆ equivalent  ┆ Seizure       │\n",
       "│          ┆          ┆        ┆              ┆                      ┆             ┆ (finding)     │\n",
       "└──────────┴──────────┴────────┴──────────────┴──────────────────────┴─────────────┴───────────────┘"
      ]
     },
     "execution_count": 5,
     "metadata": {},
     "output_type": "execute_result"
    }
   ],
   "source": [
    "# Oh my goodness, dear WHO, what have you done?\n",
    "many_to_one = (\n",
    "    df.group_by(\"target\", \"code\")\n",
    "    .agg(pl.count(\"who_anc_code\").alias(\"count_\"))\n",
    "    .filter(pl.col(\"count_\") > 1)\n",
    ")\n",
    "many_to_one.join(df, on=[\"target\", \"code\"]).sort([\"target\", \"code\"])"
   ]
  },
  {
   "cell_type": "code",
   "execution_count": null,
   "metadata": {},
   "outputs": [
    {
     "ename": "ModuleNotFoundError",
     "evalue": "No module named 'erdantic'",
     "output_type": "error",
     "traceback": [
      "\u001b[0;31m---------------------------------------------------------------------------\u001b[0m",
      "\u001b[0;31mModuleNotFoundError\u001b[0m                       Traceback (most recent call last)",
      "Cell \u001b[0;32mIn[6], line 1\u001b[0m\n\u001b[0;32m----> 1\u001b[0m \u001b[38;5;28;01mimport\u001b[39;00m\u001b[38;5;250m \u001b[39m\u001b[38;5;21;01merdantic\u001b[39;00m\u001b[38;5;250m \u001b[39m\u001b[38;5;28;01mas\u001b[39;00m\u001b[38;5;250m \u001b[39m\u001b[38;5;21;01merd\u001b[39;00m\n\u001b[1;32m      3\u001b[0m erd\u001b[38;5;241m.\u001b[39mcreate(PatientIPS)\u001b[38;5;241m.\u001b[39mdraw(\u001b[38;5;124m\"\u001b[39m\u001b[38;5;124merd.svg\u001b[39m\u001b[38;5;124m\"\u001b[39m)\n",
      "\u001b[0;31mModuleNotFoundError\u001b[0m: No module named 'erdantic'"
     ]
    }
   ],
   "source": [
    "# import erdantic as erd\n",
    "\n",
    "# erd.create(PatientIPS).draw(\"erd.svg\")"
   ]
  }
 ],
 "metadata": {
  "kernelspec": {
   "display_name": ".venv",
   "language": "python",
   "name": "python3"
  },
  "language_info": {
   "codemirror_mode": {
    "name": "ipython",
    "version": 3
   },
   "file_extension": ".py",
   "mimetype": "text/x-python",
   "name": "python",
   "nbconvert_exporter": "python",
   "pygments_lexer": "ipython3",
   "version": "3.11.11"
  }
 },
 "nbformat": 4,
 "nbformat_minor": 2
}
